{
 "cells": [
  {
   "cell_type": "code",
   "execution_count": 1,
   "id": "b9319b29-59f0-49a4-8787-8db34249bcac",
   "metadata": {},
   "outputs": [],
   "source": [
    "# For Data Dictionary\n",
    "import pandas as pd"
   ]
  },
  {
   "cell_type": "markdown",
   "id": "2d15c498-babc-4f08-b72a-f16eace28ce1",
   "metadata": {},
   "source": [
    "<html>\n",
    "<style>\n",
    "sup {\n",
    "    vertical-align: super;\n",
    "    font-size: smaller;\n",
    "}\n",
    "</style>\n",
    "<p>Capstone. Case Study: Application of Anthropogenic WSM \n",
    "<h1> <center>DATA CLEANING, EDA & PRE-PROCESSING\n",
    "<sup><h3> NEKTON AND BENTHIC ENVIRONMENTS. </h3></sup><center></center></h1>\n",
    "</html>\n"
   ]
  },
  {
   "cell_type": "markdown",
   "id": "16f2f145-3b2c-48b3-992e-e40d1cde7528",
   "metadata": {},
   "source": [
    "#### Indexes"
   ]
  },
  {
   "cell_type": "markdown",
   "id": "fcabda5d-c780-46f6-9928-cb0bcd8e59d4",
   "metadata": {},
   "source": [
    "##### Data Dictionary"
   ]
  },
  {
   "cell_type": "markdown",
   "id": "83863823-a0d3-41e1-ac75-ec0865421a46",
   "metadata": {},
   "source": [
    "##### Abbreviations"
   ]
  },
  {
   "cell_type": "markdown",
   "id": "6be98a6f-4d85-4dfe-b3ad-1a087e34bda6",
   "metadata": {
    "jp-MarkdownHeadingCollapsed": true
   },
   "source": [
    "Types:<br>\n",
    "Measurements.\n",
    "- **SDI** :   Shannon Diversity Index\n",
    "- **WQI**:   Water Quality Index\n",
    "- **TBNI**:  Tampa Bay Nekton Index\n",
    "- **TBBI**:  Tampa Bay Benthic Index\n",
    "\n",
    "Organization:\n",
    "- **TBEP**:  Tampa Bay Estuary Program\n",
    "- **FWC**:   Florida Fish and Wildlife Commission\n",
    "- **NOAA**:  National Oceanic and Atmospheric\n",
    "- **NMFS**:  National Marine Fisheries Service\n",
    "- **HC**:    Hillsborough County\n",
    "- **HCPA**:  Hillsborough COunty Property Appraiser\n",
    "\n",
    "Locations:\n",
    "- **HB**: Hillsborough Bay\n",
    "- **MTB**: Middle Tampa Bay\n",
    "- **OTB**: Old Tampa Bay\n",
    "- **LTB**: Lower Tampa Bay\n",
    "Other:\n",
    "- **Nit**: Nitrates\n",
    "- **Phos**: Phosphate"
   ]
  },
  {
   "cell_type": "markdown",
   "id": "187e8af9-da83-44d6-bc8d-c84dd61579c9",
   "metadata": {},
   "source": [
    "##### Data Dictionary"
   ]
  },
  {
   "cell_type": "code",
   "execution_count": 113,
   "id": "3071cf4c-4741-4b6e-9bd6-1644b358583b",
   "metadata": {},
   "outputs": [
    {
     "data": {
      "text/plain": [
       "'J:\\\\Brainstation\\\\BS Git\\\\Tampa_Apollo_AnthropogenicIndex\\\\notebooks'"
      ]
     },
     "execution_count": 113,
     "metadata": {},
     "output_type": "execute_result"
    }
   ],
   "source": [
    "pwd"
   ]
  },
  {
   "cell_type": "code",
   "execution_count": 115,
   "id": "b6e1291c-2fb6-4b7c-a670-a33520082cb8",
   "metadata": {},
   "outputs": [],
   "source": [
    "run scripts/datadictionary.py"
   ]
  },
  {
   "cell_type": "code",
   "execution_count": 101,
   "id": "170266fe-fadf-4c10-8583-44072a14debd",
   "metadata": {},
   "outputs": [
    {
     "data": {
      "text/html": [
       "<div>\n",
       "<style scoped>\n",
       "    .dataframe tbody tr th:only-of-type {\n",
       "        vertical-align: middle;\n",
       "    }\n",
       "\n",
       "    .dataframe tbody tr th {\n",
       "        vertical-align: top;\n",
       "    }\n",
       "\n",
       "    .dataframe thead th {\n",
       "        text-align: right;\n",
       "    }\n",
       "</style>\n",
       "<table border=\"1\" class=\"dataframe\">\n",
       "  <thead>\n",
       "    <tr style=\"text-align: right;\">\n",
       "      <th></th>\n",
       "      <th>0</th>\n",
       "    </tr>\n",
       "  </thead>\n",
       "  <tbody>\n",
       "    <tr>\n",
       "      <th>SDI</th>\n",
       "      <td>Shannon Diversity Index</td>\n",
       "    </tr>\n",
       "    <tr>\n",
       "      <th>WQI</th>\n",
       "      <td>Water Quality Index</td>\n",
       "    </tr>\n",
       "    <tr>\n",
       "      <th>TBNI</th>\n",
       "      <td>Tampa Bay Nekton Index</td>\n",
       "    </tr>\n",
       "    <tr>\n",
       "      <th>TBBI</th>\n",
       "      <td>Tampa Bay Benthic Index</td>\n",
       "    </tr>\n",
       "    <tr>\n",
       "      <th>HB</th>\n",
       "      <td>Hillsborough Bay</td>\n",
       "    </tr>\n",
       "    <tr>\n",
       "      <th>MTB</th>\n",
       "      <td>Middle Tampa Bay</td>\n",
       "    </tr>\n",
       "    <tr>\n",
       "      <th>OTB</th>\n",
       "      <td>Old Tampa Bay</td>\n",
       "    </tr>\n",
       "    <tr>\n",
       "      <th>LTB</th>\n",
       "      <td>Lower Tampa Bay</td>\n",
       "    </tr>\n",
       "    <tr>\n",
       "      <th>Nit</th>\n",
       "      <td>Nitrates</td>\n",
       "    </tr>\n",
       "    <tr>\n",
       "      <th>Phos</th>\n",
       "      <td>Phosphate</td>\n",
       "    </tr>\n",
       "  </tbody>\n",
       "</table>\n",
       "</div>"
      ],
      "text/plain": [
       "                            0\n",
       "SDI   Shannon Diversity Index\n",
       "WQI       Water Quality Index\n",
       "TBNI   Tampa Bay Nekton Index\n",
       "TBBI  Tampa Bay Benthic Index\n",
       "HB           Hillsborough Bay\n",
       "MTB          Middle Tampa Bay\n",
       "OTB             Old Tampa Bay\n",
       "LTB           Lower Tampa Bay\n",
       "Nit                  Nitrates\n",
       "Phos                Phosphate"
      ]
     },
     "execution_count": 101,
     "metadata": {},
     "output_type": "execute_result"
    }
   ],
   "source": [
    "dic_df"
   ]
  },
  {
   "cell_type": "code",
   "execution_count": 89,
   "id": "d56cdbfc-3a50-4be4-b658-e7464dde0088",
   "metadata": {},
   "outputs": [
    {
     "ename": "SyntaxError",
     "evalue": "invalid syntax (2981785864.py, line 1)",
     "output_type": "error",
     "traceback": [
      "\u001b[1;36m  Cell \u001b[1;32mIn[89], line 1\u001b[1;36m\u001b[0m\n\u001b[1;33m    dic_df=pd.DataFrame(dic_df,index=dic_df.columns='abbreviation')\u001b[0m\n\u001b[1;37m                                                   ^\u001b[0m\n\u001b[1;31mSyntaxError\u001b[0m\u001b[1;31m:\u001b[0m invalid syntax\n"
     ]
    }
   ],
   "source": []
  },
  {
   "cell_type": "code",
   "execution_count": 95,
   "id": "04efde7e-ef89-4d51-b8ca-318228d420f2",
   "metadata": {},
   "outputs": [],
   "source": []
  },
  {
   "cell_type": "code",
   "execution_count": 99,
   "id": "bde69ee2-3563-4003-a6a4-bddeafe3cce2",
   "metadata": {},
   "outputs": [
    {
     "ename": "TypeError",
     "evalue": "DataFrame.__init__() got an unexpected keyword argument 'col'",
     "output_type": "error",
     "traceback": [
      "\u001b[1;31m---------------------------------------------------------------------------\u001b[0m",
      "\u001b[1;31mTypeError\u001b[0m                                 Traceback (most recent call last)",
      "Cell \u001b[1;32mIn[99], line 1\u001b[0m\n\u001b[1;32m----> 1\u001b[0m pd\u001b[38;5;241m.\u001b[39mDataFrame(dic_ser,col\u001b[38;5;241m=\u001b[39m\u001b[38;5;124m'\u001b[39m\u001b[38;5;124mmeaning\u001b[39m\u001b[38;5;124m'\u001b[39m)\n",
      "\u001b[1;31mTypeError\u001b[0m: DataFrame.__init__() got an unexpected keyword argument 'col'"
     ]
    }
   ],
   "source": []
  },
  {
   "cell_type": "markdown",
   "id": "44bc6ea1-4dd6-4d32-a82b-c830376769ff",
   "metadata": {},
   "source": [
    "#### Overview\n",
    "\n",
    "This notebook serves to preprocess the data for the marine environments. The 2 marine environments included in this preliminary study are part of the PELAGIC system and the BENTHIC system in all subsections of Tampa Bay (defined below). \n",
    "\n",
    "\n",
    "DESCRIPTIONS.<br>\n",
    "* NEKTON. <br>\n",
    "    In the open ocean, Nekton describes organisms of all types (animals, plants, archea) that live in the pelagic system. The pelagic system is defined as the area between the surface and the sea floor. Granted  Nekton should be understood as the species of fish that move freely through the water and the bay, for example a fish that moves from reef to reef finding fish. This doesn't change the implications of this particulary study, we notate this as part of documentation and understanding of any user or reader of this code.\n",
    "\n",
    "* BENTHIC. <br>\n",
    "    The Benthic system is defined as the sea floor - both on the surface of the sea floor and the sediments of the sea floor. The types of organisms found here are distinct from any other system and have little overlap in species.\n"
   ]
  },
  {
   "cell_type": "code",
   "execution_count": 47,
   "id": "157f2806-bf05-4189-9ec0-6887b7ba3f5f",
   "metadata": {},
   "outputs": [
    {
     "data": {
      "text/plain": [
       "'J:\\\\Brainstation'"
      ]
     },
     "execution_count": 47,
     "metadata": {},
     "output_type": "execute_result"
    }
   ],
   "source": [
    "pwd"
   ]
  },
  {
   "cell_type": "code",
   "execution_count": 102,
   "id": "c175a422-ee80-4f2d-acfa-24a5e407bf6d",
   "metadata": {},
   "outputs": [
    {
     "ename": "ModuleNotFoundError",
     "evalue": "No module named 'chronos'",
     "output_type": "error",
     "traceback": [
      "\u001b[1;31m---------------------------------------------------------------------------\u001b[0m",
      "\u001b[1;31mModuleNotFoundError\u001b[0m                       Traceback (most recent call last)",
      "Cell \u001b[1;32mIn[102], line 1\u001b[0m\n\u001b[1;32m----> 1\u001b[0m \u001b[38;5;28;01mfrom\u001b[39;00m \u001b[38;5;21;01mchronos\u001b[39;00m \u001b[38;5;28;01mimport\u001b[39;00m ChronosPipeline\n",
      "\u001b[1;31mModuleNotFoundError\u001b[0m: No module named 'chronos'"
     ]
    }
   ],
   "source": [
    "from chronos import ChronosPipeline"
   ]
  },
  {
   "cell_type": "code",
   "execution_count": 104,
   "id": "aaf842d0-7f14-4f3a-a99c-bb24db64fe18",
   "metadata": {},
   "outputs": [],
   "source": [
    "import torch"
   ]
  },
  {
   "cell_type": "code",
   "execution_count": 106,
   "id": "259173f9-67d2-4a69-bb2d-85126fe4a790",
   "metadata": {},
   "outputs": [
    {
     "ename": "ImportError",
     "evalue": "cannot import name 'ChronosPipeline' from 'chronos' (C:\\Users\\Ajax\\miniconda3\\envs\\bs\\Lib\\site-packages\\chronos\\__init__.py)",
     "output_type": "error",
     "traceback": [
      "\u001b[1;31m---------------------------------------------------------------------------\u001b[0m",
      "\u001b[1;31mImportError\u001b[0m                               Traceback (most recent call last)",
      "Cell \u001b[1;32mIn[106], line 1\u001b[0m\n\u001b[1;32m----> 1\u001b[0m \u001b[38;5;28;01mfrom\u001b[39;00m \u001b[38;5;21;01mchronos\u001b[39;00m \u001b[38;5;28;01mimport\u001b[39;00m ChronosPipeline\n",
      "\u001b[1;31mImportError\u001b[0m: cannot import name 'ChronosPipeline' from 'chronos' (C:\\Users\\Ajax\\miniconda3\\envs\\bs\\Lib\\site-packages\\chronos\\__init__.py)"
     ]
    }
   ],
   "source": [
    "from chronos import ChronosPipeline"
   ]
  },
  {
   "cell_type": "code",
   "execution_count": 107,
   "id": "337d62bc-b39f-444c-8253-c7075cdaf272",
   "metadata": {},
   "outputs": [
    {
     "name": "stdout",
     "output_type": "stream",
     "text": [
      "Requirement already satisfied: chronos in c:\\users\\ajax\\miniconda3\\envs\\bs\\lib\\site-packages (0.3)\n",
      "Note: you may need to restart the kernel to use updated packages.\n"
     ]
    }
   ],
   "source": [
    "pip install chronos"
   ]
  },
  {
   "cell_type": "code",
   "execution_count": 108,
   "id": "e621b441-d050-4007-aa30-ee0d2f92c977",
   "metadata": {},
   "outputs": [],
   "source": [
    "import chronos"
   ]
  },
  {
   "cell_type": "code",
   "execution_count": 111,
   "id": "63d13317-5a6e-4a94-8bdf-bf5b54e31831",
   "metadata": {},
   "outputs": [
    {
     "ename": "ImportError",
     "evalue": "cannot import name 'ChronosPipeline' from 'chronos' (C:\\Users\\Ajax\\miniconda3\\envs\\bs\\Lib\\site-packages\\chronos\\__init__.py)",
     "output_type": "error",
     "traceback": [
      "\u001b[1;31m---------------------------------------------------------------------------\u001b[0m",
      "\u001b[1;31mImportError\u001b[0m                               Traceback (most recent call last)",
      "Cell \u001b[1;32mIn[111], line 1\u001b[0m\n\u001b[1;32m----> 1\u001b[0m \u001b[38;5;28;01mfrom\u001b[39;00m \u001b[38;5;21;01mchronos\u001b[39;00m \u001b[38;5;28;01mimport\u001b[39;00m ChronosPipeline\n",
      "\u001b[1;31mImportError\u001b[0m: cannot import name 'ChronosPipeline' from 'chronos' (C:\\Users\\Ajax\\miniconda3\\envs\\bs\\Lib\\site-packages\\chronos\\__init__.py)"
     ]
    }
   ],
   "source": [
    "from chronos import ChronosPipeline"
   ]
  },
  {
   "cell_type": "code",
   "execution_count": 112,
   "id": "dd9b9ab6-6e7d-4f83-ac9e-20dd3ac4ce23",
   "metadata": {},
   "outputs": [
    {
     "name": "stdout",
     "output_type": "stream",
     "text": [
      "Collecting git+https://github.com/amazon-science/chronos-forecasting.git\n",
      "  Cloning https://github.com/amazon-science/chronos-forecasting.git to c:\\users\\ajax\\appdata\\local\\temp\\pip-req-build-ujbp08bf\n",
      "  Resolved https://github.com/amazon-science/chronos-forecasting.git to commit 133761a90145f77971a08c49bfc7cca318b2df9b\n",
      "  Installing build dependencies: started\n",
      "  Installing build dependencies: finished with status 'done'\n",
      "  Getting requirements to build wheel: started\n",
      "  Getting requirements to build wheel: finished with status 'done'\n",
      "  Preparing metadata (pyproject.toml): started\n",
      "  Preparing metadata (pyproject.toml): finished with status 'done'\n",
      "Collecting accelerate<1,>=0.32 (from chronos-forecasting==1.4.1)\n",
      "  Downloading accelerate-0.34.2-py3-none-any.whl.metadata (19 kB)\n",
      "Requirement already satisfied: torch<2.6,>=2.0 in c:\\users\\ajax\\miniconda3\\envs\\bs\\lib\\site-packages (from chronos-forecasting==1.4.1) (2.5.1)\n",
      "Requirement already satisfied: transformers<4.48,>=4.30 in c:\\users\\ajax\\miniconda3\\envs\\bs\\lib\\site-packages (from chronos-forecasting==1.4.1) (4.46.3)\n",
      "Requirement already satisfied: numpy<3.0.0,>=1.17 in c:\\users\\ajax\\miniconda3\\envs\\bs\\lib\\site-packages (from accelerate<1,>=0.32->chronos-forecasting==1.4.1) (1.26.4)\n",
      "Requirement already satisfied: packaging>=20.0 in c:\\users\\ajax\\miniconda3\\envs\\bs\\lib\\site-packages (from accelerate<1,>=0.32->chronos-forecasting==1.4.1) (24.1)\n",
      "Requirement already satisfied: psutil in c:\\users\\ajax\\miniconda3\\envs\\bs\\lib\\site-packages (from accelerate<1,>=0.32->chronos-forecasting==1.4.1) (5.9.0)\n",
      "Requirement already satisfied: pyyaml in c:\\users\\ajax\\miniconda3\\envs\\bs\\lib\\site-packages (from accelerate<1,>=0.32->chronos-forecasting==1.4.1) (6.0.2)\n",
      "Requirement already satisfied: huggingface-hub>=0.21.0 in c:\\users\\ajax\\miniconda3\\envs\\bs\\lib\\site-packages (from accelerate<1,>=0.32->chronos-forecasting==1.4.1) (0.26.2)\n",
      "Requirement already satisfied: safetensors>=0.4.3 in c:\\users\\ajax\\miniconda3\\envs\\bs\\lib\\site-packages (from accelerate<1,>=0.32->chronos-forecasting==1.4.1) (0.4.5)\n",
      "Requirement already satisfied: filelock in c:\\users\\ajax\\miniconda3\\envs\\bs\\lib\\site-packages (from torch<2.6,>=2.0->chronos-forecasting==1.4.1) (3.16.1)\n",
      "Requirement already satisfied: typing-extensions>=4.8.0 in c:\\users\\ajax\\miniconda3\\envs\\bs\\lib\\site-packages (from torch<2.6,>=2.0->chronos-forecasting==1.4.1) (4.11.0)\n",
      "Requirement already satisfied: networkx in c:\\users\\ajax\\miniconda3\\envs\\bs\\lib\\site-packages (from torch<2.6,>=2.0->chronos-forecasting==1.4.1) (3.4.2)\n",
      "Requirement already satisfied: jinja2 in c:\\users\\ajax\\miniconda3\\envs\\bs\\lib\\site-packages (from torch<2.6,>=2.0->chronos-forecasting==1.4.1) (3.1.4)\n",
      "Requirement already satisfied: fsspec in c:\\users\\ajax\\miniconda3\\envs\\bs\\lib\\site-packages (from torch<2.6,>=2.0->chronos-forecasting==1.4.1) (2024.9.0)\n",
      "Requirement already satisfied: setuptools in c:\\users\\ajax\\miniconda3\\envs\\bs\\lib\\site-packages (from torch<2.6,>=2.0->chronos-forecasting==1.4.1) (72.1.0)\n",
      "Requirement already satisfied: sympy==1.13.1 in c:\\users\\ajax\\miniconda3\\envs\\bs\\lib\\site-packages (from torch<2.6,>=2.0->chronos-forecasting==1.4.1) (1.13.1)\n",
      "Requirement already satisfied: mpmath<1.4,>=1.1.0 in c:\\users\\ajax\\miniconda3\\envs\\bs\\lib\\site-packages (from sympy==1.13.1->torch<2.6,>=2.0->chronos-forecasting==1.4.1) (1.3.0)\n",
      "Requirement already satisfied: regex!=2019.12.17 in c:\\users\\ajax\\miniconda3\\envs\\bs\\lib\\site-packages (from transformers<4.48,>=4.30->chronos-forecasting==1.4.1) (2024.11.6)\n",
      "Requirement already satisfied: requests in c:\\users\\ajax\\miniconda3\\envs\\bs\\lib\\site-packages (from transformers<4.48,>=4.30->chronos-forecasting==1.4.1) (2.31.0)\n",
      "Requirement already satisfied: tokenizers<0.21,>=0.20 in c:\\users\\ajax\\miniconda3\\envs\\bs\\lib\\site-packages (from transformers<4.48,>=4.30->chronos-forecasting==1.4.1) (0.20.3)\n",
      "Requirement already satisfied: tqdm>=4.27 in c:\\users\\ajax\\miniconda3\\envs\\bs\\lib\\site-packages (from transformers<4.48,>=4.30->chronos-forecasting==1.4.1) (4.66.6)\n",
      "Requirement already satisfied: colorama in c:\\users\\ajax\\miniconda3\\envs\\bs\\lib\\site-packages (from tqdm>=4.27->transformers<4.48,>=4.30->chronos-forecasting==1.4.1) (0.4.6)\n",
      "Requirement already satisfied: MarkupSafe>=2.0 in c:\\users\\ajax\\miniconda3\\envs\\bs\\lib\\site-packages (from jinja2->torch<2.6,>=2.0->chronos-forecasting==1.4.1) (2.1.3)\n",
      "Requirement already satisfied: charset-normalizer<4,>=2 in c:\\users\\ajax\\miniconda3\\envs\\bs\\lib\\site-packages (from requests->transformers<4.48,>=4.30->chronos-forecasting==1.4.1) (3.3.2)\n",
      "Requirement already satisfied: idna<4,>=2.5 in c:\\users\\ajax\\miniconda3\\envs\\bs\\lib\\site-packages (from requests->transformers<4.48,>=4.30->chronos-forecasting==1.4.1) (3.7)\n",
      "Requirement already satisfied: urllib3<3,>=1.21.1 in c:\\users\\ajax\\miniconda3\\envs\\bs\\lib\\site-packages (from requests->transformers<4.48,>=4.30->chronos-forecasting==1.4.1) (2.2.3)\n",
      "Requirement already satisfied: certifi>=2017.4.17 in c:\\users\\ajax\\miniconda3\\envs\\bs\\lib\\site-packages (from requests->transformers<4.48,>=4.30->chronos-forecasting==1.4.1) (2024.8.30)\n",
      "Downloading accelerate-0.34.2-py3-none-any.whl (324 kB)\n",
      "Building wheels for collected packages: chronos-forecasting\n",
      "  Building wheel for chronos-forecasting (pyproject.toml): started\n",
      "  Building wheel for chronos-forecasting (pyproject.toml): finished with status 'done'\n",
      "  Created wheel for chronos-forecasting: filename=chronos_forecasting-1.4.1-py3-none-any.whl size=28856 sha256=1be88920212dc0da1c2fcab23b9f2cfd306ac2fb7fab00b887437483c2aaf264\n",
      "  Stored in directory: C:\\Users\\Ajax\\AppData\\Local\\Temp\\pip-ephem-wheel-cache-hbowosvl\\wheels\\b9\\a6\\b5\\75fca7306751a3bc92a63680f861f44a42a8776f6423cf0188\n",
      "Successfully built chronos-forecasting\n",
      "Installing collected packages: accelerate, chronos-forecasting\n",
      "  Attempting uninstall: accelerate\n",
      "    Found existing installation: accelerate 1.1.1\n",
      "    Uninstalling accelerate-1.1.1:\n",
      "      Successfully uninstalled accelerate-1.1.1\n",
      "Successfully installed accelerate-0.34.2 chronos-forecasting-1.4.1\n",
      "Note: you may need to restart the kernel to use updated packages.\n"
     ]
    },
    {
     "name": "stderr",
     "output_type": "stream",
     "text": [
      "  Running command git clone --filter=blob:none --quiet https://github.com/amazon-science/chronos-forecasting.git 'C:\\Users\\Ajax\\AppData\\Local\\Temp\\pip-req-build-ujbp08bf'\n",
      "  WARNING: The scripts accelerate-config.exe, accelerate-estimate-memory.exe, accelerate-launch.exe, accelerate-merge-weights.exe and accelerate.exe are installed in 'C:\\Users\\Ajax\\miniconda3\\envs\\bs\\Scripts' which is not on PATH.\n",
      "  Consider adding this directory to PATH or, if you prefer to suppress this warning, use --no-warn-script-location.\n"
     ]
    }
   ],
   "source": [
    "pip install git+https://github.com/amazon-science/chronos-forecasting.git"
   ]
  },
  {
   "cell_type": "code",
   "execution_count": null,
   "id": "eca62281-3672-4abb-9025-a98b3d583ecd",
   "metadata": {},
   "outputs": [],
   "source": []
  }
 ],
 "metadata": {
  "kernelspec": {
   "display_name": "bs",
   "language": "python",
   "name": "bs"
  },
  "language_info": {
   "codemirror_mode": {
    "name": "ipython",
    "version": 3
   },
   "file_extension": ".py",
   "mimetype": "text/x-python",
   "name": "python",
   "nbconvert_exporter": "python",
   "pygments_lexer": "ipython3",
   "version": "3.12.7"
  },
  "widgets": {
   "application/vnd.jupyter.widget-state+json": {
    "state": {},
    "version_major": 2,
    "version_minor": 0
   }
  }
 },
 "nbformat": 4,
 "nbformat_minor": 5
}
