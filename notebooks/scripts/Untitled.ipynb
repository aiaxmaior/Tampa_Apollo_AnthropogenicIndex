{
 "cells": [
  {
   "cell_type": "code",
   "execution_count": 7,
   "id": "02203771-504c-4226-8e76-025c57e06148",
   "metadata": {},
   "outputs": [],
   "source": [
    "import os\n",
    "os.chdir()"
   ]
  },
  {
   "cell_type": "code",
   "execution_count": 17,
   "id": "c076ce35-e96e-4b54-9cd3-159cfd1ecc5c",
   "metadata": {},
   "outputs": [],
   "source": [
    "os.chdir('J:\\\\Brainstation\\\\BS Git\\\\Tampa_Apollo_AnthropogenicIndex\\\\notebooks')"
   ]
  },
  {
   "cell_type": "code",
   "execution_count": 23,
   "id": "519f343a-4329-4330-bcab-a3710be170bf",
   "metadata": {},
   "outputs": [
    {
     "name": "stderr",
     "output_type": "stream",
     "text": [
      "J:\\Brainstation\\BS Git\\Tampa_Apollo_AnthropogenicIndex\\notebooks\\scripts\\DataDictionary.py:4: SyntaxWarning: invalid escape sequence '\\B'\n",
      "  \"\"\"\n"
     ]
    }
   ],
   "source": [
    "%run scripts/imports.py\n",
    "%run scripts/DataDictionary.py\n",
    "%run scripts/stored_functions.py"
   ]
  },
  {
   "cell_type": "code",
   "execution_count": 19,
   "id": "ee1f28fe-4ffa-4979-947d-dd701ed2959e",
   "metadata": {},
   "outputs": [
    {
     "data": {
      "text/plain": [
       "'J:\\\\Brainstation\\\\BS Git\\\\Tampa_Apollo_AnthropogenicIndex\\\\notebooks'"
      ]
     },
     "execution_count": 19,
     "metadata": {},
     "output_type": "execute_result"
    }
   ],
   "source": [
    "pwd"
   ]
  },
  {
   "cell_type": "code",
   "execution_count": 2,
   "id": "28a762e3-fead-497c-ba7e-f8a9142311a2",
   "metadata": {},
   "outputs": [],
   "source": [
    "#### Load Libraries ####\n",
    "\n",
    "# System\n",
    "import os\n",
    "import glob as glob\n",
    "\n",
    "# Standard Imports\n",
    "import pandas as pd\n",
    "import numpy as np\n",
    "\n",
    "import numpy as np\n",
    "import pandas as pd\n",
    "import glob as glob\n",
    "import os as os\n",
    "import statsmodels.api as sm \n",
    "from statsmodels.stats.outliers_influence import variance_inflation_factor\n",
    "\n",
    "# Visuals\n",
    "import matplotlib.pyplot as plt\n",
    "import plotly.express as px\n",
    "from plotly.subplots import make_subplots\n",
    "import plotly.graph_objs as go\n",
    "import matplotlib.pyplot as plt\n",
    "import seaborn as sns\n",
    "\n",
    "\n",
    "### Statistics Packages ###\n",
    "\n",
    "# Error Metrics\n",
    "from sklearn.metrics import mean_absolute_error\n",
    "\n",
    "# Operations\n",
    "from sklearn.model_selection import train_test_split\n",
    "\n",
    "# Time Series Analysis\n",
    "import statsmodels.tsa as tsa\n",
    "from statsmodels.graphics.tsaplots import month_plot\n",
    "from statsmodels.tsa.api import VAR\n",
    "from statsmodels.tsa.stattools import adfuller\n",
    "from statsmodels.tsa.seasonal import seasonal_decompose\n",
    "\n",
    "# VIF\n",
    "from statsmodels.stats.outliers_influence import variance_inflation_factor #VIF\n",
    "\n",
    "# Scalers\n",
    "from sklearn.preprocessing import StandardScaler\n",
    "from sklearn.preprocessing import MinMaxScaler\n",
    "\n",
    "# Regression\n",
    "from sklearn.linear_model import Lasso, Ridge\n",
    "from sklearn.linear_model import LinearRegression\n",
    "\n",
    "# NN\n",
    "from tensorflow.keras.models import Sequential\n",
    "from tensorflow.keras.layers import LSTM, Dense\n",
    "\n",
    "\n"
   ]
  },
  {
   "cell_type": "code",
   "execution_count": null,
   "id": "705f42b2-c53a-4938-b390-c0db6f7c3490",
   "metadata": {},
   "outputs": [],
   "source": []
  },
  {
   "cell_type": "code",
   "execution_count": 1,
   "id": "672cb044-b27b-497f-b539-7566ca9202da",
   "metadata": {},
   "outputs": [],
   "source": [
    "#### Load Libraries ####\n",
    "\n",
    "# System\n",
    "import os\n",
    "import glob as glob\n",
    "\n",
    "# Standard Imports\n",
    "import pandas as pd\n",
    "import numpy as np\n",
    "\n",
    "import numpy as np\n",
    "import pandas as pd\n",
    "import glob as glob\n",
    "import os as os\n",
    "import statsmodels.api as sm \n",
    "from statsmodels.stats.outliers_influence import variance_inflation_factor\n",
    "\n",
    "# Visuals\n",
    "import matplotlib.pyplot as plt\n",
    "import plotly.express as px\n",
    "from plotly.subplots import make_subplots\n",
    "import plotly.graph_objs as go\n",
    "import matplotlib.pyplot as plt\n",
    "import seaborn as sns\n",
    "\n",
    "\n",
    "### Statistics Packages ###\n",
    "\n",
    "# Error Metrics\n",
    "from sklearn.metrics import mean_absolute_error\n",
    "\n",
    "# Operations\n",
    "from sklearn.model_selection import train_test_split\n",
    "\n",
    "# Time Series Analysis\n",
    "import statsmodels.tsa as tsa\n",
    "from statsmodels.graphics.tsaplots import month_plot\n",
    "from statsmodels.tsa.api import VAR\n",
    "from statsmodels.tsa.stattools import adfuller\n",
    "from statsmodels.tsa.seasonal import seasonal_decompose\n",
    "\n",
    "# VIF\n",
    "from statsmodels.stats.outliers_influence import variance_inflation_factor #VIF\n",
    "\n",
    "# Scalers\n",
    "from sklearn.preprocessing import StandardScaler\n",
    "from sklearn.preprocessing import MinMaxScaler\n",
    "\n",
    "# Regression\n",
    "from sklearn.linear_model import Lasso, Ridge\n",
    "from sklearn.linear_model import LinearRegression\n",
    "\n",
    "# NN\n",
    "from tensorflow.keras.models import Sequential\n",
    "from tensorflow.keras.layers import LSTM, Dense\n",
    "\n",
    "\n"
   ]
  },
  {
   "cell_type": "code",
   "execution_count": null,
   "id": "94bace5b-f122-483d-ac85-6d190ab109a6",
   "metadata": {},
   "outputs": [],
   "source": []
  }
 ],
 "metadata": {
  "kernelspec": {
   "display_name": "bs",
   "language": "python",
   "name": "bs"
  },
  "language_info": {
   "codemirror_mode": {
    "name": "ipython",
    "version": 3
   },
   "file_extension": ".py",
   "mimetype": "text/x-python",
   "name": "python",
   "nbconvert_exporter": "python",
   "pygments_lexer": "ipython3",
   "version": "3.12.7"
  },
  "widgets": {
   "application/vnd.jupyter.widget-state+json": {
    "state": {},
    "version_major": 2,
    "version_minor": 0
   }
  }
 },
 "nbformat": 4,
 "nbformat_minor": 5
}
