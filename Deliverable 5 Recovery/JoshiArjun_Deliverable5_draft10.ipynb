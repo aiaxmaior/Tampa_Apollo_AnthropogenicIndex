{
 "cells": [
  {
   "cell_type": "markdown",
   "id": "7c391b0e-5c2e-47aa-bbbf-4fbc993848ed",
   "metadata": {},
   "source": [
    "Arjun Joshi\n",
    "11/10/2024\n",
    "BrainStation\n",
    "Deliverable 5: NLP, Advanced Stas & Modelling\n"
   ]
  },
  {
   "cell_type": "markdown",
   "id": "30b396e9-d180-4d20-b844-5094960acbd5",
   "metadata": {},
   "source": [
    "##### Assignment Instructions"
   ]
  },
  {
   "cell_type": "markdown",
   "id": "8d1b9d60-281e-4cae-b2fe-7ff9fce612ad",
   "metadata": {
    "editable": true,
    "slideshow": {
     "slide_type": ""
    },
    "tags": []
   },
   "source": [
    "**NLP Modelling Assignment: Overview**\n",
    "\n",
    "\n",
    "                        Pipeline & PCA\n",
    "        \n",
    "Using a pipeline, combine PCA with a decision tree classifier.\n",
    "Optimize at least 3 hyperparameters including the maximum tree depth and the minimum number of data points required on each leaf node.\n",
    "You can use 20 principle components.\n",
    "The best parameters should be found using 5-fold cross validation.\n",
    "Contrast the best results here with the logistic regression model and provide any insights that you may draw from the results.\n",
    "\n",
    "                        Confusion Matrix\n",
    "*[jump to code cell 2](#cell2)\n",
    "\n",
    "For your best performing model, conduct a more in-depth evaluation by analyzing the confusion matrix and commenting on the model errors and metrics such as precision and recall.\n",
    "Requirements\n",
    "Please submit your Jupyter notebook which should include commented code and extensive markdown cells explaining your process and insights. Make sure to add a table of contents, introduction, proper section headers and a conclusion section. Your communication in the markdown cells and the code cell outputs should allow anyone to understand your process and findings without the need to read the code."
   ]
  },
  {
   "cell_type": "markdown",
   "id": "5e87ea34-7ca9-4d10-872d-c19ae88b06e8",
   "metadata": {
    "editable": true,
    "slideshow": {
     "slide_type": ""
    },
    "tags": []
   },
   "source": [
    "# Table of Contents"
   ]
  },
  {
   "cell_type": "markdown",
   "id": "de7bb929-cbb1-43ea-a555-095cbd27028f",
   "metadata": {
    "editable": true,
    "slideshow": {
     "slide_type": ""
    },
    "tags": []
   },
   "source": [
    "[Part 1: Data Preprocessing, EDA](Part111)"
   ]
  },
  {
   "cell_type": "markdown",
   "id": "39aa8c14-3f33-43ed-8868-0fcbb79376cb",
   "metadata": {
    "editable": true,
    "slideshow": {
     "slide_type": ""
    },
    "tags": []
   },
   "source": [
    "[Part 1: Data Preprocessing, EDA](Part1)"
   ]
  },
  {
   "cell_type": "markdown",
   "id": "d692efe5-4c57-49e7-aadd-c668e56ef65a",
   "metadata": {},
   "source": [
    "[Part 2: Text Preprocessing](Part2)"
   ]
  },
  {
   "cell_type": "markdown",
   "id": "e156c806-3a81-41ce-96a2-91b94b86420d",
   "metadata": {},
   "source": [
    "[Part 3:TT_Split Tokenize, LogReg Fitting](Part3)"
   ]
  },
  {
   "cell_type": "markdown",
   "id": "baafad87-88b1-4037-a41f-f48e1fa7ee82",
   "metadata": {},
   "source": [
    "[Part 4: Pipeline & PCA](Part4)"
   ]
  },
  {
   "cell_type": "markdown",
   "id": "de2984cb-f8d7-471f-9b8b-60c079cfa4dd",
   "metadata": {},
   "source": [
    "[Part 5: Confusion Matrix](Part2)"
   ]
  },
  {
   "cell_type": "markdown",
   "id": "d87fe62d-563c-491e-b921-c68f62dd1713",
   "metadata": {
    "editable": true,
    "slideshow": {
     "slide_type": ""
    },
    "tags": []
   },
   "source": [
    "[Index:Data Dictionary](Index)"
   ]
  },
  {
   "cell_type": "markdown",
   "id": "67950f29-e814-4308-be2b-956cdec94cbc",
   "metadata": {
    "editable": true,
    "slideshow": {
     "slide_type": ""
    },
    "tags": []
   },
   "source": [
    "## Getting Ready: Load, Format, Custom Functions, Basic Cleaning"
   ]
  },
  {
   "cell_type": "code",
   "execution_count": 13,
   "id": "59c65b78-c0ab-4e3e-88bc-5793c9e8b851",
   "metadata": {
    "editable": true,
    "slideshow": {
     "slide_type": ""
    },
    "tags": []
   },
   "outputs": [],
   "source": [
    "import numpy as np\n",
    "import pandas as pd\n",
    "import matplotlib.pyplot as plt\n",
    "import seaborn as sns\n",
    "from sklearn.preprocessing import StandardScaler\n",
    "from sklearn.decomposition import PCA\n",
    "from warnings import filterwarnings\n",
    "from sklearn.model_selection import train_test_split\n",
    "from scipy import stats\n",
    "\n",
    "filterwarnings(action='ignore')\n",
    "from sklearn.feature_extraction.text import ENGLISH_STOP_WORDS\n",
    "from sklearn.feature_extraction.text import CountVectorizer\n",
    "from sklearn.linear_model import LogisticRegression\n",
    "import numpy as np\n",
    "import pandas as pd\n",
    "import matplotlib.pyplot as plt\n",
    "from sklearn.model_selection import train_test_split\n",
    "from sklearn.datasets import load_iris\n",
    "from sklearn.tree import DecisionTreeClassifier\n",
    "from sklearn.model_selection import GridSearchCV\n"
   ]
  },
  {
   "cell_type": "markdown",
   "id": "2534ab3a-803e-4cff-a0c3-85af14d99d03",
   "metadata": {
    "editable": true,
    "slideshow": {
     "slide_type": ""
    },
    "tags": []
   },
   "source": [
    "### Custom Functions"
   ]
  },
  {
   "cell_type": "markdown",
   "id": "aeed4d7b-7fb4-4617-90a3-9a85fd7b275c",
   "metadata": {},
   "source": [
    "Commentary:\n",
    "- I developed these along the way after having perform specific checks repeatedly.\n",
    "- Being able to correct data types, get information in a simplified way certainly helped but in a realistic setting \"could\" impact computing costs, rendering these unsuable.\n",
    "- Custom Tokenizer was taken directly from the NLP notes. Contrary to my thoughts, the CountVectorizer might not cover enough and a custom tokenizer might enable that.\n",
    "- In terms of overall assignment efficiency, these may not have saved a large amount of time though it was convenient.\n",
    "\n"
   ]
  },
  {
   "cell_type": "code",
   "execution_count": 2,
   "id": "02954c05-00cd-4e2f-879a-df0245ffc2ad",
   "metadata": {
    "editable": true,
    "slideshow": {
     "slide_type": ""
    },
    "tags": []
   },
   "outputs": [],
   "source": [
    "################################################## fx lazy-info\n",
    "def lazy_info(df):\n",
    "    print(f'SHAPE:{df.shape},\\n\\n')\n",
    "    df.info()\n",
    "    print(df.describe())\n",
    "    print(df.value_counts())\n",
    "    \n",
    "    df.head(2)\n",
    "\n",
    "################################################## fx auto heatmap from df\n",
    "\n",
    "def get_heatmap(func_df,drop_col=[]):\n",
    "    # Correlations for independent variables\n",
    "    func_df.drop(columns=drop_col,inplace=True)\n",
    "    test=numeric_check(func_df)\n",
    "    try:\n",
    "        indcorr=func_df.corr()\n",
    "    except ValueError:\n",
    "        print('********\\n********\\n********\\n DF has  still has format issues. Drop unsupported columns or re-check df\\n********\\n********\\n********\\n')\n",
    "        return()\n",
    "    #Heatmap\n",
    "    mask=np.triu(indcorr)\n",
    "    plt.figure(figsize=(20,15))\n",
    "    sns.heatmap(indcorr.round(2), vmax=1,vmin=-1,center=0,cmap='icefire',mask=mask, annot=True)\n",
    "    plt.show\n",
    "\n",
    "################################################## fx shorter df numeric checl\n",
    "def numeric_check(df):\n",
    "    # quick way to check\n",
    "    # dfs are having formatting issues in the code....\n",
    "    # formats them to appropriate dtype\n",
    "    \n",
    "    # Input\n",
    "    #        df: The pandas DataFrame to format.\n",
    "\n",
    "    # Output:\n",
    "    #        formatted df\n",
    "    \n",
    "    bad_col=[]\n",
    "    nas=[]\n",
    "    tf_type=True\n",
    "    tf_na=True\n",
    "    for col in df.columns:\n",
    "        if df[col].dtype in (object,str):\n",
    "            bad_col.append(col)\n",
    "            tf=False\n",
    "            continue\n",
    "        if df[col].isna().sum()>0:\n",
    "            na.append(col)\n",
    "            tf_na=False\n",
    "    if bad_col: \n",
    "        print(f' The following columns have values that are not numeric or nulls: {bad_col}')\n",
    "    else:\n",
    "        return(tf_na,tf_type,bad_col)\n",
    "\n",
    "################################################## \n",
    "# Function to reassign dtypes because type mismatches are creating errors\n",
    "\n",
    "def correct_df_dtype(df):\n",
    "    # infers appropriate data types to a DataFrame.\n",
    "    # dfs are having formatting issues in the code....\n",
    "    # formats them to appropriate dtype\n",
    "    \n",
    "    # Input\n",
    "    #        df: The pandas DataFrame to format.\n",
    "\n",
    "    # Output:\n",
    "    #        type formatted df\n",
    "    \n",
    "    for col in df.columns:\n",
    "\n",
    "        if pd.api.types.is_numeric_dtype(df[col]): #numeric\n",
    "            if df[col].dtype == 'float64': #ints\n",
    "                all_integer = True\n",
    "                for value in df[col].dropna():\n",
    "                    if not value.is_integer():\n",
    "                        all_integer = False\n",
    "                        break\n",
    "                if all_integer:\n",
    "                    df[col] = df[col].astype('int64')\n",
    "        \n",
    "        elif pd.api.types.is_string_dtype(df[col]):\n",
    "            try:\n",
    "                df[col] = pd.to_datetime(df[col]) #DateTime\n",
    "            except ValueError:\n",
    "                pass  # If conversion fails, leave as string\n",
    "\n",
    "    return df\n",
    "    \n",
    "################################################## custom tokenizer, format taken from NLP Lecture\n",
    "\n",
    "def custom_tokenizer(text):\n",
    "    # Taken from NLP Lecture, ight not be used\n",
    "    # Brought in because vectorizer not formatting as needed\n",
    "    # Will customize as needed\n",
    "    \n",
    "    # lower text\n",
    "    # handled by vectorizer\n",
    "    text = text.lower()\n",
    "\n",
    "    # remove special characters\n",
    "    text = re.sub(f\"[{forbidden_char}]\", \"\", text)\n",
    "\n",
    "    # split into words as tokens\n",
    "    tokens = text.split()\n",
    "\n",
    "    # filter stopwords\n",
    "    tokens = [tok for tok in tokens if tok not in ENGLISH_STOP_WORDS]\n",
    "\n",
    "    return tokens"
   ]
  },
  {
   "cell_type": "markdown",
   "id": "6c73a231-d1b9-47cb-b15f-97793291760d",
   "metadata": {
    "editable": true,
    "slideshow": {
     "slide_type": ""
    },
    "tags": []
   },
   "source": [
    "#### Data Overview, Loading"
   ]
  },
  {
   "cell_type": "code",
   "execution_count": 3,
   "id": "632928f0-cf72-442e-ba3d-f6378e6ecdc7",
   "metadata": {
    "editable": true,
    "slideshow": {
     "slide_type": ""
    },
    "tags": []
   },
   "outputs": [],
   "source": [
    "hotel=pd.read_csv('data/Hotel_Reviews.csv')"
   ]
  },
  {
   "cell_type": "code",
   "execution_count": null,
   "id": "88d2edd1-bac3-4c5a-8163-eae83c896bfe",
   "metadata": {},
   "outputs": [],
   "source": []
  },
  {
   "cell_type": "code",
   "execution_count": 4,
   "id": "75b9bcf7-f768-4d93-bfdb-94ad093da147",
   "metadata": {
    "scrolled": true
   },
   "outputs": [
    {
     "data": {
      "text/html": [
       "<div>\n",
       "<style scoped>\n",
       "    .dataframe tbody tr th:only-of-type {\n",
       "        vertical-align: middle;\n",
       "    }\n",
       "\n",
       "    .dataframe tbody tr th {\n",
       "        vertical-align: top;\n",
       "    }\n",
       "\n",
       "    .dataframe thead th {\n",
       "        text-align: right;\n",
       "    }\n",
       "</style>\n",
       "<table border=\"1\" class=\"dataframe\">\n",
       "  <thead>\n",
       "    <tr style=\"text-align: right;\">\n",
       "      <th></th>\n",
       "      <th>Unnamed: 0</th>\n",
       "      <th>Additional_Number_of_Scoring</th>\n",
       "      <th>Average_Score</th>\n",
       "      <th>Review_Total_Negative_Word_Counts</th>\n",
       "      <th>Total_Number_of_Reviews</th>\n",
       "      <th>Review_Total_Positive_Word_Counts</th>\n",
       "      <th>Total_Number_of_Reviews_Reviewer_Has_Given</th>\n",
       "      <th>Reviewer_Score</th>\n",
       "      <th>Days_Since_Review</th>\n",
       "      <th>Latitude</th>\n",
       "      <th>...</th>\n",
       "      <th>Reviewer_Nationality_USA</th>\n",
       "      <th>Reviewer_Nationality_Other</th>\n",
       "      <th>Hotel_Address_Amsterdam</th>\n",
       "      <th>Hotel_Address_Barcelona</th>\n",
       "      <th>Hotel_Address_London</th>\n",
       "      <th>Hotel_Address_Milan</th>\n",
       "      <th>Hotel_Address_Paris</th>\n",
       "      <th>Hotel_Address_Vienna</th>\n",
       "      <th>Leisure_Trip</th>\n",
       "      <th>Nights_Stayed</th>\n",
       "    </tr>\n",
       "  </thead>\n",
       "  <tbody>\n",
       "    <tr>\n",
       "      <th>count</th>\n",
       "      <td>515738.000000</td>\n",
       "      <td>515738.000000</td>\n",
       "      <td>515738.000000</td>\n",
       "      <td>515738.000000</td>\n",
       "      <td>515738.000000</td>\n",
       "      <td>515738.000000</td>\n",
       "      <td>515738.000000</td>\n",
       "      <td>515738.000000</td>\n",
       "      <td>515738.000000</td>\n",
       "      <td>515738.000000</td>\n",
       "      <td>...</td>\n",
       "      <td>515738.000000</td>\n",
       "      <td>515738.000000</td>\n",
       "      <td>515738.000000</td>\n",
       "      <td>515738.000000</td>\n",
       "      <td>515738.000000</td>\n",
       "      <td>515738.000000</td>\n",
       "      <td>515738.000000</td>\n",
       "      <td>515738.000000</td>\n",
       "      <td>515738.000000</td>\n",
       "      <td>515738.000000</td>\n",
       "    </tr>\n",
       "    <tr>\n",
       "      <th>mean</th>\n",
       "      <td>257868.500000</td>\n",
       "      <td>498.081836</td>\n",
       "      <td>8.397487</td>\n",
       "      <td>18.539450</td>\n",
       "      <td>2743.743944</td>\n",
       "      <td>17.776458</td>\n",
       "      <td>7.166001</td>\n",
       "      <td>0.570006</td>\n",
       "      <td>354.441932</td>\n",
       "      <td>49.432419</td>\n",
       "      <td>...</td>\n",
       "      <td>0.068711</td>\n",
       "      <td>0.365121</td>\n",
       "      <td>0.110936</td>\n",
       "      <td>0.116627</td>\n",
       "      <td>0.508594</td>\n",
       "      <td>0.072143</td>\n",
       "      <td>0.116199</td>\n",
       "      <td>0.075502</td>\n",
       "      <td>0.810059</td>\n",
       "      <td>2.362122</td>\n",
       "    </tr>\n",
       "    <tr>\n",
       "      <th>std</th>\n",
       "      <td>148880.880902</td>\n",
       "      <td>500.538467</td>\n",
       "      <td>0.548048</td>\n",
       "      <td>29.690831</td>\n",
       "      <td>2317.464868</td>\n",
       "      <td>21.804185</td>\n",
       "      <td>11.040228</td>\n",
       "      <td>0.495075</td>\n",
       "      <td>208.928124</td>\n",
       "      <td>3.460237</td>\n",
       "      <td>...</td>\n",
       "      <td>0.252963</td>\n",
       "      <td>0.481465</td>\n",
       "      <td>0.314053</td>\n",
       "      <td>0.320976</td>\n",
       "      <td>0.499927</td>\n",
       "      <td>0.258725</td>\n",
       "      <td>0.320463</td>\n",
       "      <td>0.264199</td>\n",
       "      <td>0.392255</td>\n",
       "      <td>1.646808</td>\n",
       "    </tr>\n",
       "    <tr>\n",
       "      <th>min</th>\n",
       "      <td>0.000000</td>\n",
       "      <td>1.000000</td>\n",
       "      <td>5.200000</td>\n",
       "      <td>0.000000</td>\n",
       "      <td>43.000000</td>\n",
       "      <td>0.000000</td>\n",
       "      <td>1.000000</td>\n",
       "      <td>0.000000</td>\n",
       "      <td>0.000000</td>\n",
       "      <td>41.328376</td>\n",
       "      <td>...</td>\n",
       "      <td>0.000000</td>\n",
       "      <td>0.000000</td>\n",
       "      <td>0.000000</td>\n",
       "      <td>0.000000</td>\n",
       "      <td>0.000000</td>\n",
       "      <td>0.000000</td>\n",
       "      <td>0.000000</td>\n",
       "      <td>0.000000</td>\n",
       "      <td>0.000000</td>\n",
       "      <td>1.000000</td>\n",
       "    </tr>\n",
       "    <tr>\n",
       "      <th>25%</th>\n",
       "      <td>128934.250000</td>\n",
       "      <td>169.000000</td>\n",
       "      <td>8.100000</td>\n",
       "      <td>2.000000</td>\n",
       "      <td>1161.000000</td>\n",
       "      <td>5.000000</td>\n",
       "      <td>1.000000</td>\n",
       "      <td>0.000000</td>\n",
       "      <td>175.000000</td>\n",
       "      <td>48.214066</td>\n",
       "      <td>...</td>\n",
       "      <td>0.000000</td>\n",
       "      <td>0.000000</td>\n",
       "      <td>0.000000</td>\n",
       "      <td>0.000000</td>\n",
       "      <td>0.000000</td>\n",
       "      <td>0.000000</td>\n",
       "      <td>0.000000</td>\n",
       "      <td>0.000000</td>\n",
       "      <td>1.000000</td>\n",
       "      <td>1.000000</td>\n",
       "    </tr>\n",
       "    <tr>\n",
       "      <th>50%</th>\n",
       "      <td>257868.500000</td>\n",
       "      <td>341.000000</td>\n",
       "      <td>8.400000</td>\n",
       "      <td>9.000000</td>\n",
       "      <td>2134.000000</td>\n",
       "      <td>11.000000</td>\n",
       "      <td>3.000000</td>\n",
       "      <td>1.000000</td>\n",
       "      <td>353.000000</td>\n",
       "      <td>51.499981</td>\n",
       "      <td>...</td>\n",
       "      <td>0.000000</td>\n",
       "      <td>0.000000</td>\n",
       "      <td>0.000000</td>\n",
       "      <td>0.000000</td>\n",
       "      <td>1.000000</td>\n",
       "      <td>0.000000</td>\n",
       "      <td>0.000000</td>\n",
       "      <td>0.000000</td>\n",
       "      <td>1.000000</td>\n",
       "      <td>2.000000</td>\n",
       "    </tr>\n",
       "    <tr>\n",
       "      <th>75%</th>\n",
       "      <td>386802.750000</td>\n",
       "      <td>660.000000</td>\n",
       "      <td>8.800000</td>\n",
       "      <td>23.000000</td>\n",
       "      <td>3613.000000</td>\n",
       "      <td>22.000000</td>\n",
       "      <td>8.000000</td>\n",
       "      <td>1.000000</td>\n",
       "      <td>527.000000</td>\n",
       "      <td>51.516288</td>\n",
       "      <td>...</td>\n",
       "      <td>0.000000</td>\n",
       "      <td>1.000000</td>\n",
       "      <td>0.000000</td>\n",
       "      <td>0.000000</td>\n",
       "      <td>1.000000</td>\n",
       "      <td>0.000000</td>\n",
       "      <td>0.000000</td>\n",
       "      <td>0.000000</td>\n",
       "      <td>1.000000</td>\n",
       "      <td>3.000000</td>\n",
       "    </tr>\n",
       "    <tr>\n",
       "      <th>max</th>\n",
       "      <td>515737.000000</td>\n",
       "      <td>2682.000000</td>\n",
       "      <td>9.800000</td>\n",
       "      <td>408.000000</td>\n",
       "      <td>16670.000000</td>\n",
       "      <td>395.000000</td>\n",
       "      <td>355.000000</td>\n",
       "      <td>1.000000</td>\n",
       "      <td>730.000000</td>\n",
       "      <td>52.400181</td>\n",
       "      <td>...</td>\n",
       "      <td>1.000000</td>\n",
       "      <td>1.000000</td>\n",
       "      <td>1.000000</td>\n",
       "      <td>1.000000</td>\n",
       "      <td>1.000000</td>\n",
       "      <td>1.000000</td>\n",
       "      <td>1.000000</td>\n",
       "      <td>1.000000</td>\n",
       "      <td>1.000000</td>\n",
       "      <td>31.000000</td>\n",
       "    </tr>\n",
       "  </tbody>\n",
       "</table>\n",
       "<p>8 rows × 28 columns</p>\n",
       "</div>"
      ],
      "text/plain": [
       "          Unnamed: 0  Additional_Number_of_Scoring  Average_Score  \\\n",
       "count  515738.000000                 515738.000000  515738.000000   \n",
       "mean   257868.500000                    498.081836       8.397487   \n",
       "std    148880.880902                    500.538467       0.548048   \n",
       "min         0.000000                      1.000000       5.200000   \n",
       "25%    128934.250000                    169.000000       8.100000   \n",
       "50%    257868.500000                    341.000000       8.400000   \n",
       "75%    386802.750000                    660.000000       8.800000   \n",
       "max    515737.000000                   2682.000000       9.800000   \n",
       "\n",
       "       Review_Total_Negative_Word_Counts  Total_Number_of_Reviews  \\\n",
       "count                      515738.000000            515738.000000   \n",
       "mean                           18.539450              2743.743944   \n",
       "std                            29.690831              2317.464868   \n",
       "min                             0.000000                43.000000   \n",
       "25%                             2.000000              1161.000000   \n",
       "50%                             9.000000              2134.000000   \n",
       "75%                            23.000000              3613.000000   \n",
       "max                           408.000000             16670.000000   \n",
       "\n",
       "       Review_Total_Positive_Word_Counts  \\\n",
       "count                      515738.000000   \n",
       "mean                           17.776458   \n",
       "std                            21.804185   \n",
       "min                             0.000000   \n",
       "25%                             5.000000   \n",
       "50%                            11.000000   \n",
       "75%                            22.000000   \n",
       "max                           395.000000   \n",
       "\n",
       "       Total_Number_of_Reviews_Reviewer_Has_Given  Reviewer_Score  \\\n",
       "count                               515738.000000   515738.000000   \n",
       "mean                                     7.166001        0.570006   \n",
       "std                                     11.040228        0.495075   \n",
       "min                                      1.000000        0.000000   \n",
       "25%                                      1.000000        0.000000   \n",
       "50%                                      3.000000        1.000000   \n",
       "75%                                      8.000000        1.000000   \n",
       "max                                    355.000000        1.000000   \n",
       "\n",
       "       Days_Since_Review       Latitude  ...  Reviewer_Nationality_USA  \\\n",
       "count      515738.000000  515738.000000  ...             515738.000000   \n",
       "mean          354.441932      49.432419  ...                  0.068711   \n",
       "std           208.928124       3.460237  ...                  0.252963   \n",
       "min             0.000000      41.328376  ...                  0.000000   \n",
       "25%           175.000000      48.214066  ...                  0.000000   \n",
       "50%           353.000000      51.499981  ...                  0.000000   \n",
       "75%           527.000000      51.516288  ...                  0.000000   \n",
       "max           730.000000      52.400181  ...                  1.000000   \n",
       "\n",
       "       Reviewer_Nationality_Other  Hotel_Address_Amsterdam  \\\n",
       "count               515738.000000            515738.000000   \n",
       "mean                     0.365121                 0.110936   \n",
       "std                      0.481465                 0.314053   \n",
       "min                      0.000000                 0.000000   \n",
       "25%                      0.000000                 0.000000   \n",
       "50%                      0.000000                 0.000000   \n",
       "75%                      1.000000                 0.000000   \n",
       "max                      1.000000                 1.000000   \n",
       "\n",
       "       Hotel_Address_Barcelona  Hotel_Address_London  Hotel_Address_Milan  \\\n",
       "count            515738.000000         515738.000000        515738.000000   \n",
       "mean                  0.116627              0.508594             0.072143   \n",
       "std                   0.320976              0.499927             0.258725   \n",
       "min                   0.000000              0.000000             0.000000   \n",
       "25%                   0.000000              0.000000             0.000000   \n",
       "50%                   0.000000              1.000000             0.000000   \n",
       "75%                   0.000000              1.000000             0.000000   \n",
       "max                   1.000000              1.000000             1.000000   \n",
       "\n",
       "       Hotel_Address_Paris  Hotel_Address_Vienna   Leisure_Trip  Nights_Stayed  \n",
       "count        515738.000000         515738.000000  515738.000000  515738.000000  \n",
       "mean              0.116199              0.075502       0.810059       2.362122  \n",
       "std               0.320463              0.264199       0.392255       1.646808  \n",
       "min               0.000000              0.000000       0.000000       1.000000  \n",
       "25%               0.000000              0.000000       1.000000       1.000000  \n",
       "50%               0.000000              0.000000       1.000000       2.000000  \n",
       "75%               0.000000              0.000000       1.000000       3.000000  \n",
       "max               1.000000              1.000000       1.000000      31.000000  \n",
       "\n",
       "[8 rows x 28 columns]"
      ]
     },
     "execution_count": 4,
     "metadata": {},
     "output_type": "execute_result"
    }
   ],
   "source": [
    "hotel.describe()"
   ]
  },
  {
   "cell_type": "code",
   "execution_count": 5,
   "id": "de535334-d23a-455b-a66d-fd6bd1b8f0da",
   "metadata": {},
   "outputs": [],
   "source": [
    "# First column provides no insight given without a label. It appears to be an old index.\n",
    "# both scenarios warrant dropping it\n",
    "\n",
    "hotel.drop(columns=hotel.columns[0],inplace=True)"
   ]
  },
  {
   "cell_type": "code",
   "execution_count": 6,
   "id": "3e9883b9-dbd3-4956-9988-3d3cc92fe0b9",
   "metadata": {
    "jupyter": {
     "source_hidden": true
    }
   },
   "outputs": [],
   "source": [
    "# Re-ordering columns of df to make it more readable\n",
    "\n",
    "hotel=hotel[['Reviewer_Score',\n",
    " 'Nights_Stayed',\n",
    " 'Positive_Review',\n",
    " 'Negative_Review',\n",
    " 'Additional_Number_of_Scoring',\n",
    " 'Average_Score',\n",
    " 'Leisure_Trip', \n",
    " 'Days_Since_Review',\n",
    " 'Total_Number_of_Reviews', \n",
    " 'Total_Number_of_Reviews_Reviewer_Has_Given',\n",
    " 'Review_Total_Negative_Word_Counts', \n",
    " 'Review_Total_Positive_Word_Counts',\n",
    " 'Latitude',\n",
    " 'Longitude',\n",
    " 'Day',\n",
    " 'Month',\n",
    " 'Year',\n",
    " 'Reviewer_Nationality_Australia',\n",
    " 'Reviewer_Nationality_Ireland',\n",
    " 'Reviewer_Nationality_UAE',\n",
    " 'Reviewer_Nationality_UK',\n",
    " 'Reviewer_Nationality_USA',\n",
    " 'Reviewer_Nationality_Other',\n",
    " 'Hotel_Address_Amsterdam',\n",
    " 'Hotel_Address_Barcelona',\n",
    " 'Hotel_Address_London', \n",
    " 'Hotel_Address_Milan', \n",
    " 'Hotel_Address_Paris',\n",
    " 'Hotel_Address_Vienna']]\n"
   ]
  },
  {
   "cell_type": "code",
   "execution_count": 7,
   "id": "3ba1a421-1876-439d-b66e-b662f1bf49c6",
   "metadata": {},
   "outputs": [
    {
     "name": "stdout",
     "output_type": "stream",
     "text": [
      " The following columns have values that are not numeric or nulls: ['Positive_Review', 'Negative_Review']\n"
     ]
    },
    {
     "data": {
      "text/plain": [
       "(True, True, [])"
      ]
     },
     "execution_count": 7,
     "metadata": {},
     "output_type": "execute_result"
    }
   ],
   "source": [
    "# No null values \"at face value\"\n",
    "# When I tried to run np.isnan it crashed my kernel repeatedly.\n",
    "hotel.isna().sum().sum()\n",
    "\n",
    "# numeric check also returns the name of columns that are non-numeric\n",
    "numeric_check(hotel)\n",
    "numeric_check(hotel.drop(columns=(['Positive_Review', 'Negative_Review'])))"
   ]
  },
  {
   "cell_type": "code",
   "execution_count": 8,
   "id": "fe22090d-aeaa-4d26-8b3b-c1d6cce8ef94",
   "metadata": {},
   "outputs": [
    {
     "data": {
      "text/plain": [
       "False    515199\n",
       "True        539\n",
       "Name: count, dtype: int64"
      ]
     },
     "execution_count": 8,
     "metadata": {},
     "output_type": "execute_result"
    }
   ],
   "source": [
    "# After removing old index, we can actually take a look a possible duplicates. The old index was a hindrance and it was shown\n",
    "# in the earlier loop that it matches the index.\n",
    "\n",
    "hotel.duplicated().value_counts()"
   ]
  },
  {
   "cell_type": "code",
   "execution_count": 9,
   "id": "da97c9e8-cd8f-4b94-8796-82bf592d666e",
   "metadata": {},
   "outputs": [
    {
     "name": "stdout",
     "output_type": "stream",
     "text": [
      "(515199, 29)\n",
      "(515199, 29)\n"
     ]
    }
   ],
   "source": [
    "# Drop the duplicates, keep one copy. Index irrelevant presently, dropping first.\n",
    "\n",
    "print(hotel.drop_duplicates(keep='first').shape)\n",
    "hotel.drop_duplicates(keep='first',inplace=True)\n",
    "print(hotel.shape)"
   ]
  },
  {
   "cell_type": "code",
   "execution_count": 10,
   "id": "7538a473-585a-4ac3-b153-dc04da614f8e",
   "metadata": {
    "editable": true,
    "slideshow": {
     "slide_type": ""
    },
    "tags": []
   },
   "outputs": [
    {
     "name": "stdout",
     "output_type": "stream",
     "text": [
      "nulls:  0\n",
      "\n",
      "Duplicated: \n",
      " False    515199\n",
      "Name: count, dtype: int64\n"
     ]
    }
   ],
   "source": [
    "print('nulls: ',hotel.isna().sum().sum())\n",
    "print('\\nDuplicated: \\n',hotel.duplicated().value_counts())"
   ]
  },
  {
   "cell_type": "code",
   "execution_count": 11,
   "id": "d6ddc806-1f30-4524-a99d-560b9c380287",
   "metadata": {},
   "outputs": [
    {
     "data": {
      "text/plain": [
       "0.0"
      ]
     },
     "execution_count": 11,
     "metadata": {},
     "output_type": "execute_result"
    }
   ],
   "source": [
    "hotel[hotel=='NaN'].sum().sum()"
   ]
  },
  {
   "cell_type": "code",
   "execution_count": 12,
   "id": "2a444762-6d51-40f3-8ef7-c90943ddab88",
   "metadata": {},
   "outputs": [
    {
     "data": {
      "text/plain": [
       "Reviewer_Score\n",
       "1    293715\n",
       "0    221484\n",
       "Name: count, dtype: int64"
      ]
     },
     "execution_count": 12,
     "metadata": {},
     "output_type": "execute_result"
    }
   ],
   "source": [
    "hotel.Reviewer_Score.value_counts()"
   ]
  },
  {
   "cell_type": "markdown",
   "id": "163786ab-8b1c-406e-99bb-f46f461829d8",
   "metadata": {
    "editable": true,
    "slideshow": {
     "slide_type": ""
    },
    "tags": []
   },
   "source": [
    "## Question 1: Basic EDA, Basic Cleaning"
   ]
  },
  {
   "cell_type": "markdown",
   "id": "a84df8f9-1d1f-477e-b346-545c96a4b3d9",
   "metadata": {},
   "source": [
    "<a class=\"anchor\" name=\"Part1\"></a>"
   ]
  },
  {
   "cell_type": "markdown",
   "id": "64aeb49b-6796-4ce8-89a1-d078067d9eaf",
   "metadata": {},
   "source": [
    "Overview:\n",
    "\n",
    "Cleaning of the data wasn't extensive. Duplicates and nulls were removed; however, this does not include cleaning of the text. This will be done during the pre-processing stage for tokenization. Getting basic information will give an overall picture but will be useful during feature reduction. Correlation values should be helpful in assessing colinearity; however, basic investigation into collinnearity will be limited as that will also be addressed through PCA during the modelling process; it does remain to be seen whether it's appropriate to consolidate the dummy variables to explain more of the cumulative variance - but that material will be saved for later in the analysis.\n",
    "\n",
    "This is a preliminary examination of base metrics.\n",
    "Basic column statistics are detailed immediately below. There are a total of 30 columns in the base table.\n",
    "\n",
    "\n",
    "\n",
    "Notes:\n",
    "- The extra index from the raw imported .csv was dropped at the start of the notebook\n",
    "- While there are no duplicates now, it seems that 'Additional_Number_of_Scoring' and 'Average Score' are aggregated at some higher level, though it's not clear what. Unfortunately, trying to do so would result in a loss of information, so that's not going to be done. The nature of the value - sum or average, needs to be determined."
   ]
  },
  {
   "cell_type": "code",
   "execution_count": 13,
   "id": "4884de01-af0b-41a6-8f24-35fc9f1b88f8",
   "metadata": {
    "scrolled": true
   },
   "outputs": [
    {
     "name": "stdout",
     "output_type": "stream",
     "text": [
      "SHAPE:(515199, 29),\n",
      "\n",
      "\n",
      "<class 'pandas.core.frame.DataFrame'>\n",
      "Index: 515199 entries, 0 to 515737\n",
      "Data columns (total 29 columns):\n",
      " #   Column                                      Non-Null Count   Dtype  \n",
      "---  ------                                      --------------   -----  \n",
      " 0   Reviewer_Score                              515199 non-null  int64  \n",
      " 1   Nights_Stayed                               515199 non-null  int64  \n",
      " 2   Positive_Review                             515199 non-null  object \n",
      " 3   Negative_Review                             515199 non-null  object \n",
      " 4   Additional_Number_of_Scoring                515199 non-null  int64  \n",
      " 5   Average_Score                               515199 non-null  float64\n",
      " 6   Leisure_Trip                                515199 non-null  int64  \n",
      " 7   Days_Since_Review                           515199 non-null  int64  \n",
      " 8   Total_Number_of_Reviews                     515199 non-null  int64  \n",
      " 9   Total_Number_of_Reviews_Reviewer_Has_Given  515199 non-null  int64  \n",
      " 10  Review_Total_Negative_Word_Counts           515199 non-null  int64  \n",
      " 11  Review_Total_Positive_Word_Counts           515199 non-null  int64  \n",
      " 12  Latitude                                    515199 non-null  float64\n",
      " 13  Longitude                                   515199 non-null  float64\n",
      " 14  Day                                         515199 non-null  int64  \n",
      " 15  Month                                       515199 non-null  int64  \n",
      " 16  Year                                        515199 non-null  int64  \n",
      " 17  Reviewer_Nationality_Australia              515199 non-null  int64  \n",
      " 18  Reviewer_Nationality_Ireland                515199 non-null  int64  \n",
      " 19  Reviewer_Nationality_UAE                    515199 non-null  int64  \n",
      " 20  Reviewer_Nationality_UK                     515199 non-null  int64  \n",
      " 21  Reviewer_Nationality_USA                    515199 non-null  int64  \n",
      " 22  Reviewer_Nationality_Other                  515199 non-null  int64  \n",
      " 23  Hotel_Address_Amsterdam                     515199 non-null  int64  \n",
      " 24  Hotel_Address_Barcelona                     515199 non-null  int64  \n",
      " 25  Hotel_Address_London                        515199 non-null  int64  \n",
      " 26  Hotel_Address_Milan                         515199 non-null  int64  \n",
      " 27  Hotel_Address_Paris                         515199 non-null  int64  \n",
      " 28  Hotel_Address_Vienna                        515199 non-null  int64  \n",
      "dtypes: float64(3), int64(24), object(2)\n",
      "memory usage: 117.9+ MB\n",
      "       Reviewer_Score  Nights_Stayed  Additional_Number_of_Scoring  \\\n",
      "count   515199.000000  515199.000000                 515199.000000   \n",
      "mean         0.570100       2.361750                    498.417604   \n",
      "std          0.495062       1.646734                    500.673193   \n",
      "min          0.000000       1.000000                      1.000000   \n",
      "25%          0.000000       1.000000                    169.000000   \n",
      "50%          1.000000       2.000000                    342.000000   \n",
      "75%          1.000000       3.000000                    660.000000   \n",
      "max          1.000000      31.000000                   2682.000000   \n",
      "\n",
      "       Average_Score   Leisure_Trip  Days_Since_Review  \\\n",
      "count  515199.000000  515199.000000      515199.000000   \n",
      "mean        8.397776       0.810070         354.402120   \n",
      "std         0.547947       0.392246         208.909135   \n",
      "min         5.200000       0.000000           0.000000   \n",
      "25%         8.100000       1.000000         175.000000   \n",
      "50%         8.400000       1.000000         353.000000   \n",
      "75%         8.800000       1.000000         527.000000   \n",
      "max         9.800000       1.000000         730.000000   \n",
      "\n",
      "       Total_Number_of_Reviews  Total_Number_of_Reviews_Reviewer_Has_Given  \\\n",
      "count            515199.000000                               515199.000000   \n",
      "mean               2744.691424                                    7.164750   \n",
      "std                2318.112418                                   11.039315   \n",
      "min                  43.000000                                    1.000000   \n",
      "25%                1161.000000                                    1.000000   \n",
      "50%                2134.000000                                    3.000000   \n",
      "75%                3633.000000                                    8.000000   \n",
      "max               16670.000000                                  355.000000   \n",
      "\n",
      "       Review_Total_Negative_Word_Counts  Review_Total_Positive_Word_Counts  \\\n",
      "count                      515199.000000                      515199.000000   \n",
      "mean                           18.540711                          17.778489   \n",
      "std                            29.693602                          21.804665   \n",
      "min                             0.000000                           0.000000   \n",
      "25%                             2.000000                           5.000000   \n",
      "50%                             9.000000                          11.000000   \n",
      "75%                            23.000000                          22.000000   \n",
      "max                           408.000000                         395.000000   \n",
      "\n",
      "       ...  Reviewer_Nationality_UAE  Reviewer_Nationality_UK  \\\n",
      "count  ...             515199.000000            515199.000000   \n",
      "mean   ...                  0.019853                 0.475752   \n",
      "std    ...                  0.139494                 0.499412   \n",
      "min    ...                  0.000000                 0.000000   \n",
      "25%    ...                  0.000000                 0.000000   \n",
      "50%    ...                  0.000000                 0.000000   \n",
      "75%    ...                  0.000000                 1.000000   \n",
      "max    ...                  1.000000                 1.000000   \n",
      "\n",
      "       Reviewer_Nationality_USA  Reviewer_Nationality_Other  \\\n",
      "count             515199.000000               515199.000000   \n",
      "mean                   0.068612                    0.365010   \n",
      "std                    0.252794                    0.481434   \n",
      "min                    0.000000                    0.000000   \n",
      "25%                    0.000000                    0.000000   \n",
      "50%                    0.000000                    0.000000   \n",
      "75%                    0.000000                    1.000000   \n",
      "max                    1.000000                    1.000000   \n",
      "\n",
      "       Hotel_Address_Amsterdam  Hotel_Address_Barcelona  Hotel_Address_London  \\\n",
      "count            515199.000000            515199.000000         515199.000000   \n",
      "mean                  0.111043                 0.116747              0.509110   \n",
      "std                   0.314185                 0.321119              0.499917   \n",
      "min                   0.000000                 0.000000              0.000000   \n",
      "25%                   0.000000                 0.000000              0.000000   \n",
      "50%                   0.000000                 0.000000              1.000000   \n",
      "75%                   0.000000                 0.000000              1.000000   \n",
      "max                   1.000000                 1.000000              1.000000   \n",
      "\n",
      "       Hotel_Address_Milan  Hotel_Address_Paris  Hotel_Address_Vienna  \n",
      "count        515199.000000        515199.000000         515199.000000  \n",
      "mean              0.072209             0.115319              0.075573  \n",
      "std               0.258834             0.319406              0.264314  \n",
      "min               0.000000             0.000000              0.000000  \n",
      "25%               0.000000             0.000000              0.000000  \n",
      "50%               0.000000             0.000000              0.000000  \n",
      "75%               0.000000             0.000000              0.000000  \n",
      "max               1.000000             1.000000              1.000000  \n",
      "\n",
      "[8 rows x 27 columns]\n",
      "Reviewer_Score  Nights_Stayed  Positive_Review                                                                                                     Negative_Review                                                                                                                                      Additional_Number_of_Scoring  Average_Score  Leisure_Trip  Days_Since_Review  Total_Number_of_Reviews  Total_Number_of_Reviews_Reviewer_Has_Given  Review_Total_Negative_Word_Counts  Review_Total_Positive_Word_Counts  Latitude   Longitude   Day  Month  Year  Reviewer_Nationality_Australia  Reviewer_Nationality_Ireland  Reviewer_Nationality_UAE  Reviewer_Nationality_UK  Reviewer_Nationality_USA  Reviewer_Nationality_Other  Hotel_Address_Amsterdam  Hotel_Address_Barcelona  Hotel_Address_London  Hotel_Address_Milan  Hotel_Address_Paris  Hotel_Address_Vienna\n",
      "0               1                                                                                                                                                                                                                                                                                       74                            8.3            1             65                 1114                     8                                           2                                  2                                  45.482982   9.204191   30   5      2017  0                               0                             0                         1                        0                         0                           0                        0                        0                     1                    0                    0                       1\n",
      "1               2              Everything                                                                                                          No Negative                                                                                                                                          117                           8.4            1             642                774                      2                                           0                                  3                                  48.875384   2.294465   31   10     2015  0                               0                             0                         0                        0                         1                           0                        0                        0                     0                    1                    0                       1\n",
      "                                                                                                                                                                                                                                                                                                        383                           8.9            1             648                2295                     3                                           0                                  3                                  52.348763   4.893883   25   10     2015  0                               0                             0                         1                        0                         0                           1                        0                        0                     0                    0                    0                       1\n",
      "                                                                                                                                                                                                                                                                                                        350                           7.9            1             527                2167                     1                                           0                                  3                                  52.341789   4.824952   23   2      2016  0                               0                             0                         1                        0                         0                           1                        0                        0                     0                    0                    0                       1\n",
      "                                                                                                                                                                                                                                                                                                        298                           8.5            1             164                3550                     1                                           0                                  3                                  45.480585   9.211733   20   2      2017  0                               0                             0                         0                        0                         1                           0                        0                        0                     1                    0                    0                       1\n",
      "                                                                                                                                                                                                                                                                                                                                                                                                                                                                                                                                                                                                                                                                                                                                                                                                                                                                                          ..\n",
      "0               3              Very nice breakfast                                                                                                  The street is really noisy so a courtyard facing room would be preferable                                                                           520                           7.8            0             12                 2591                     8                                           15                                 5                                  52.366347   4.898576   22   7      2017  0                               0                             0                         1                        0                         0                           1                        0                        0                     0                    0                    0                       1\n",
      "                               Very nice breakfast                                                                                                 No Negative                                                                                                                                          42                            9.2            1             108                177                      1                                           0                                  4                                  41.383250   2.175348   17   4      2017  0                               0                             0                         1                        0                         0                           0                        1                        0                     0                    0                    0                       1\n",
      "                                                                                                                                                    No ventilation in rooms Seems like they used to be smoking rooms                                                                                    147                           8.6            0             227                1562                     2                                           14                                 4                                  41.385817   2.125679   19   12     2016  0                               0                             0                         0                        0                         1                           0                        1                        0                     0                    0                    0                       1\n",
      "                               Very nice boutique style hotel Bathroom in particular was great with a lovely shower and almost instant hot water    Would have been nice if there had been facilities to make coffee or tea in the room or even just a bottle of water on offer for the thirsty guest   207                           8.4            1             231                1958                     6                                           32                                 21                                 48.208352   16.354532  15   12     2016  0                               0                             0                         1                        0                         0                           0                        0                        0                     0                    0                    1                       1\n",
      "1               31             Thank You                                                                                                           No Negative                                                                                                                                          908                           8.5            1             385                3980                     1                                           0                                  4                                  51.514400  -0.156551   14   7      2016  0                               0                             0                         0                        0                         1                           0                        0                        1                     0                    0                    0                       1\n",
      "Name: count, Length: 515199, dtype: int64\n"
     ]
    }
   ],
   "source": [
    "lazy_info(hotel)"
   ]
  },
  {
   "cell_type": "code",
   "execution_count": 14,
   "id": "81c72dae-c365-4fae-ae25-7138b319e934",
   "metadata": {},
   "outputs": [
    {
     "data": {
      "text/html": [
       "<div>\n",
       "<style scoped>\n",
       "    .dataframe tbody tr th:only-of-type {\n",
       "        vertical-align: middle;\n",
       "    }\n",
       "\n",
       "    .dataframe tbody tr th {\n",
       "        vertical-align: top;\n",
       "    }\n",
       "\n",
       "    .dataframe thead th {\n",
       "        text-align: right;\n",
       "    }\n",
       "</style>\n",
       "<table border=\"1\" class=\"dataframe\">\n",
       "  <thead>\n",
       "    <tr style=\"text-align: right;\">\n",
       "      <th></th>\n",
       "      <th>Reviewer_Score</th>\n",
       "      <th>Nights_Stayed</th>\n",
       "      <th>Positive_Review</th>\n",
       "      <th>Negative_Review</th>\n",
       "      <th>Additional_Number_of_Scoring</th>\n",
       "      <th>Average_Score</th>\n",
       "      <th>Leisure_Trip</th>\n",
       "      <th>Days_Since_Review</th>\n",
       "      <th>Total_Number_of_Reviews</th>\n",
       "      <th>Total_Number_of_Reviews_Reviewer_Has_Given</th>\n",
       "      <th>...</th>\n",
       "      <th>Reviewer_Nationality_UAE</th>\n",
       "      <th>Reviewer_Nationality_UK</th>\n",
       "      <th>Reviewer_Nationality_USA</th>\n",
       "      <th>Reviewer_Nationality_Other</th>\n",
       "      <th>Hotel_Address_Amsterdam</th>\n",
       "      <th>Hotel_Address_Barcelona</th>\n",
       "      <th>Hotel_Address_London</th>\n",
       "      <th>Hotel_Address_Milan</th>\n",
       "      <th>Hotel_Address_Paris</th>\n",
       "      <th>Hotel_Address_Vienna</th>\n",
       "    </tr>\n",
       "  </thead>\n",
       "  <tbody>\n",
       "    <tr>\n",
       "      <th>0</th>\n",
       "      <td>0</td>\n",
       "      <td>6</td>\n",
       "      <td>Only the park outside of the hotel was beauti...</td>\n",
       "      <td>I am so angry that i made this post available...</td>\n",
       "      <td>194</td>\n",
       "      <td>7.7</td>\n",
       "      <td>1</td>\n",
       "      <td>0</td>\n",
       "      <td>1403</td>\n",
       "      <td>7</td>\n",
       "      <td>...</td>\n",
       "      <td>0</td>\n",
       "      <td>0</td>\n",
       "      <td>0</td>\n",
       "      <td>1</td>\n",
       "      <td>1</td>\n",
       "      <td>0</td>\n",
       "      <td>0</td>\n",
       "      <td>0</td>\n",
       "      <td>0</td>\n",
       "      <td>0</td>\n",
       "    </tr>\n",
       "    <tr>\n",
       "      <th>1</th>\n",
       "      <td>0</td>\n",
       "      <td>4</td>\n",
       "      <td>No real complaints the hotel was great great ...</td>\n",
       "      <td>No Negative</td>\n",
       "      <td>194</td>\n",
       "      <td>7.7</td>\n",
       "      <td>1</td>\n",
       "      <td>0</td>\n",
       "      <td>1403</td>\n",
       "      <td>7</td>\n",
       "      <td>...</td>\n",
       "      <td>0</td>\n",
       "      <td>0</td>\n",
       "      <td>0</td>\n",
       "      <td>0</td>\n",
       "      <td>1</td>\n",
       "      <td>0</td>\n",
       "      <td>0</td>\n",
       "      <td>0</td>\n",
       "      <td>0</td>\n",
       "      <td>0</td>\n",
       "    </tr>\n",
       "    <tr>\n",
       "      <th>2</th>\n",
       "      <td>0</td>\n",
       "      <td>3</td>\n",
       "      <td>Location was good and staff were ok It is cut...</td>\n",
       "      <td>Rooms are nice but for elderly a bit difficul...</td>\n",
       "      <td>194</td>\n",
       "      <td>7.7</td>\n",
       "      <td>1</td>\n",
       "      <td>3</td>\n",
       "      <td>1403</td>\n",
       "      <td>9</td>\n",
       "      <td>...</td>\n",
       "      <td>0</td>\n",
       "      <td>0</td>\n",
       "      <td>0</td>\n",
       "      <td>0</td>\n",
       "      <td>1</td>\n",
       "      <td>0</td>\n",
       "      <td>0</td>\n",
       "      <td>0</td>\n",
       "      <td>0</td>\n",
       "      <td>0</td>\n",
       "    </tr>\n",
       "    <tr>\n",
       "      <th>3</th>\n",
       "      <td>0</td>\n",
       "      <td>3</td>\n",
       "      <td>Great location in nice surroundings the bar a...</td>\n",
       "      <td>My room was dirty and I was afraid to walk ba...</td>\n",
       "      <td>194</td>\n",
       "      <td>7.7</td>\n",
       "      <td>1</td>\n",
       "      <td>3</td>\n",
       "      <td>1403</td>\n",
       "      <td>1</td>\n",
       "      <td>...</td>\n",
       "      <td>0</td>\n",
       "      <td>1</td>\n",
       "      <td>0</td>\n",
       "      <td>0</td>\n",
       "      <td>1</td>\n",
       "      <td>0</td>\n",
       "      <td>0</td>\n",
       "      <td>0</td>\n",
       "      <td>0</td>\n",
       "      <td>0</td>\n",
       "    </tr>\n",
       "    <tr>\n",
       "      <th>4</th>\n",
       "      <td>0</td>\n",
       "      <td>2</td>\n",
       "      <td>Amazing location and building Romantic setting</td>\n",
       "      <td>You When I booked with your company on line y...</td>\n",
       "      <td>194</td>\n",
       "      <td>7.7</td>\n",
       "      <td>1</td>\n",
       "      <td>10</td>\n",
       "      <td>1403</td>\n",
       "      <td>3</td>\n",
       "      <td>...</td>\n",
       "      <td>0</td>\n",
       "      <td>0</td>\n",
       "      <td>0</td>\n",
       "      <td>1</td>\n",
       "      <td>1</td>\n",
       "      <td>0</td>\n",
       "      <td>0</td>\n",
       "      <td>0</td>\n",
       "      <td>0</td>\n",
       "      <td>0</td>\n",
       "    </tr>\n",
       "  </tbody>\n",
       "</table>\n",
       "<p>5 rows × 29 columns</p>\n",
       "</div>"
      ],
      "text/plain": [
       "   Reviewer_Score  Nights_Stayed  \\\n",
       "0               0              6   \n",
       "1               0              4   \n",
       "2               0              3   \n",
       "3               0              3   \n",
       "4               0              2   \n",
       "\n",
       "                                     Positive_Review  \\\n",
       "0   Only the park outside of the hotel was beauti...   \n",
       "1   No real complaints the hotel was great great ...   \n",
       "2   Location was good and staff were ok It is cut...   \n",
       "3   Great location in nice surroundings the bar a...   \n",
       "4    Amazing location and building Romantic setting    \n",
       "\n",
       "                                     Negative_Review  \\\n",
       "0   I am so angry that i made this post available...   \n",
       "1                                        No Negative   \n",
       "2   Rooms are nice but for elderly a bit difficul...   \n",
       "3   My room was dirty and I was afraid to walk ba...   \n",
       "4   You When I booked with your company on line y...   \n",
       "\n",
       "   Additional_Number_of_Scoring  Average_Score  Leisure_Trip  \\\n",
       "0                           194            7.7             1   \n",
       "1                           194            7.7             1   \n",
       "2                           194            7.7             1   \n",
       "3                           194            7.7             1   \n",
       "4                           194            7.7             1   \n",
       "\n",
       "   Days_Since_Review  Total_Number_of_Reviews  \\\n",
       "0                  0                     1403   \n",
       "1                  0                     1403   \n",
       "2                  3                     1403   \n",
       "3                  3                     1403   \n",
       "4                 10                     1403   \n",
       "\n",
       "   Total_Number_of_Reviews_Reviewer_Has_Given  ...  Reviewer_Nationality_UAE  \\\n",
       "0                                           7  ...                         0   \n",
       "1                                           7  ...                         0   \n",
       "2                                           9  ...                         0   \n",
       "3                                           1  ...                         0   \n",
       "4                                           3  ...                         0   \n",
       "\n",
       "   Reviewer_Nationality_UK  Reviewer_Nationality_USA  \\\n",
       "0                        0                         0   \n",
       "1                        0                         0   \n",
       "2                        0                         0   \n",
       "3                        1                         0   \n",
       "4                        0                         0   \n",
       "\n",
       "   Reviewer_Nationality_Other  Hotel_Address_Amsterdam  \\\n",
       "0                           1                        1   \n",
       "1                           0                        1   \n",
       "2                           0                        1   \n",
       "3                           0                        1   \n",
       "4                           1                        1   \n",
       "\n",
       "   Hotel_Address_Barcelona  Hotel_Address_London  Hotel_Address_Milan  \\\n",
       "0                        0                     0                    0   \n",
       "1                        0                     0                    0   \n",
       "2                        0                     0                    0   \n",
       "3                        0                     0                    0   \n",
       "4                        0                     0                    0   \n",
       "\n",
       "   Hotel_Address_Paris  Hotel_Address_Vienna  \n",
       "0                    0                     0  \n",
       "1                    0                     0  \n",
       "2                    0                     0  \n",
       "3                    0                     0  \n",
       "4                    0                     0  \n",
       "\n",
       "[5 rows x 29 columns]"
      ]
     },
     "execution_count": 14,
     "metadata": {},
     "output_type": "execute_result"
    }
   ],
   "source": [
    "hotel.head(5)"
   ]
  },
  {
   "cell_type": "code",
   "execution_count": 15,
   "id": "a0bf1293-3be6-43e1-9569-246f035436d9",
   "metadata": {},
   "outputs": [
    {
     "data": {
      "text/plain": [
       "480"
      ]
     },
     "execution_count": 15,
     "metadata": {},
     "output_type": "execute_result"
    }
   ],
   "source": [
    "len(hotel.Additional_Number_of_Scoring.unique())"
   ]
  },
  {
   "cell_type": "code",
   "execution_count": 16,
   "id": "ae9abf13-cd8e-44e8-a19e-6e8634f39049",
   "metadata": {},
   "outputs": [
    {
     "data": {
      "text/plain": [
       "1360"
      ]
     },
     "execution_count": 16,
     "metadata": {},
     "output_type": "execute_result"
    }
   ],
   "source": [
    "len(pd.concat([hotel.Additional_Number_of_Scoring,hotel.Total_Number_of_Reviews]).unique())"
   ]
  },
  {
   "cell_type": "code",
   "execution_count": 17,
   "id": "8e2ba84a-7ae8-4a1f-8809-10a9eff7ea02",
   "metadata": {},
   "outputs": [
    {
     "data": {
      "text/html": [
       "<div>\n",
       "<style scoped>\n",
       "    .dataframe tbody tr th:only-of-type {\n",
       "        vertical-align: middle;\n",
       "    }\n",
       "\n",
       "    .dataframe tbody tr th {\n",
       "        vertical-align: top;\n",
       "    }\n",
       "\n",
       "    .dataframe thead th {\n",
       "        text-align: right;\n",
       "    }\n",
       "</style>\n",
       "<table border=\"1\" class=\"dataframe\">\n",
       "  <thead>\n",
       "    <tr style=\"text-align: right;\">\n",
       "      <th></th>\n",
       "      <th>Reviewer_Score</th>\n",
       "      <th>Nights_Stayed</th>\n",
       "      <th>Positive_Review</th>\n",
       "      <th>Negative_Review</th>\n",
       "      <th>Additional_Number_of_Scoring</th>\n",
       "      <th>Average_Score</th>\n",
       "      <th>Leisure_Trip</th>\n",
       "      <th>Days_Since_Review</th>\n",
       "      <th>Total_Number_of_Reviews</th>\n",
       "      <th>Total_Number_of_Reviews_Reviewer_Has_Given</th>\n",
       "      <th>...</th>\n",
       "      <th>Reviewer_Nationality_UAE</th>\n",
       "      <th>Reviewer_Nationality_UK</th>\n",
       "      <th>Reviewer_Nationality_USA</th>\n",
       "      <th>Reviewer_Nationality_Other</th>\n",
       "      <th>Hotel_Address_Amsterdam</th>\n",
       "      <th>Hotel_Address_Barcelona</th>\n",
       "      <th>Hotel_Address_London</th>\n",
       "      <th>Hotel_Address_Milan</th>\n",
       "      <th>Hotel_Address_Paris</th>\n",
       "      <th>Hotel_Address_Vienna</th>\n",
       "    </tr>\n",
       "  </thead>\n",
       "  <tbody>\n",
       "    <tr>\n",
       "      <th>180112</th>\n",
       "      <td>1</td>\n",
       "      <td>1</td>\n",
       "      <td>Very convenient for Gare de Montparnasse</td>\n",
       "      <td>Need better directions from Metro</td>\n",
       "      <td>228</td>\n",
       "      <td>7.9</td>\n",
       "      <td>1</td>\n",
       "      <td>730</td>\n",
       "      <td>2515</td>\n",
       "      <td>9</td>\n",
       "      <td>...</td>\n",
       "      <td>0</td>\n",
       "      <td>1</td>\n",
       "      <td>0</td>\n",
       "      <td>0</td>\n",
       "      <td>0</td>\n",
       "      <td>0</td>\n",
       "      <td>0</td>\n",
       "      <td>0</td>\n",
       "      <td>1</td>\n",
       "      <td>0</td>\n",
       "    </tr>\n",
       "  </tbody>\n",
       "</table>\n",
       "<p>1 rows × 29 columns</p>\n",
       "</div>"
      ],
      "text/plain": [
       "        Reviewer_Score  Nights_Stayed  \\\n",
       "180112               1              1   \n",
       "\n",
       "                                  Positive_Review  \\\n",
       "180112   Very convenient for Gare de Montparnasse   \n",
       "\n",
       "                           Negative_Review  Additional_Number_of_Scoring  \\\n",
       "180112   Need better directions from Metro                           228   \n",
       "\n",
       "        Average_Score  Leisure_Trip  Days_Since_Review  \\\n",
       "180112            7.9             1                730   \n",
       "\n",
       "        Total_Number_of_Reviews  Total_Number_of_Reviews_Reviewer_Has_Given  \\\n",
       "180112                     2515                                           9   \n",
       "\n",
       "        ...  Reviewer_Nationality_UAE  Reviewer_Nationality_UK  \\\n",
       "180112  ...                         0                        1   \n",
       "\n",
       "        Reviewer_Nationality_USA  Reviewer_Nationality_Other  \\\n",
       "180112                         0                           0   \n",
       "\n",
       "        Hotel_Address_Amsterdam  Hotel_Address_Barcelona  \\\n",
       "180112                        0                        0   \n",
       "\n",
       "        Hotel_Address_London  Hotel_Address_Milan  Hotel_Address_Paris  \\\n",
       "180112                     0                    0                    1   \n",
       "\n",
       "        Hotel_Address_Vienna  \n",
       "180112                     0  \n",
       "\n",
       "[1 rows x 29 columns]"
      ]
     },
     "execution_count": 17,
     "metadata": {},
     "output_type": "execute_result"
    }
   ],
   "source": [
    "# Take a look at a duplicate line\n",
    "hotel.loc[hotel.Year.eq(2015) & hotel.Day.eq(4) & hotel.Month.eq(8) & hotel.Reviewer_Nationality_UK.eq(1) & hotel.Total_Number_of_Reviews.eq(2515)]\t"
   ]
  },
  {
   "cell_type": "code",
   "execution_count": 18,
   "id": "28f2cd94-ddc8-43dd-8840-e6fba18ed93c",
   "metadata": {},
   "outputs": [
    {
     "ename": "SyntaxError",
     "evalue": "closing parenthesis ']' does not match opening parenthesis '(' (1857362330.py, line 1)",
     "output_type": "error",
     "traceback": [
      "\u001b[1;36m  Cell \u001b[1;32mIn[18], line 1\u001b[1;36m\u001b[0m\n\u001b[1;33m    hotel.drop(columns='Negative_Reviews','Positive_Reviews'],inplace=True)\u001b[0m\n\u001b[1;37m                                                            ^\u001b[0m\n\u001b[1;31mSyntaxError\u001b[0m\u001b[1;31m:\u001b[0m closing parenthesis ']' does not match opening parenthesis '('\n"
     ]
    }
   ],
   "source": [
    "hotel.drop(columns='Negative_Reviews','Positive_Reviews'],inplace=True)"
   ]
  },
  {
   "cell_type": "code",
   "execution_count": null,
   "id": "7670ff62-783a-49bf-a50a-43a51d76a39c",
   "metadata": {},
   "outputs": [],
   "source": [
    "hotel.info()"
   ]
  },
  {
   "cell_type": "markdown",
   "id": "917f2766-93ca-4e79-b79d-f4c37513d394",
   "metadata": {},
   "source": [
    "Cleaning of the text data will be done in the preprocessing stage."
   ]
  },
  {
   "cell_type": "code",
   "execution_count": null,
   "id": "50690f3a-ec63-4924-97cb-cd9e692df5b7",
   "metadata": {},
   "outputs": [],
   "source": [
    "# General details overview\n",
    "fig, ax1 = plt.subplots(layout='tight',figsize=(10,10))\n",
    "plt.box(on=None)\n",
    "plt.axis('off')\n",
    "\n",
    "plt.subplot(2,2,1)\n",
    "ax1=plt.gca()\n",
    "hotel.Reviewer_Score.value_counts().plot(kind='bar',xlabel='Reviewer Score',\n",
    "                                         ylabel='Number of Reviews',\n",
    "                                         title=f' Reviewr Scores. Success Rate: {round(hotel.Reviewer_Score.sum()*100/hotel.Reviewer_Score.count(),2)}%',fontsize='xx-small',ax=ax1)\n",
    "ax1.set_ylabel('Number of Reviews')\n",
    "\n",
    "\n",
    "plt.subplot(2,2,2)\n",
    "ax2=plt.gca()\n",
    "sns.histplot(hotel[hotel.Reviewer_Score==0].Average_Score,bins=30, alpha=0.5,color='blue',label='Negative Reviewer Score')\n",
    "sns.histplot(hotel[hotel.Reviewer_Score==1].Average_Score, bins=30,alpha=0.5,color='orange',label='Positive Reviewer Score')\n",
    "ax2.legend()\n",
    "ax2.set_ylabel('Number of Reviews')\n",
    "\n",
    "plt.subplot(2,2,3)\n",
    "ax3=plt.gca()\n",
    "#sns.barplot(hotel[hotel.columns[16:23]].sum(),ax=ax3)\n",
    "hotel[hotel.columns[14:20]].sum().plot(kind='bar')\n",
    "ax3.tick_params(axis='x', rotation=60)\n",
    "ax3.set_title('Reviewers by Nationality')\n",
    "ax3.set_xlabel('Nationality')\n",
    "ax3.set_ylabel('Number of Reviews')\n",
    "\n",
    "\n",
    "plt.subplot(2,2,4)\n",
    "ax4=plt.gca()\n",
    "\n",
    "sns.barplot(hotel[hotel.columns[20:26]].sum(),ax=ax4)\n",
    "ax4.tick_params(axis='x', rotation=90)\n",
    "ax4.set_title('Reviewers by Hotel Location')\n",
    "ax4.set_xlabel('Hotel Location')\n",
    "ax4.set_ylabel('Number of Reviews')\n",
    "ax4.tick_params(axis='x', rotation=60)\n",
    "plt.suptitle('(Fig.1.1): Basic Overview Data: Distribution and Counts')\n",
    "plt.show()"
   ]
  },
  {
   "cell_type": "markdown",
   "id": "5ca9f92b-2cd2-49b9-a4a4-945b8297505f",
   "metadata": {},
   "source": [
    "Our target feature and objective is to determine the outcome of a reviewer's score based on the data presesnted and, in particular, the language provided in the review columns. Basic EDA will give us some preliminary insight.\n",
    "\n",
    "A (top left) - A positive results rate from a reviewer of 57%.\n",
    "B (top right)- While scores from negative reviews are generally less than positive reviews, they they're still somewhat consistent with one another.\n",
    "C/ D (bot)- This a look at the dummy columns in the data. They are strongly weight towards one or two categories (US/USA Nationality, London location)"
   ]
  },
  {
   "cell_type": "markdown",
   "id": "f66cf19d-27c0-4ebc-8f98-71c5cc1177a3",
   "metadata": {},
   "source": [
    "This is a pretty general breakdown. There's less of a disparity count values of positive and negative reviewer scores. It was surprising that the average score of the review scorers, when designated a negative review, was not that much lower than the review_score=1 class.\n",
    "\n",
    "This may have to do with the way average score is represented in the data, as those values aren't homogenous. Having a set average review score in a sample group that's unevenly distributed along another class would skew the data when trying to assess the average score of each class.\n",
    "\n",
    "Nationality and Hotel Location of reviews is represented in the data through dummy variables. The distribution of the counts are not consistent across all categories. Nationality is has 2 strong sample groups whereas hotel location is strongly weighted towards London."
   ]
  },
  {
   "cell_type": "code",
   "execution_count": null,
   "id": "cefe2293-b610-4e33-8a5d-d09628171636",
   "metadata": {},
   "outputs": [],
   "source": []
  },
  {
   "cell_type": "code",
   "execution_count": null,
   "id": "3ea70d44-7ff0-4e60-a13d-df9340593552",
   "metadata": {},
   "outputs": [],
   "source": [
    "# Calculating Proportion of reviewer scores\n",
    "hotel.Reviewer_Score.value_counts().loc[1,]/hotel.Reviewer_Score.value_counts().sum()"
   ]
  },
  {
   "cell_type": "markdown",
   "id": "4eec2a28-a637-45e5-aba1-b53d484281d1",
   "metadata": {
    "editable": true,
    "slideshow": {
     "slide_type": ""
    },
    "tags": []
   },
   "source": [
    "#### Visualizations"
   ]
  },
  {
   "cell_type": "code",
   "execution_count": null,
   "id": "cf81b02a-fa60-4ea3-a0bf-20d515a67429",
   "metadata": {},
   "outputs": [],
   "source": [
    "hotel.Total_Number_of_Reviews_Reviewer_Has_Given.describe()\t"
   ]
  },
  {
   "cell_type": "code",
   "execution_count": null,
   "id": "e009ff64-f183-45b2-8f92-7a695120942c",
   "metadata": {
    "scrolled": true
   },
   "outputs": [],
   "source": [
    "hotel[hotel.Reviewer_Score==1].Average_Score.describe()"
   ]
  },
  {
   "cell_type": "code",
   "execution_count": null,
   "id": "1f96219b-866d-44df-9e8d-4a29072920da",
   "metadata": {},
   "outputs": [],
   "source": [
    "plt.subplots(1,1)\n",
    "\n",
    "\n",
    "sns.histplot(-hotel.Review_Total_Negative_Word_Counts, label='Total Negative Word Counts, Left', bins=50)\n",
    "sns.histplot(hotel.Review_Total_Positive_Word_Counts,label='Total Positive Word Counts, Right',bins=50)\n",
    "plt.yscale('log')\n",
    "plt.ylabel('Review counts, (log scale)')\n",
    "plt.xlabel('Word count in review. Negative Reviews with negative values')\n",
    "plt.legend()\n",
    "plt.title('Mirror Distribution of Negative and Positive Word Counts')\n",
    "#Perhaps unnecessary but I thuoght it might be a good way to visualize any difference\n",
    "#Between the two. Except \n",
    "\n"
   ]
  },
  {
   "cell_type": "markdown",
   "id": "f3dc64a7-bd9d-4e22-9ff3-7e69d8ca975e",
   "metadata": {},
   "source": [
    "Taking a look at distribution of word counts in the reviews. This chart helps visualize the difference in review counts between the two categories of the target feature. Both sides seem to cap at 400 words - which may be a limitation placed by the hotel."
   ]
  },
  {
   "cell_type": "code",
   "execution_count": null,
   "id": "69e2aa17-8aec-43c0-99a1-feee62f29c61",
   "metadata": {
    "scrolled": true
   },
   "outputs": [],
   "source": [
    "# positive word count per negative review\n",
    "print('Number of Words in Negative Reviews: ',hotel.Review_Total_Negative_Word_Counts.sum()/(hotel[hotel.Reviewer_Score==0].Reviewer_Score.count()))\n",
    "print('Number of Words in Positive Reviews: ',hotel.Review_Total_Positive_Word_Counts.sum()/(hotel[hotel.Reviewer_Score==1].Reviewer_Score.count()))\n",
    "# negative word count per negative review"
   ]
  },
  {
   "cell_type": "code",
   "execution_count": null,
   "id": "85cceb56-ef30-4d32-ad68-fbbb5c50e99d",
   "metadata": {},
   "outputs": [],
   "source": [
    "print((hotel[hotel.Reviewer_Score==1].Reviewer_Score.count()))\n",
    "print((hotel[hotel.Reviewer_Score==0].Reviewer_Score.count()))"
   ]
  },
  {
   "cell_type": "markdown",
   "id": "a4b987f7-2a45-44b8-88d7-ea4ca6da1613",
   "metadata": {
    "editable": true,
    "slideshow": {
     "slide_type": ""
    },
    "tags": []
   },
   "source": [
    "## Question 2: Text Pre-Processing <a class=\"anchor\" name=\"Part2\"></a>\n",
    "TT-Split Now <br>\n",
    "Check CountVectorizer doc. about tokenization procedures - what might it be skipping that's covered below?\n",
    "- lowercase must be specified\n",
    "- special characters and punctuation auto\n",
    "- split auto.\n",
    "- *****StopWords"
   ]
  },
  {
   "cell_type": "markdown",
   "id": "86bdfe6c-f5ac-4002-82c7-5b6808f5ce1c",
   "metadata": {
    "editable": true,
    "slideshow": {
     "slide_type": ""
    },
    "tags": []
   },
   "source": [
    "<div class=\"alert alert-block alert-warning\">\n",
    "<b>QUESTION 2 TEXT:</b><p style=\"color:black;\"><b></b><br>\n",
    "Split the data into train and test sets and transform the positive and negative review columns using a CountVectorizer. Consider the following: <br>\n",
    "- What tokenizer and text cleaning steps do you include?<br>\n",
    "- Using the vectorizer, maximize the number of features at 500 and make sure that tokens used <10 times are dropped from the vocabulary.\n",
    "    \n",
    "<p style=\"color:red;\">This process may be done on the positive and negative review columns separately and then the resulting arrays merged with the original numeric features to form the final train and test data frames ready for modelling. In your column names, make sure you mark which words are coming from the positive vs negative reviews (you can use a prefix such as pos_ and neg_).\n",
    "</b></p></div>"
   ]
  },
  {
   "cell_type": "markdown",
   "id": "5aba0f71-ff8e-4804-9b1c-f10740a4efe7",
   "metadata": {},
   "source": [
    "### Text Review"
   ]
  },
  {
   "cell_type": "code",
   "execution_count": null,
   "id": "67c324b4-757e-4f22-bc0b-c3d79f06efcf",
   "metadata": {},
   "outputs": [],
   "source": [
    "hotel.info()"
   ]
  },
  {
   "cell_type": "code",
   "execution_count": null,
   "id": "d4f292f9-f33a-4820-a762-d151af1131dc",
   "metadata": {},
   "outputs": [],
   "source": [
    "print('Number of Words in Negative Reviews: ',hotel.Review_Total_Negative_Word_Counts.sum()/(hotel[hotel.Reviewer_Score==0].Reviewer_Score.count()))\n",
    "print('Number of Words in Positive Reviews: ',hotel.Review_Total_Positive_Word_Counts.sum()/(hotel[hotel.Reviewer_Score==1].Reviewer_Score.count()))"
   ]
  },
  {
   "cell_type": "code",
   "execution_count": null,
   "id": "44d9276b-fdd3-46cb-9318-76357770c6fc",
   "metadata": {},
   "outputs": [],
   "source": [
    "hotel.Review_Total_Negative_Word_Counts.describe()\n",
    "hotel.iloc[1,3]"
   ]
  },
  {
   "cell_type": "code",
   "execution_count": null,
   "id": "d7d9de66-8276-4e93-92ad-973f92068edf",
   "metadata": {},
   "outputs": [],
   "source": [
    "x=len(hotel.index)*.9\n",
    "x=round(x,0)\n",
    "#hotel.Review_Total_Negative_Word_Counts.iloc[hotel.Review_Total_Negative_Word_Counts.index.max*.9]"
   ]
  },
  {
   "cell_type": "code",
   "execution_count": null,
   "id": "e7043660-e1b6-4b81-959c-923f96f16d83",
   "metadata": {},
   "outputs": [],
   "source": [
    "int(x)"
   ]
  },
  {
   "cell_type": "code",
   "execution_count": null,
   "id": "658221e5-454b-470a-947b-16375e1a1a00",
   "metadata": {},
   "outputs": [],
   "source": [
    "hotel.Review_Total_Negative_Word_Counts.sort_values(ascending=True).iloc[int(x)]"
   ]
  },
  {
   "cell_type": "markdown",
   "id": "c0cb2497-af31-458f-9a24-df8b82a5d57a",
   "metadata": {},
   "source": [
    " ##### _**Histograms of Positive and Negative Word Counts**_"
   ]
  },
  {
   "cell_type": "code",
   "execution_count": null,
   "id": "c8e776d9-3309-479d-a7ab-66724e54016a",
   "metadata": {
    "scrolled": true
   },
   "outputs": [],
   "source": [
    "#  >90 % Positive Review word counts covered by values of 50 or less\n",
    "plt.figure(figsize=(3,3))\n",
    "print(hotel.Review_Total_Negative_Word_Counts.describe())\n",
    "hotel[hotel.Review_Total_Negative_Word_Counts<50].Review_Total_Negative_Word_Counts.hist()\n",
    "plt.title('Distribution of Negative Word counts \\n Average of 18.5 words per review.')\n",
    "plt.xlabel('Word Counts')\n",
    "plt.ylabel('Number of Reviews')"
   ]
  },
  {
   "cell_type": "code",
   "execution_count": null,
   "id": "427b1070-ab00-44fa-b59a-b881c7eb9a10",
   "metadata": {
    "jupyter": {
     "source_hidden": true
    },
    "scrolled": true
   },
   "outputs": [],
   "source": [
    "#  Over of 90 % Positive Review word counts covered by values of 50 or less\n",
    "plt.figure(figsize=(3,3))\n",
    "print(hotel.Review_Total_Positive_Word_Counts.describe())\n",
    "hotel[hotel.Review_Total_Positive_Word_Counts<50].Review_Total_Positive_Word_Counts.hist()\n",
    "\n",
    "plt.title('Distribution of Positive Word counts \\n Average of 17.7 words per review.')\n",
    "plt.xlabel('Word Counts')\n",
    "plt.ylabel('Number of Reviews')"
   ]
  },
  {
   "cell_type": "markdown",
   "id": "69b1b537-7bc7-44b4-b5af-e5b16ffa54f4",
   "metadata": {},
   "source": [
    "2 quick illustrations of patterns of word counts between positive and negative reviews. This plot makes clearer the difference in volume of shorter reviews."
   ]
  },
  {
   "cell_type": "code",
   "execution_count": null,
   "id": "ed353cf0-cf51-49b4-b96e-9a0d2a9c12bc",
   "metadata": {},
   "outputs": [],
   "source": [
    "#### keeping a checkpoint\n",
    "#hotel_copy=hotel.copy()\n",
    "#hotel=hotel_copy.copy()"
   ]
  },
  {
   "cell_type": "code",
   "execution_count": null,
   "id": "65c4d1b6-9ed1-4299-bbfd-a51b42f277f6",
   "metadata": {},
   "outputs": [],
   "source": [
    "#Special characters are handled by Vectorizer, not needed here in custom tokenizer\n",
    "#re.sub(f\"[{forbidden_char}]\",'','testing2323.')"
   ]
  },
  {
   "cell_type": "code",
   "execution_count": null,
   "id": "1a119c43-548f-4f2b-b8c4-8aa15aa9349f",
   "metadata": {
    "jupyter": {
     "source_hidden": true
    }
   },
   "outputs": [],
   "source": [
    "print('Positive Review: ',(hotel[hotel.Reviewer_Score==1].Reviewer_Score.count()))\n",
    "print('Negative Review: ',(hotel[hotel.Reviewer_Score==0].Reviewer_Score.count()))\n",
    "print('%Difference: ',round(((hotel[hotel.Reviewer_Score==1].Reviewer_Score.count())/(hotel[hotel.Reviewer_Score==0].Reviewer_Score.count())-1)*100,2),'%')"
   ]
  },
  {
   "cell_type": "markdown",
   "id": "f7848b7c-c8cd-48db-b008-42304428d6e4",
   "metadata": {},
   "source": [
    "Shown above in a normalized visual, there are 32.61% more positive reviews."
   ]
  },
  {
   "cell_type": "markdown",
   "id": "1b2a4e91-7188-4348-aaaa-7b62dd0d941a",
   "metadata": {},
   "source": [
    "### Cleaning the Text"
   ]
  },
  {
   "cell_type": "code",
   "execution_count": null,
   "id": "dd65a293-67ce-4f56-95ac-375368ff584c",
   "metadata": {},
   "outputs": [],
   "source": [
    "hotel.info()"
   ]
  },
  {
   "cell_type": "markdown",
   "id": "e77700d7-acba-4bb2-8f5d-0d8366a59200",
   "metadata": {},
   "source": [
    "A trend was noticed in the data that there are cells for the text data that are labeled as \"no positive\" or \"no negative.\n",
    "These were found to be a significant number. They do not add any new information and only serve to cause error in a sentiment analysis by\n",
    "presenting contrasting terminology ('positive' in the negative column, for ex.) It has to be addressed beforehand or during tokenization."
   ]
  },
  {
   "cell_type": "code",
   "execution_count": null,
   "id": "08034363-b823-405b-be12-c285bb6ffcf4",
   "metadata": {},
   "outputs": [],
   "source": [
    "hotel.info()"
   ]
  },
  {
   "cell_type": "code",
   "execution_count": null,
   "id": "a60c074e-1bc7-4d23-ac74-432cdccf19f2",
   "metadata": {},
   "outputs": [],
   "source": [
    "# For Positive Review: Removing what should be blank cells\n",
    "print(hotel[hotel.Negative_Review=='No Negative'].Negative_Review.count())\n",
    "print(hotel[hotel.Negative_Review=='No Positive'].Negative_Review.count())\n",
    "print(hotel[hotel.Positive_Review=='No Negative'].Positive_Review.count())\n",
    "print(hotel[hotel.Positive_Review=='No Positive'].Positive_Review.count())"
   ]
  },
  {
   "cell_type": "code",
   "execution_count": null,
   "id": "7a2019f1-1195-4a89-b37c-1b37b22b7d08",
   "metadata": {},
   "outputs": [],
   "source": [
    "hotel['Negative_Review']=hotel['Negative_Review'].replace('No Negative','')\n",
    "\n",
    "# Replaced and then checked with the hotel.info() above.\n",
    "# DF datatype was getting set to object in all columns if done any other way"
   ]
  },
  {
   "cell_type": "markdown",
   "id": "718f99be-1f87-49fd-b294-a6749e755bcf",
   "metadata": {},
   "source": [
    "---"
   ]
  },
  {
   "cell_type": "markdown",
   "id": "36b6ef06-7c3c-4672-97f4-d1621596d04d",
   "metadata": {},
   "source": [
    "---"
   ]
  },
  {
   "cell_type": "markdown",
   "id": "dd30143f-9a8f-4ff5-b623-016bb1244383",
   "metadata": {},
   "source": [
    "### Train-Test Splits, Tokenization, N-Grams"
   ]
  },
  {
   "cell_type": "markdown",
   "id": "2ffb52f5-c563-4fd5-acee-8fde8394e8d6",
   "metadata": {},
   "source": [
    "A quick review of the instructions: we are to take the positive and negative review columns and process them into tokens of words or phrases. Given they are in separate columns, they will need to be processed separately but merged/contatenated at the end of the process. At the same time, we will set up the tokenization process. There ist he option to use a custom tokenizer, the CountVectorizer which handles some functions automatically, or both.\n",
    "\n",
    "There are 2 sets of data to start. All data sets must be split into Testing and Training Data. More data may be split from the training set for a validation set. These must occur before the data is split otherwise to ensure that the splits are consistent.\n",
    "\n",
    "For the upcoming logistic regression, we will include the validation set. An analysis of the positive and negative sentiments will be performed after tokenization. \n",
    "\n",
    "The original data shape is below, confirmation of the splits and consistency will be maintained."
   ]
  },
  {
   "cell_type": "code",
   "execution_count": null,
   "id": "a21c1f08-1551-43aa-ad98-efc66d701478",
   "metadata": {},
   "outputs": [],
   "source": [
    "hotel.shape\n",
    "# 515199 rows, 28 total columns. These will be reduced to 2."
   ]
  },
  {
   "cell_type": "code",
   "execution_count": null,
   "id": "909f3713-cf11-4117-9518-f458d5090eb9",
   "metadata": {},
   "outputs": [],
   "source": [
    "hotel.info()"
   ]
  },
  {
   "cell_type": "code",
   "execution_count": null,
   "id": "1b11e7fb-4083-4cff-af40-bce141c484d0",
   "metadata": {},
   "outputs": [],
   "source": [
    "# Assign independent feature(s) X, and target, dependent feature, y.\n",
    "# Subdividing into Pos/Neg groups occurs after the 2 Train-Test Splits\n",
    "# Dataset shape\n",
    "X=hotel.drop(columns='Reviewer_Score')\n",
    "y=hotel.Reviewer_Score\n",
    "#Using a 20%:10% \n",
    "X1_train,X_test,y1_train, y_test = train_test_split(X, y, test_size=0.2, random_state=42)\n",
    "X_train, VX_test, y_train, Vy_test = train_test_split(X1_train,y1_train, test_size=0.1, random_state=42)"
   ]
  },
  {
   "cell_type": "code",
   "execution_count": null,
   "id": "911ebba1-cfff-4c05-993b-4f8138f933f0",
   "metadata": {},
   "outputs": [],
   "source": [
    "#Confirming split\n",
    "print(f' XTrain1 {X1_train.shape}')\n",
    "print(f' Xtest {X_test.shape}')\n",
    "print(f' y1train{y1_train.shape}')\n",
    "print(f' ytest{y_test.shape}')\n",
    "\n",
    "#Shapes are consistent"
   ]
  },
  {
   "cell_type": "code",
   "execution_count": null,
   "id": "9ee08a6c-c31f-4405-a1ca-fa975834ffcc",
   "metadata": {},
   "outputs": [],
   "source": [
    "# Next split for validation set.\n",
    "X_train, VX_test, y_train, Vy_test = train_test_split(X1_train,y1_train, test_size=0.1, random_state=42)"
   ]
  },
  {
   "cell_type": "markdown",
   "id": "c5aebfbc-b632-4fc2-8153-e306b0a7e26b",
   "metadata": {},
   "source": [
    "First we are splitting the data into train and test data.\n",
    "Then we are doing an additional split for validation data.\n",
    "\n",
    "There are 3 sets of data:<br>\n",
    "- X_train, Y_train (72%)\n",
    "- X_test,Y_test  (20%)\n",
    "- VX_test,Vy_test (8%)"
   ]
  },
  {
   "cell_type": "code",
   "execution_count": null,
   "id": "d9919874-d7ab-455e-b92c-0ff027089b3d",
   "metadata": {},
   "outputs": [],
   "source": [
    "# Shapes are consistent\n",
    "print(f' XTrain {X_train.shape}')\n",
    "print(f' Xtest {X_test.shape}')\n",
    "print(f' VXtest{VX_test.shape}')\n",
    "print(f' ytrain{y_train.shape}')\n",
    "print(f' ytest{y_test.shape}')\n",
    "print(f' Vytest{Vy_test.shape}')\n",
    "\n",
    "\n",
    "#consistent - X/y Train, X/y Test, VX/Vy Test"
   ]
  },
  {
   "cell_type": "code",
   "execution_count": null,
   "id": "73dbc791-9d55-42f9-9fb3-a4e8909aad34",
   "metadata": {},
   "outputs": [],
   "source": [
    "print(f' XTrain {X_train.isna().sum().sum()}')\n",
    "print(f' Xtest {X_test.isna().sum().sum()}')\n",
    "print(f' ytrain{y_train.isna().sum().sum()}')\n",
    "print(f' ytest{y_test.isna().sum().sum()}')\n",
    "# Double checking for nulls"
   ]
  },
  {
   "cell_type": "code",
   "execution_count": null,
   "id": "c6e4889e-aae4-47a6-b087-d78bbcd642ed",
   "metadata": {
    "scrolled": true
   },
   "outputs": [],
   "source": [
    "X_train.info()"
   ]
  },
  {
   "cell_type": "code",
   "execution_count": null,
   "id": "f02a786b-4c4d-48a0-9886-12af38987370",
   "metadata": {
    "scrolled": true
   },
   "outputs": [],
   "source": [
    "X_test.info()"
   ]
  },
  {
   "cell_type": "code",
   "execution_count": null,
   "id": "f0fc36e9-b977-4e32-8656-db86ece1c6aa",
   "metadata": {},
   "outputs": [],
   "source": []
  },
  {
   "cell_type": "code",
   "execution_count": null,
   "id": "1e5771a9-c8f4-4383-92b3-fd067c972e47",
   "metadata": {},
   "outputs": [],
   "source": [
    "VX_test.info()"
   ]
  },
  {
   "cell_type": "code",
   "execution_count": null,
   "id": "c6334af3-0d04-42ba-ad8f-179f8b83c7ac",
   "metadata": {},
   "outputs": [],
   "source": [
    "pos_X_train=X_train.Positive_Review\n",
    "pos_X_test=X_test.Positive_Review\n",
    "pos_VX_test=VX_test.Positive_Review"
   ]
  },
  {
   "cell_type": "code",
   "execution_count": null,
   "id": "ca562194-e464-48c3-819d-111e7a6b7757",
   "metadata": {},
   "outputs": [],
   "source": [
    "neg_X_train=X_train.Negative_Review\n",
    "neg_X_test=X_test.Negative_Review\n",
    "neg_VX_test=VX_test.Negative_Review"
   ]
  },
  {
   "cell_type": "markdown",
   "id": "4d383ce9-a271-4859-80d6-18d7d537c2c3",
   "metadata": {},
   "source": [
    "**We now have 6 sets of data X_train, x_test, vx_test - positive and negative review score**"
   ]
  },
  {
   "cell_type": "markdown",
   "id": "454600c1-c3d8-4042-91f1-66829f344a34",
   "metadata": {
    "editable": true,
    "slideshow": {
     "slide_type": ""
    },
    "tags": []
   },
   "source": [
    "### Part 2: Text Preprocessing, Text Cleaning, Tokens, Vectorizer"
   ]
  },
  {
   "cell_type": "code",
   "execution_count": null,
   "id": "027615fe-e871-421a-8cc7-5d43ea936fcf",
   "metadata": {
    "editable": true,
    "slideshow": {
     "slide_type": ""
    },
    "tags": []
   },
   "outputs": [],
   "source": [
    "# There are data rows were Positive Reviews are actually blank but entered (by whomsoever created the csv) as 'No Positive'\n",
    "# A decision needs to be made on how to handle them - and before the train test split\n",
    "hotel[hotel.Positive_Review.str.contains('Positive') & hotel.Reviewer_Score==1].head()"
   ]
  },
  {
   "cell_type": "code",
   "execution_count": null,
   "id": "49173505-b1fc-4b8e-9ffc-99292762c665",
   "metadata": {},
   "outputs": [],
   "source": [
    "print(list(ENGLISH_STOP_WORDS)[:10])"
   ]
  },
  {
   "cell_type": "code",
   "execution_count": null,
   "id": "da2c53d6-7f3b-4b09-b8cd-9f55e9217297",
   "metadata": {
    "editable": true,
    "slideshow": {
     "slide_type": ""
    },
    "tags": []
   },
   "outputs": [],
   "source": [
    "# Create Vectorizers for both positive and negative sets of data\n",
    "# There are issues in both columns of 'No Positive' or 'No Negative'\n",
    "\n",
    "\n",
    "#my_stop_words=['english','No Positive','No Negative','no negative','no positive']\n",
    "# I've read that using english might not be as good? \n",
    "\n",
    "pos_vectorizer    = CountVectorizer(max_features=500,\n",
    "                                    min_df=10,lowercase=True,\n",
    "                                    stop_words=\"english\",\n",
    "                                    ngram_range=(1,5))\n",
    "neg_vectorizer    = CountVectorizer(max_features=500,\n",
    "                                    min_df=10,lowercase=True,\n",
    "                                    stop_words=\"english\",\n",
    "                                    ngram_range=(1,5)\n",
    "                                   )\n",
    "\n",
    "## The _test_ data will not be involved in fitting\n",
    "\n",
    "# Positive Train/Test\n",
    "pos_X_train_xform = pos_vectorizer.fit_transform(pos_X_train) #ptr=t(xtr.posrev)\n",
    "pos_X_test_xform  = pos_vectorizer.transform(pos_X_test)\n",
    "pos_VX_test_xform = pos_vectorizer.transform(pos_VX_test)\n",
    "\n",
    "# Negative Train/Test\n",
    "neg_X_train_xform = neg_vectorizer.fit_transform(neg_X_train)\n",
    "neg_X_test_xform  = neg_vectorizer.transform(neg_X_test)\n",
    "neg_VX_test_xform = neg_vectorizer.transform(neg_VX_test)"
   ]
  },
  {
   "cell_type": "code",
   "execution_count": null,
   "id": "0b7e1ed9-91eb-4f93-b15b-76e048d9855d",
   "metadata": {},
   "outputs": [],
   "source": [
    "# Train= fit/transformed\n",
    "pos_X_train_xform"
   ]
  },
  {
   "cell_type": "code",
   "execution_count": null,
   "id": "0cf37801-3965-421d-bd88-710ab08638fa",
   "metadata": {},
   "outputs": [],
   "source": [
    "# Test= transformed (only)\n",
    "pos_X_test_xform"
   ]
  },
  {
   "cell_type": "code",
   "execution_count": null,
   "id": "3deddd6d-cbc4-4c79-b44d-0cb4774710bc",
   "metadata": {},
   "outputs": [],
   "source": [
    "pos_VX_test_xform"
   ]
  },
  {
   "cell_type": "code",
   "execution_count": null,
   "id": "4dde5478-d82b-44b0-8751-e532c3d119cb",
   "metadata": {},
   "outputs": [],
   "source": [
    "#create densematrix\n",
    "pos_X_train_dmatrix = pos_X_train_xform.toarray()\n",
    "pos_X_test_dmatrix  = pos_X_test_xform.toarray()\n",
    "pos_VX_test_dmatrix = pos_VX_test_xform.toarray()"
   ]
  },
  {
   "cell_type": "code",
   "execution_count": null,
   "id": "7326196b-54db-484d-952e-94bd0aa625af",
   "metadata": {},
   "outputs": [],
   "source": [
    "# sparse matrices\n",
    "## to dense arrays\n",
    "neg_X_train_dmatrix = neg_X_train_xform.toarray()\n",
    "neg_X_test_dmatrix  = neg_X_test_xform.toarray()\n",
    "neg_VX_test_dmatrix = neg_VX_test_xform.toarray()"
   ]
  },
  {
   "cell_type": "code",
   "execution_count": null,
   "id": "a6bef1fe-1ddb-4867-8369-74b22915e5f7",
   "metadata": {
    "editable": true,
    "slideshow": {
     "slide_type": ""
    },
    "tags": []
   },
   "outputs": [],
   "source": [
    "# Add prefixes to column names\n",
    "positive_cols = ['pos_' + col for col in pos_vectorizer.get_feature_names_out()]\n",
    "negative_cols = ['neg_' + col for col in neg_vectorizer.get_feature_names_out()]\n",
    "\n",
    "# Create final training and testing dataframes\n",
    "X_train = pd.concat([pd.DataFrame(pos_X_train_dmatrix, columns=positive_cols), pd.DataFrame(neg_X_train_dmatrix, columns=negative_cols)], axis=1)\n",
    "X_test = pd.concat([pd.DataFrame(pos_X_test_dmatrix, columns=positive_cols), pd.DataFrame(neg_X_test_dmatrix, columns=negative_cols)], axis=1)\n",
    "VX_test = pd.concat([pd.DataFrame(pos_VX_test_dmatrix, columns=positive_cols), pd.DataFrame(neg_VX_test_dmatrix, columns=negative_cols)], axis=1)"
   ]
  },
  {
   "cell_type": "markdown",
   "id": "f568d301-7927-444b-b8d1-3aa380c7a04d",
   "metadata": {},
   "source": [
    "## Question 3. Modelling: Logistic. <a class=\"anchor\" name=\"Part3\"></a>"
   ]
  },
  {
   "cell_type": "markdown",
   "id": "636cfe7a-e1f5-4b4b-bbba-061604fdd826",
   "metadata": {
    "editable": true,
    "slideshow": {
     "slide_type": ""
    },
    "tags": []
   },
   "source": [
    "Fit a logistic regression model on the data and analyze the test and train accuracy. <br>\n",
    "Find the top 20 words from the positive reviews that are most predictive of a positive sentiment (Reviewer_Score = 1).<br>\n",
    "Similarly, find the top 20 words from the negative reviews that are most predictive of a negative sentiment (Reviewer_Score = 0).<br> What actionable insights can you draw from these?"
   ]
  },
  {
   "cell_type": "markdown",
   "id": "f264b7d8-970c-433d-b853-01dca240aff4",
   "metadata": {
    "editable": true,
    "jp-MarkdownHeadingCollapsed": true,
    "slideshow": {
     "slide_type": ""
    },
    "tags": []
   },
   "source": [
    "#### Checking Old Data, Fitting Model"
   ]
  },
  {
   "cell_type": "code",
   "execution_count": null,
   "id": "2574a079-0d6e-4479-9350-6e26a22e55b4",
   "metadata": {},
   "outputs": [],
   "source": [
    "X_test.info()"
   ]
  },
  {
   "cell_type": "markdown",
   "id": "6be1630c-c699-4aa9-b92d-45680cef0071",
   "metadata": {},
   "source": [
    "(Editing Note: There have been n-number of times that the program keeps freezing up here and then suddenly converting values to NaNs which then break the routine, forcing a re-run which was...problematic and one of the reasons this assignment is coming late.)"
   ]
  },
  {
   "cell_type": "markdown",
   "id": "9b7bccf7-dd06-4fc2-a2f1-fcc40396dea9",
   "metadata": {},
   "source": [
    "Went back and tweaked the Vectorizer to account for ngrams of 5 - which should mean a drop in \"trouble\" as the top positive predictor."
   ]
  },
  {
   "cell_type": "markdown",
   "id": "148a4c59-a017-4e4a-bd47-e4b7ee63a25d",
   "metadata": {
    "jp-MarkdownHeadingCollapsed": true
   },
   "source": [
    "### Scaler"
   ]
  },
  {
   "cell_type": "code",
   "execution_count": null,
   "id": "f2237330-3945-4b4b-aa6d-df86291cb125",
   "metadata": {},
   "outputs": [],
   "source": [
    "## Now, data is split into Test/Train/Validation and recombined from pos and neg columns into 1 - containing the \n",
    "scaler = StandardScaler()\n",
    "\n",
    "scaler = scaler.fit(X_train)  # fit our scaler to X_train\n",
    "X_train_ss = scaler.transform(X_train)\n",
    "X_test_ss = scaler.transform(X_test)\n",
    "VX_test_ss=scaler.transform(VX_test)\n",
    "X_train_ss_df = pd.DataFrame(X_train_ss, columns=X_train.columns)"
   ]
  },
  {
   "cell_type": "markdown",
   "id": "c6e7c81d-409e-4b80-ae39-5378c8f3f6bd",
   "metadata": {},
   "source": [
    "All of the test sets have now been scaled via Standard Scaler. The scaler was trained with the X_train training data. The test and validation data sets were then transformed <br><br>\n",
    "\n",
    "Now, we're goign to fit the regression models and test them.\n",
    "These are going to be run without any hyperparameterization for the sake of exercise 3 but can be done with the loop below."
   ]
  },
  {
   "cell_type": "code",
   "execution_count": null,
   "id": "8989a2c1-cfd5-4f2f-9075-f1c8bdc8d990",
   "metadata": {},
   "outputs": [],
   "source": [
    "# Create a scorecard to keep track of accuracy scores\n",
    "scorecard=pd.DataFrame(columns=['model','scaler','train','test','group','C','penalty','solver'])"
   ]
  },
  {
   "cell_type": "code",
   "execution_count": null,
   "id": "14cbc97b-4d45-43d6-bbf4-a39ddf126aab",
   "metadata": {},
   "outputs": [],
   "source": [
    "X_train.head(3)"
   ]
  },
  {
   "cell_type": "code",
   "execution_count": null,
   "id": "dbaf99be-c4a9-4db7-86b1-c5c0ee0ed099",
   "metadata": {},
   "outputs": [],
   "source": [
    "# Models available:\n",
    "X_train\n",
    "X_test\n",
    "VX_test\n",
    "\n",
    "X_train_ss\n",
    "X_test_ss\n",
    "VX_test_ss"
   ]
  },
  {
   "cell_type": "code",
   "execution_count": null,
   "id": "8588c316-d2e6-4d31-9ab1-2f462d311274",
   "metadata": {},
   "outputs": [],
   "source": [
    "#Establish a scorecard to test models against \n",
    "\n",
    "## Templates\n",
    "#scorecard_valid=pd.DataFrame(columns=['TypeRegression','Scaler','Penalty','C','Solver','TrainScore','ValidationScore'])\n",
    "#  scorecard.loc[scorecard.shape[0],:]=['Logistic','Unscaled',train_score, valid_score,test_score]\n",
    "scorecard=pd.DataFrame(columns=['TypeRegression','Scaler','Penalty','C','Solver','TrainScore','ValidationScore','TestScore'])\n",
    "#  scorecard.loc[scorecard.shape[0],:]=['Logistic','Unscaled',train_score, valid_score,test_score]"
   ]
  },
  {
   "cell_type": "markdown",
   "id": "3d602f47-ab9a-4628-8469-c681c20fd618",
   "metadata": {},
   "source": [
    "### Log. Regression Models."
   ]
  },
  {
   "cell_type": "code",
   "execution_count": null,
   "id": "a713bff3-881d-4724-b265-2c06074171c6",
   "metadata": {},
   "outputs": [],
   "source": [
    "scorecard"
   ]
  },
  {
   "cell_type": "code",
   "execution_count": null,
   "id": "9fce774c-22e9-4363-8fe4-b5a5dee93fb2",
   "metadata": {},
   "outputs": [],
   "source": [
    "scorecard_valid"
   ]
  },
  {
   "cell_type": "code",
   "execution_count": null,
   "id": "736db02e-0777-4fa9-95d6-a40597e91a2c",
   "metadata": {},
   "outputs": [],
   "source": [
    "# fitting unscaled log model\n",
    "log_reg=LogisticRegression()\n",
    "log_reg.fit(X_train,y_train)"
   ]
  },
  {
   "cell_type": "code",
   "execution_count": null,
   "id": "11235487-9ee3-4532-82f1-b0f61595768e",
   "metadata": {},
   "outputs": [],
   "source": [
    "# fitting scaled log model\n",
    "log_reg_ss=LogisticRegression()\n",
    "log_reg_ss.fit(X_train_ss,y_train)"
   ]
  },
  {
   "cell_type": "code",
   "execution_count": null,
   "id": "f684629b-afe6-4d6d-9032-bb7ec279a405",
   "metadata": {},
   "outputs": [],
   "source": [
    "### UNSCALED TESTING\n",
    "\n",
    "train_score=log_reg.score(X_train,y_train)\n",
    "valid_score=log_reg.score(VX_test,Vy_test)\n",
    "test_score=log_reg.score(X_test,y_test)\n",
    "\n",
    "print(f'Train score: {log_reg.score(X_train,y_train)}')\n",
    "print(f'Train score: {log_reg.score(VX_test,Vy_test)}')\n",
    "print(f'Train score: {log_reg.score(X_test,y_test)}')\n",
    "\n",
    "#scorecard_valid.loc[scorecard.shape[0],:]=['Logistic','Unscaled',train_score, valid_score,test_score]\n",
    "scorecard.loc[scorecard.shape[0],:]=['Logistic','Unscaled','default(l2)',1.0 ,'lbfgs',train_score,valid_score,test_score]"
   ]
  },
  {
   "cell_type": "code",
   "execution_count": null,
   "id": "42939014-13ad-479e-81dc-3840e67cdf3e",
   "metadata": {},
   "outputs": [],
   "source": [
    "scorecard"
   ]
  },
  {
   "cell_type": "code",
   "execution_count": null,
   "id": "95f79989-68ca-4f7a-aea5-88f00de68d3e",
   "metadata": {},
   "outputs": [],
   "source": [
    "#### SCALED TESTING\n",
    "train_score_ss=log_reg.score(X_train_ss ,y_train)\n",
    "test_score_ss=log_reg.score(X_test_ss   ,y_test)\n",
    "valid_score_ss=log_reg.score(VX_test_ss  ,Vy_test)\n",
    "print(f'Train score: {log_reg.score(X_train_ss,y_train)}')\n",
    "print(f'Train score: {log_reg.score(X_test_ss,y_test)}')\n",
    "print(f'Test score: {log_reg.score(VX_test_ss,Vy_test)}')\n",
    "scorecard.loc[scorecard.shape[0],:]=['Logistic','Scaled','default(l2)',1.0,'lbfgs',train_score_ss,test_score_ss,valid_score_ss]"
   ]
  },
  {
   "cell_type": "code",
   "execution_count": null,
   "id": "5198554b-c205-4a5d-a0e4-613d9f88755b",
   "metadata": {},
   "outputs": [],
   "source": [
    "scorecard.loc[scorecard.shape[0],:]=['Logistic','Standard',pos_train_score,pos_test_score,'pos']"
   ]
  },
  {
   "cell_type": "code",
   "execution_count": null,
   "id": "7ea2230d-0b10-4e85-9cb3-498097644219",
   "metadata": {},
   "outputs": [],
   "source": [
    "scorecard.loc[scorecard.shape[0],:]=['Logistic','Standard',neg_train_score,neg_test_score,'neg']"
   ]
  },
  {
   "cell_type": "code",
   "execution_count": null,
   "id": "f98ef770-2409-43e8-88ad-8536666e8f99",
   "metadata": {},
   "outputs": [],
   "source": [
    "scorecard.loc[scorecard.shape[0],:]=['Logistic','none',train_score,test_score,'comb']"
   ]
  },
  {
   "cell_type": "markdown",
   "id": "99643f59-4134-42ab-bd12-a0b7bfa47170",
   "metadata": {},
   "source": [
    "C-parameter loop:Hyperparameterization "
   ]
  },
  {
   "cell_type": "code",
   "execution_count": null,
   "id": "9f3e4b88-3fe3-40cf-b08c-e26ddce860de",
   "metadata": {},
   "outputs": [],
   "source": [
    "#C_values = [0.001, 0.01, 0.1, 1, 10, 100]\n",
    "#Create a loop to test different C values\n",
    "#for C1 in C_values:\n",
    "#    #fit\n",
    "#    X_log_reg_C = LogisticRegression(max_iter=500,C=C1,penalty='l1',solver='saga')\n",
    "#    X_log_reg_C.fit(X_train_ss, y_train)\n",
    "#    # Evaluate the model on the test set\n",
    "#    train_score= X_log_reg_C.score(X_train_ss, y_train)\n",
    "#    test_score = X_log_reg_C.score(X_test_ss, y_test)\n",
    "#    scorecard.loc[scorecard.shape[0],:]=['Logistic','Standard',X_pos_train_score,X_test_score,'X',C,'l2','saga']\n"
   ]
  },
  {
   "cell_type": "markdown",
   "id": "0db665ef-a160-499e-8ea3-27223d2ef273",
   "metadata": {},
   "source": [
    "Given question 3 does not specify anything about hyperparameters, I'll save that for later if there's time.\n",
    "\n",
    "2 Logistic models were fitted with 3 sets of data - 1 train, 1 validation, 1 test. Although the validation set wasn't specified for question 3, I ran all three during the first evaluation of the models.  The initial results are listed below. Both the scaled and unscaled models performed at similar levels, with the unscaled model performing marginally better - about 1.5%."
   ]
  },
  {
   "cell_type": "code",
   "execution_count": null,
   "id": "21f2103b-56b2-4815-b5a5-cdd85501d19b",
   "metadata": {},
   "outputs": [],
   "source": [
    "scorecard"
   ]
  },
  {
   "cell_type": "markdown",
   "id": "9190316f-a8a0-4bb6-8241-cd288885be85",
   "metadata": {},
   "source": [
    "### Coefficients"
   ]
  },
  {
   "cell_type": "code",
   "execution_count": null,
   "id": "a5f60da3-0799-45a8-8344-80c339e2d846",
   "metadata": {},
   "outputs": [],
   "source": [
    "## scaled\n",
    "# \n",
    "X_train_words_ss=pd.Series(log_reg_ss.coef_[0],index=X_train.columns).sort_values(ascending=False)\n",
    "print(X_train_words_ss[:3])\n",
    "\n",
    "## unscaled\n",
    "\n",
    "X_train_words=pd.Series(log_reg.coef_[0],index=X_train.columns).sort_values(ascending=False)\n",
    "(X_train_words[:3])"
   ]
  },
  {
   "cell_type": "code",
   "execution_count": null,
   "id": "cb7084b1-cf46-455d-ba9b-b04e108d2d3b",
   "metadata": {
    "scrolled": true
   },
   "outputs": [],
   "source": [
    "X_train_words.sort_values(ascending=False,inplace=True)\n",
    "X_train_words_ss.sort_values(ascending=False,inplace=True)"
   ]
  },
  {
   "cell_type": "markdown",
   "id": "eea21934-6a6a-4cc1-9a6b-f879692c472a",
   "metadata": {},
   "source": [
    " "
   ]
  },
  {
   "cell_type": "markdown",
   "id": "926ca5f1-9854-40d8-8b8b-ec0ba6de26f0",
   "metadata": {},
   "source": [
    "Below:A df to house all the coefficients and feature names. This is for unscaled data."
   ]
  },
  {
   "cell_type": "code",
   "execution_count": null,
   "id": "4e993661-ff94-46cc-a3df-ee03254f6270",
   "metadata": {
    "editable": true,
    "scrolled": true,
    "slideshow": {
     "slide_type": ""
    },
    "tags": []
   },
   "outputs": [],
   "source": [
    "Xtf_Co=X_train_words.to_frame(name='coef').reset_index().rename(columns={'index':'feat2'})\n",
    "\n",
    "Xtf_Co['review_type']=Xtf_Co['feat2'].str.slice(0,3)\n",
    "\n",
    "Xtf_Co['feat']=Xtf_Co['feat2'].str.slice(4,)\n",
    "\n",
    "Xtf_Co.head(3)"
   ]
  },
  {
   "cell_type": "markdown",
   "id": "162c373a-4244-4afc-90f9-941d152ad3af",
   "metadata": {},
   "source": [
    " "
   ]
  },
  {
   "cell_type": "markdown",
   "id": "356f9f04-ab9a-45ef-b046-16cf244f85d4",
   "metadata": {},
   "source": [
    "A copy of the df above but with coefficients from the scaled model."
   ]
  },
  {
   "cell_type": "code",
   "execution_count": null,
   "id": "33ee0e5d-175e-4532-a898-4b80e5c225ae",
   "metadata": {},
   "outputs": [],
   "source": [
    "Xtf_Co_ss=X_train_words_ss.to_frame(name='coef').reset_index().rename(columns={'index':'feat2'})\n",
    "\n",
    "Xtf_Co_ss['review_type']=Xtf_Co_ss['feat2'].str.slice(0,3)\n",
    "\n",
    "Xtf_Co_ss['feat']=Xtf_Co_ss['feat2'].str.slice(4,)\n",
    "\n",
    "Xtf_Co_ss"
   ]
  },
  {
   "cell_type": "markdown",
   "id": "7b253d2d-7e9f-45f3-bf6f-97ea885c1514",
   "metadata": {
    "editable": true,
    "slideshow": {
     "slide_type": ""
    },
    "tags": []
   },
   "source": [
    "Temp tables for plots below. There are 3, one for all the words combined from both types of reviews and then one for pos and neg each. \n",
    "Below are scaled (_ss suffix)."
   ]
  },
  {
   "cell_type": "code",
   "execution_count": null,
   "id": "5f5a2997-7b3c-4426-93b5-0260e76ad2f1",
   "metadata": {},
   "outputs": [],
   "source": [
    "TopBottom20_ss=pd.concat([Xtf_Co_ss.sort_values(by='coef',ascending=False).tail(20)\n",
    "          ,Xtf_Co_ss.sort_values(by='coef',ascending=False).head(20)]).sort_values(by='coef')"
   ]
  },
  {
   "cell_type": "code",
   "execution_count": null,
   "id": "27ad750d-1b19-44dc-8fd7-8b5cdbe3ffaa",
   "metadata": {},
   "outputs": [],
   "source": [
    "Positive_Review_TopBottom20_ss=pd.concat([Xtf_Co_ss[Xtf_Co_ss.review_type=='pos'].sort_values(by='coef',ascending=True).tail(20)\n",
    "          ,Xtf_Co_ss[Xtf_Co_ss.review_type=='pos'].sort_values(by='coef',ascending=True).head(20)]).sort_values(by='coef')\n",
    "\n",
    "Negative_Review_TopBottom20_ss=pd.concat([Xtf_Co_ss[Xtf_Co_ss.review_type=='neg'].sort_values(by='coef',ascending=False).tail(20)\n",
    "          ,Xtf_Co_ss[Xtf_Co_ss.review_type=='neg'].sort_values(by='coef',ascending=False).head(20)]).sort_values(by='coef')\n",
    "\n",
    "print('PositiveReview \\n',Positive_Review_TopBottom20_ss.tail(3),'\\n')\n",
    "\n",
    "print('NegativeReview \\n',Negative_Review_TopBottom20_ss.tail(3))"
   ]
  },
  {
   "cell_type": "markdown",
   "id": "5188d0a9-807d-4576-a539-098fe6c95db3",
   "metadata": {},
   "source": [
    " "
   ]
  },
  {
   "cell_type": "markdown",
   "id": "230e26ba-86e2-421a-8f6c-042e10072162",
   "metadata": {},
   "source": [
    "Temp tables for plots below. There are 3, one for all the words combined from both types of reviews and then one for pos and neg each. \n",
    "Below are unscaled."
   ]
  },
  {
   "cell_type": "code",
   "execution_count": null,
   "id": "3b93dd30-2564-4677-a732-944a670afd55",
   "metadata": {},
   "outputs": [],
   "source": [
    "TopBottom20=pd.concat([Xtf_Co.sort_values(by='coef',ascending=True).tail(20)\n",
    "          ,Xtf_Co.sort_values(by='coef',ascending=True).head(20)]).sort_values(by='coef')\n"
   ]
  },
  {
   "cell_type": "code",
   "execution_count": null,
   "id": "ee9314f9-4dff-42c9-9eec-1d66c329c797",
   "metadata": {},
   "outputs": [],
   "source": [
    "Positive_Review_TopBottom20=pd.concat([Xtf_Co[Xtf_Co.review_type=='pos'].sort_values(by='coef',ascending=True).tail(20)\n",
    "          ,Xtf_Co[Xtf_Co.review_type=='pos'].sort_values(by='coef',ascending=True).head(20)]).sort_values(by='coef')\n",
    "Negative_Review_TopBottom20=pd.concat([Xtf_Co[Xtf_Co.review_type=='neg'].sort_values(by='coef',ascending=False).tail(20)\n",
    "          ,Xtf_Co[Xtf_Co.review_type=='neg'].sort_values(by='coef',ascending=False).head(20)]).sort_values(by='coef')\n",
    "print('PositiveReview \\n',Positive_Review_TopBottom20.tail(3),'\\n')\n",
    "print('NegativeReview \\n',Negative_Review_TopBottom20.tail(3))"
   ]
  },
  {
   "cell_type": "code",
   "execution_count": null,
   "id": "2c6c9ad4-b296-4843-a10d-434ae0bcbdb7",
   "metadata": {},
   "outputs": [],
   "source": [
    "# Top and Bottom 20 graph\n",
    "# May need to change colors for visually impaired\n",
    "\n",
    "fig,axes = plt.subplots(2,1,figsize=(20,15),layout='tight')\n",
    "#plt.subplot(121)\n",
    "# Visualization for Top & Bottom 20 Predictive Words in a review considered \"Positive\"\n",
    "#ax=plt.gca()\n",
    "plt.subplot(2,1,2)\n",
    "ax=axes[0]\n",
    "axes[0].set_title('[Bottom 20 || Top 20] Predictor Words of a Positive Review, Scaled, Log Regression',size='x-large')\n",
    "palette = sns.diverging_palette(10,145,s=80,center=\"dark\", n=40)\n",
    "ax.set_facecolor('lightblue')\n",
    "sns.barplot(data=TopBottom20,x='feat',y='coef',palette=palette,ax=axes[0])\n",
    "axes[0].tick_params(rotation=-60)\n",
    "plt.axhline(y=0,color='maroon')\n",
    "plt.axvline(x=(19.5),color='lightgray')\n",
    "axes[0].set_xlabel('Predictive Words from a \"Positive Review\"')\n",
    "axes[0].set_ylabel('Log. Regression Coefficient')\n",
    "axes[0].set_ylim(-1.5,1.5)\n",
    "plt.ylabel('Log.Reg. Coefficients')\n",
    "\n",
    "\n",
    "# Visualization for Top & Bottom 20 predictor Words in a review considered \"Negative\"\n",
    "#ax=plt.gca()\n",
    "plt.subplot(2,1,1)\n",
    "ax1=axes[1]\n",
    "axes[1].set_title('[Bottom 20 || Top 20] Predictor Words of a Negative Review by Log. Coefficient',size='x-large')\n",
    "sns.barplot(data=TopBottom20_ss,x='feat',y='coef',palette=palette,ax=axes[1])\n",
    "palette = sns.diverging_palette(10,145,s=80,center=\"dark\", n=40)\n",
    "ax1.set_facecolor('lightblue')\n",
    "sns.color_palette()\n",
    "ax.axhline(y=0,color='maroon')\n",
    "ax1.axvline(x=(19.5),color='lightgray')\n",
    "axes[1].tick_params(labelrotation=-45)\n",
    "axes[1].set_xlabel('Predictor Words from \"Negative Review\"')\n",
    "axes[1].set_ylabel('Log. Regression Coefficient')\n",
    "axes[1].set_ylim(-.5,.5)\n",
    "plt.show()\n",
    "\n"
   ]
  },
  {
   "cell_type": "code",
   "execution_count": null,
   "id": "72876219-f081-42c2-acaa-260fb398a16f",
   "metadata": {
    "jupyter": {
     "source_hidden": true
    }
   },
   "outputs": [],
   "source": [
    "# Top and Bottom 20 graph\n",
    "# May need to change colors for visually impaired\n",
    "\n",
    "fig,axes = plt.subplots(2,1,figsize=(20,15),layout='tight')\n",
    "#plt.subplot(121)\n",
    "# Visualization for Top & Bottom 20 Predictive Words in a review considered \"Positive\"\n",
    "#ax=plt.gca()\n",
    "plt.subplot(2,1,2)\n",
    "ax=axes[0]\n",
    "axes[0].set_title('[Bottom 20 || Top 20] Predictor Words of a Positive Review, Scaled, Log Regression',size='x-large')\n",
    "palette = sns.diverging_palette(10,145,s=80,center=\"dark\", n=40)\n",
    "ax.set_facecolor('lightblue')\n",
    "sns.barplot(data=Positive_Review_TopBottom20,x='feat',y='coef',palette=palette,ax=axes[0])\n",
    "axes[0].tick_params(rotation=-60)\n",
    "plt.axhline(y=0,color='maroon')\n",
    "plt.axvline(x=(19.5),color='lightgray')\n",
    "axes[0].set_xlabel('Predictive Words from a \"Positive Review\"')\n",
    "axes[0].set_ylabel('Log. Regression Coefficient')\n",
    "axes[0].set_ylim(-1.5,1.5)\n",
    "plt.ylabel('Log.Reg. Coefficients')\n",
    "\n",
    "\n",
    "# Visualization for Top & Bottom 20 Predictive Words in a review considered \"Negative\"\n",
    "#ax=plt.gca()\n",
    "plt.subplot(2,1,1)\n",
    "ax1=axes[1]\n",
    "axes[1].set_title('[Bottom 20 || Top 20] Predictor Words of a Negative Review by Log. Coefficient',size='x-large')\n",
    "sns.barplot(data=Negative_Review_TopBottom20,x='feat',y='coef',palette=palette,ax=axes[1])\n",
    "palette = sns.diverging_palette(10,145,s=80,center=\"dark\", n=40)\n",
    "ax1.set_facecolor('lightblue')\n",
    "sns.color_palette()\n",
    "ax.axhline(y=0,color='maroon')\n",
    "ax1.axvline(x=(19.5),color='lightgray')\n",
    "axes[1].tick_params(labelrotation=-45)\n",
    "axes[1].set_xlabel('Predictive Words from \"Negative Review\"')\n",
    "axes[1].set_ylabel('Log. Regression Coefficient')\n",
    "axes[1].set_ylim(-1.5,1.5)\n",
    "plt.show()\n",
    "\n"
   ]
  },
  {
   "cell_type": "code",
   "execution_count": null,
   "id": "dfd88afc-b324-4dff-8c83-7fd6876127da",
   "metadata": {
    "editable": true,
    "jupyter": {
     "source_hidden": true
    },
    "slideshow": {
     "slide_type": ""
    },
    "tags": []
   },
   "outputs": [],
   "source": [
    "# Top and Bottom 20 graph\n",
    "# May need to change colors for visually impaired\n",
    "\n",
    "\n",
    "fig,axes = plt.subplots(2,1,figsize=(20,15),layout='tight')\n",
    "#plt.subplot(121)\n",
    "# Visualization for Top & Bottom 20 Predictive Words in a review considered \"Negative\"\n",
    "#ax=plt.gca()\n",
    "plt.subplot(212)\n",
    "ax=axes[0]\n",
    "axes[0].set_title('[Bottom 20 || Top 20] Predictor Words of a Positive Review by Log. Coefficient',size='x-large')\n",
    "palette = sns.diverging_palette(10,145,s=80,center=\"dark\", n=40)\n",
    "ax.set_facecolor('lightblue')\n",
    "sns.barplot(data=Positive_Review_TopBottom20,x='feat',y='coef',palette=palette,ax=axes[0])\n",
    "axes[0].tick_params(rotation=-60)\n",
    "plt.axhline(y=0,color='maroon')\n",
    "plt.axvline(x=(19.5),color='lightgray')\n",
    "axes[0].set_xlabel('Predictive Words from a \"Positive Review\"')\n",
    "axes[0].set_ylabel('Log. Regression Coefficient')\n",
    "axes[0].set_ylim(-1.5,1.5)\n",
    "plt.ylabel('Log.Reg. Coefficients')\n",
    "\n",
    "\n",
    "# Visualization for Top & Bottom 20 Predictive Words in a review considered \"Negative\"\n",
    "#ax=plt.gca()\n",
    "plt.subplot(211)\n",
    "ax1=axes[1]\n",
    "axes[1].set_title('[Bottom 20 || Top 20] Predictor Words of a Negative Review by Log. Coefficient',size='x-large')\n",
    "sns.barplot(data=Negative_Review_TopBottom20,x='feat',y='coef',palette=palette,ax=axes[1])\n",
    "palette = sns.diverging_palette(10,145,s=80,center=\"dark\", n=40)\n",
    "ax1.set_facecolor('lightblue')\n",
    "sns.color_palette()\n",
    "ax.axhline(y=0,color='maroon')\n",
    "ax1.axvline(x=(19.5),color='lightgray')\n",
    "axes[1].tick_params(labelrotation=-45)\n",
    "axes[1].set_xlabel('Predictive Words from \"Negative Review\"')\n",
    "axes[1].set_ylabel('Log. Regression Coefficient')\n",
    "axes[1].set_ylim(-1.5,1.5)\n",
    "plt.show()\n",
    "\n"
   ]
  },
  {
   "cell_type": "code",
   "execution_count": null,
   "id": "2161910d-29de-488e-bbc0-3b9cda1ad6b7",
   "metadata": {},
   "outputs": [],
   "source": [
    "from scipy import stats"
   ]
  },
  {
   "cell_type": "code",
   "execution_count": null,
   "id": "1173a1ed-3983-48f3-ab86-67393b883200",
   "metadata": {},
   "outputs": [],
   "source": [
    "vvarx"
   ]
  },
  {
   "cell_type": "markdown",
   "id": "ecdebb35-eac7-4fa9-b266-957e2f7d76f8",
   "metadata": {},
   "source": [
    "_**Observations**_:\n",
    "- The graph above shows the extremes of the coefficient values, which speaks to a weighted interpretation of the terms involved.\n",
    "- The graph below demonstrates the distribution of the coefficient values around the 0 value. This paints a different picture. Both review are fairly similar in distrubution about the center. The top and bottom 20 might be considered outliers. With a standard deviation of approximate .22 for either category, these values overlap consistently.These outliers are pronnounced outside the normal distribution.\n",
    "\n",
    "_**Actionable items, as pertaining to a client:**_\n",
    "\n",
    "- There are two perspectives and approaches for guest retainability based on reviews, mostly with relevance to operating costs. One is an overhaul approach, the worst predictors all speak to complete guests unhappiness. This, however, is costly and complex.\n",
    "\n",
    "- The second is to select, emphasize the lowest cost highest impact concepts based on these terms.\"The air\" - air conditioner, air quality - whichever is easier to address. Growing the positive coef in the neg group is the low hanging fruit. These probably stem from more minor inconvenience others.\n",
    "  \n",
    "- Continue delivering the positive experience and emphasize amenities like the breakfast service or a well trained staff. It might be more impacting to inundate guests with the positive keywords found on this list too: brilliant, fabulous, excellent. Hearing the words will stick in guests minds.\n",
    "\n",
    "- There are a number of \"negative\" terms that still increase the chance of a positive review and addressing those should be the first focus of management. It's the easiest\n",
    "- The terminology for positive review with pos coef are markedly more animated than the positive reviews with negative coef.\n"
   ]
  },
  {
   "cell_type": "code",
   "execution_count": null,
   "id": "5b868bf9-f46d-4fc1-8a26-654be24dfee5",
   "metadata": {},
   "outputs": [],
   "source": [
    "#Separating review types again to evaluate distribution\n",
    "Xtf_pos=Xtf_Co[Xtf_Co.review_type=='pos']\n",
    "Xtf_neg=Xtf_Co[Xtf_Co.review_type=='neg']"
   ]
  },
  {
   "cell_type": "code",
   "execution_count": null,
   "id": "032601c6-5d1d-4765-98c1-c04e0de35a40",
   "metadata": {
    "editable": true,
    "slideshow": {
     "slide_type": ""
    },
    "tags": []
   },
   "outputs": [],
   "source": [
    "import statistics as stat\n",
    "fig,axes = plt.subplots(1,2,figsize=(10,6),layout='tight')\n",
    "#plt.subplot(121)\n",
    "# Visualization for Top & Bottom 20 Predictive Words in a review considered \"Negative\"\n",
    "#ax=plt.gca()\n",
    "\n",
    "plt.subplot(121)\n",
    "ax=axes[0]\n",
    "axes[0].set_title('44.4% Negatively Corellated Positive Reviews')\n",
    "palette = sns.diverging_palette(10,145,s=80,center=\"dark\", n=40)\n",
    "ax.set_facecolor('lightblue')\n",
    "sns.histplot(Xtf_pos.coef,palette=palette,ax=axes[0],stat='density')\n",
    "#ax = sns.histplot(Xtf_pos, kde=False, stat='density', label='samples')\n",
    "axes[0].tick_params(rotation=-60)\n",
    "#plt.axhline(y=0,color='maroon')\n",
    "plt.axvline(x=0,color='red')\n",
    "plt.axvline(x=0.22996,color='yellow')\n",
    "plt.axvline(x=-0.22996,color='yellow')\n",
    "axes[0].set_xlabel('Logistic Regression Coefficient')\n",
    "axes[0].set_ylabel('Counts')\n",
    "axes[0].set_ylim(0,3.75)\n",
    "plt.ylabel('Log.Reg. Coefficients')\n",
    "\n",
    "\n",
    "# Visualization for Top & Bottom 20 Predictive Words in a review considered \"Negative\"\n",
    "#ax=plt.gca()\n",
    "plt.subplot(122)\n",
    "ax1=axes[1]\n",
    "axes[1].set_title('41.1% Positively Corellated Negative Reviews')\n",
    "sns.histplot(Xtf_neg.coef,palette=palette,ax=axes[1],stat='density')\n",
    "palette = sns.diverging_palette(10,145,s=80,center=\"dark\", n=40)\n",
    "ax1.set_facecolor('lightblue')\n",
    "sns.color_palette()\n",
    "#ax.axhline(y=0,color='maroon')\n",
    "ax1.axvline(x=0,color='red')\n",
    "plt.axvline(x=0.22596,color='yellow')\n",
    "plt.axvline(x=-0.22596,color='yellow')\n",
    "axes[1].tick_params(labelrotation=-45)\n",
    "axes[1].set_xlabel('Logistic Regression Coefficient')\n",
    "axes[1].set_ylabel('Counts')\n",
    "axes[1].set_ylim(0,3.75)\n",
    "\n",
    "plt.suptitle('Distribution about in Positive (L) and Negative (R) Coefficient Distribution')\n",
    "plt.show()\n",
    "Xtc_Co['pos'].mean()"
   ]
  },
  {
   "cell_type": "markdown",
   "id": "09c39fbe-0da5-4695-8409-848aa98f3ce1",
   "metadata": {},
   "source": [
    "There is more insight to be gained from these visualizations that are presentable to a client, but that can be touched on later."
   ]
  },
  {
   "cell_type": "code",
   "execution_count": null,
   "id": "86573219-7d5e-4a6a-8e2e-82f51bbc159e",
   "metadata": {},
   "outputs": [],
   "source": [
    "# Standrd  deDev for both categories.\n",
    "print(stats.tstd(Xtf_pos.coef))\n",
    "stats.tstd(Xtf_neg.coef)"
   ]
  },
  {
   "cell_type": "code",
   "execution_count": null,
   "id": "cff64925-e74b-4f19-83a8-35ae5cf6cca0",
   "metadata": {
    "editable": true,
    "slideshow": {
     "slide_type": ""
    },
    "tags": []
   },
   "outputs": [],
   "source": [
    "pos_rev_neg_coef=(Xtf_pos[Xtf_pos.coef<0].coef.count()/500)\n",
    "neg_rev_pos_coef=(Xtf_neg[Xtf_neg.coef>0].coef.count()/500)\n",
    "print('\"Positive\" Review commentary with negative Coefficients: ',pos_rev_neg_coef*100,'%')\n",
    "print('\"Negative\" Review commentary with negative Coefficients: ',neg_rev_pos_coef*100,'%')"
   ]
  },
  {
   "cell_type": "code",
   "execution_count": null,
   "id": "9142393d-3ea6-409b-8815-caa484bb6a79",
   "metadata": {},
   "outputs": [],
   "source": []
  },
  {
   "cell_type": "markdown",
   "id": "c90264be-e052-4eba-b0d6-b006ef755803",
   "metadata": {},
   "source": [
    "Train and test scores are pretty close! Both are capable of producing the right results about 78.8% of the time.<br>\n",
    "This is in a unified model. With invidiual"
   ]
  },
  {
   "cell_type": "code",
   "execution_count": null,
   "id": "d5b78938-577f-4658-8d5b-721df7827315",
   "metadata": {},
   "outputs": [],
   "source": []
  },
  {
   "cell_type": "code",
   "execution_count": null,
   "id": "7c1d6816-2673-450f-8ab6-bb38a8196df0",
   "metadata": {},
   "outputs": [],
   "source": []
  },
  {
   "cell_type": "markdown",
   "id": "0d88de83-b8d2-4894-83ab-dfc45130da5b",
   "metadata": {},
   "source": [
    "### Word Count / Interpretations"
   ]
  },
  {
   "cell_type": "markdown",
   "id": "8f1ab14c-641f-48b3-8348-7e890e64a3e7",
   "metadata": {},
   "source": [
    "## Question 4"
   ]
  },
  {
   "cell_type": "code",
   "execution_count": null,
   "id": "d3e70d43-2057-4160-92ba-3ba6f1f7d511",
   "metadata": {
    "jupyter": {
     "source_hidden": true
    }
   },
   "outputs": [],
   "source": [
    "A little bit of relevant information:"
   ]
  },
  {
   "cell_type": "code",
   "execution_count": 48,
   "id": "eeb350ea-9d94-45e9-a34e-38f0ecc95943",
   "metadata": {
    "collapsed": true,
    "jupyter": {
     "outputs_hidden": true,
     "source_hidden": true
    },
    "scrolled": true
   },
   "outputs": [
    {
     "data": {
      "image/png": "[encoded data removed]",
      "text/plain": [
       "<Figure size 2000x1500 with 2 Axes>"
      ]
     },
     "metadata": {},
     "output_type": "display_data"
    }
   ],
   "source": [
    "get_heatmap(pipe)"
   ]
  },
  {
   "cell_type": "markdown",
   "id": "e08c1d87-da92-4506-8e3b-970e5aafba55",
   "metadata": {},
   "source": [
    "##### Evaluating for strong correlation between variables - there are several.\n",
    "*- Total Number of Reviews ~ Additional Number of Scoring\n",
    "*- Lat/Long ~ Hotel Locations\n",
    "- Year ~ Days since Review`\n",
    "Strong correlation between a number of features - all around a certain place, it would seem. "
   ]
  },
  {
   "cell_type": "markdown",
   "id": "f2e6eb26-18d1-4df6-96be-9c5956f41543",
   "metadata": {
    "editable": true,
    "slideshow": {
     "slide_type": ""
    },
    "tags": []
   },
   "source": [
    "Using a pipeline, combine PCA with a decision tree classifier.\n",
    "\n",
    "Optimize at least 3 hyperparameters including the maximum tree depth and the minimum number of data points required on each leaf node.\n",
    "You can use 20 principle components.\n",
    "The best parameters should be found using 5-fold cross validation."
   ]
  },
  {
   "cell_type": "code",
   "execution_count": 88,
   "id": "46c08d20-1a7f-4803-8115-1e299e2a60c9",
   "metadata": {
    "editable": true,
    "slideshow": {
     "slide_type": ""
    },
    "tags": []
   },
   "outputs": [],
   "source": [
    "import warnings\n",
    "warnings.filterwarnings('ignore')\n"
   ]
  },
  {
   "cell_type": "code",
   "execution_count": 132,
   "id": "9385bc46-08d4-4896-8f9f-793398cbd09e",
   "metadata": {},
   "outputs": [],
   "source": [
    "Data=hotel.copy()\n",
    "X= Data.drop(columns=['Reviewer_Score'])\n",
    "y = Data['Reviewer_Score']"
   ]
  },
  {
   "cell_type": "code",
   "execution_count": 9,
   "id": "5c6fa86b-2fb3-401b-a51d-82df67e3a408",
   "metadata": {},
   "outputs": [
    {
     "ename": "NameError",
     "evalue": "name 'hotel' is not defined",
     "output_type": "error",
     "traceback": [
      "\u001b[1;31m---------------------------------------------------------------------------\u001b[0m",
      "\u001b[1;31mNameError\u001b[0m                                 Traceback (most recent call last)",
      "Cell \u001b[1;32mIn[9], line 2\u001b[0m\n\u001b[0;32m      1\u001b[0m \u001b[38;5;66;03m# load in data\u001b[39;00m\n\u001b[1;32m----> 2\u001b[0m Data\u001b[38;5;241m=\u001b[39mhotel\u001b[38;5;241m.\u001b[39mcopy()\n\u001b[0;32m      3\u001b[0m X \u001b[38;5;241m=\u001b[39m Data\u001b[38;5;241m.\u001b[39mdrop(columns\u001b[38;5;241m=\u001b[39m[\u001b[38;5;124m'\u001b[39m\u001b[38;5;124mPositive_Review\u001b[39m\u001b[38;5;124m'\u001b[39m,\u001b[38;5;124m'\u001b[39m\u001b[38;5;124mNegative_Review\u001b[39m\u001b[38;5;124m'\u001b[39m])\n\u001b[0;32m      4\u001b[0m y \u001b[38;5;241m=\u001b[39m Data[\u001b[38;5;124m'\u001b[39m\u001b[38;5;124mReviewer_Score\u001b[39m\u001b[38;5;124m'\u001b[39m]\n",
      "\u001b[1;31mNameError\u001b[0m: name 'hotel' is not defined"
     ]
    }
   ],
   "source": [
    "# load in data\n",
    "Data=hotel.copy()\n",
    "X = Data.drop(columns=['Positive_Review','Negative_Review'])\n",
    "y = Data['Reviewer_Score']\n",
    "\n",
    "# train-test split\n",
    "X_train, X_test, y_train, y_test = train_test_split(X, y, test_size=0.2, stratify=y, random_state=42)\n",
    "\n",
    "estimators = [('normalise', StandardScaler()),\n",
    "              ('dimred', PCA()),\n",
    "              ('model', DecisionTreeClassifier())]\n",
    "\n",
    "pipe = Pipeline(estimators)\n",
    "\n",
    "param_grid = [\n",
    "            {\n",
    "             'model': [DecisionTreeClassifier()],\n",
    "             'model__max_depth': [1, 2, 4, 5],                #Hp1\n",
    "             'model__min_samples_split': [2, 3, 4, 6],  #hp2\n",
    "             'model__min_samples_leaf': [1, 2, 5],        #hp3\n",
    "             'dimred__n_components': [3, 7, 15],  # Number of principal components #hp3.5\n",
    "            }         \n",
    "]\n",
    "grid = GridSearchCV(pipe, param_grid, cv=5) # cross-validation\n",
    "fittedgrid2 = grid.fit(X_train, y_train) "
   ]
  },
  {
   "cell_type": "markdown",
   "id": "e605aa69-ecb6-44e5-a616-df6c238fc525",
   "metadata": {},
   "source": [
    "# grid"
   ]
  },
  {
   "cell_type": "code",
   "execution_count": null,
   "id": "b2b0a498-c814-4f76-ab0c-a47d73772910",
   "metadata": {
    "scrolled": true
   },
   "outputs": [],
   "source": [
    "fittedgrid.cv_results_(ROUND1)"
   ]
  },
  {
   "cell_type": "code",
   "execution_count": null,
   "id": "b5f757db-70a7-4169-9602-69aff4ada101",
   "metadata": {},
   "outputs": [],
   "source": [
    "# A loop to test various C-values to \n",
    "\n",
    "\n",
    "C_values = [0.001, 0.01, 0.1, 1, 10, 100]\n",
    "#Loop for C values\n",
    "for C in C_values:\n",
    "    #fit\n",
    "    pos_log_reg_C = LogisticRegression(max_iter=500,C=C,penalty='l1',solver='saga')\n",
    "    pos_log_reg_C.fit(pos_X_train, y_train)\n",
    "    # Evaluate the model on the test set\n",
    "    train_score= pos_log_reg_C.score(pos_X_train, y_train)\n",
    "    test_score = pos_log_reg_C.score(pos_X_test, y_test)\n",
    "    scorecard.loc[scorecard.shape[0],:]=['Logistic','Standard',pos_train_score,pos_test_score,'pos',C,'l1','saga']"
   ]
  },
  {
   "cell_type": "code",
   "execution_count": 14,
   "id": "73076889-5623-4166-933e-94aacc75847d",
   "metadata": {},
   "outputs": [],
   "source": [
    "df10=pd.DataFrame(list2)"
   ]
  },
  {
   "cell_type": "markdown",
   "id": "50c3b8c2-2d95-43bf-9777-04d6710f278e",
   "metadata": {},
   "source": [
    "##### Part 0: Gibberish Insight for later, if any reason"
   ]
  },
  {
   "cell_type": "code",
   "execution_count": null,
   "id": "c0e62c72-ec9b-4a71-9a79-e71755810215",
   "metadata": {},
   "outputs": [],
   "source": [
    "# Plot out the cumulative sum graph\n",
    "\n",
    "plt.figure()\n",
    "plt.plot(range(1,100), cum_sum[:99], marker='.')\n",
    "plt.axhline(0.9, c='r', linestyle='--')\n",
    "plt.xlabel('Number of PCs')\n",
    "plt.ylabel('Cumulative Sum of Explained Variance')\n",
    "plt.xticks(range(1,21,2))\n",
    "plt.show()"
   ]
  },
  {
   "cell_type": "code",
   "execution_count": null,
   "id": "c1f7f298-e95c-4ec0-bdf0-a9504cbbd603",
   "metadata": {},
   "outputs": [],
   "source": []
  },
  {
   "cell_type": "code",
   "execution_count": null,
   "id": "08e77591-816c-453a-a27b-622039cb19a6",
   "metadata": {},
   "outputs": [],
   "source": [
    "from sklearn.linear_model import LogisticRegression\n",
    "from sklearn import datasets\n",
    "from sklearn.linear_model import LogisticRegression\n",
    "from sklearn.preprocessing import MinMaxScaler\n",
    "from sklearn.preprocessing import StandardScaler\n",
    "\n",
    "from sklearn.datasets import load_breast_cancer\n",
    "\n",
    "estimators = [('normalise', StandardScaler()),\n",
    "              ('reduce_dim', PCA()),\n",
    "              ('logreg', LogisticRegression())]\n",
    "pipe = Pipeline(estimators)"
   ]
  },
  {
   "cell_type": "code",
   "execution_count": null,
   "id": "a7603f04-d889-4978-b7b2-6196f1db6a52",
   "metadata": {},
   "outputs": [],
   "source": [
    "\n",
    "\n",
    "## VERY SPECIFIC: TWO UNDERSCORES BETWEEN ESTIMATOR NAME [AND] NAME OF THAT PARAMETER\n",
    "params = {'logreg__C': [0.001, 0.1, 1, 100], \n",
    "          'reduce_dim__n_components': [1, 2, 3]}\n",
    "\n",
    "grid_search = GridSearchCV(pipe, param_grid=params)"
   ]
  },
  {
   "cell_type": "markdown",
   "id": "0608b342-89c8-4cda-b4c3-03e784ba9bd5",
   "metadata": {
    "jp-MarkdownHeadingCollapsed": true
   },
   "source": [
    "#### Pipeline"
   ]
  },
  {
   "cell_type": "code",
   "execution_count": null,
   "id": "e3527104-ec9c-40d6-9940-1ae887c4e0a0",
   "metadata": {},
   "outputs": [],
   "source": []
  },
  {
   "cell_type": "code",
   "execution_count": null,
   "id": "847b77c5-33d9-45d7-825e-851c7a910abd",
   "metadata": {},
   "outputs": [],
   "source": [
    "explained_variance = PCA.explained_variance_ratio_.cumsum()\n",
    "\n",
    "plt.figure(figsize=(10, 7))\n",
    "plt.plot(range(1,14), explained_variance)\n",
    "plt.scatter(range(1,14), explained_variance)\n",
    "plt.title(\"Cumulative explained variance ratio\")\n",
    "plt.xlabel(\"Number of Components\")\n",
    "plt.ylabel(\"Variance explained (ratio)\")\n",
    "plt.show()"
   ]
  },
  {
   "cell_type": "code",
   "execution_count": null,
   "id": "ec8e4fe3-ee86-4b9a-8bf2-64790d5f196d",
   "metadata": {},
   "outputs": [],
   "source": [
    "# Sample Data\n",
    "tips = sns.load_dataset(\"tips\")\n",
    "\n",
    "# Create a simple scatterplot\n",
    "sns.scatterplot(x=\"total_bill\", y=\"tip\", data=tips)\n",
    "plt.show()"
   ]
  },
  {
   "cell_type": "code",
   "execution_count": null,
   "id": "f903d705-89e3-4ebc-84aa-63252d8d798e",
   "metadata": {},
   "outputs": [],
   "source": [
    "plt.figure()\n",
    "plt.plot(range(1,21),expl_var[:20],marker='.')\n",
    "plt.xlabel('Number of PCs')\n",
    "plt.ylabel('Proportion of Variance Explained')\n",
    "plt.xticks(range(1,21,1))\n",
    "plt.show()"
   ]
  },
  {
   "cell_type": "code",
   "execution_count": null,
   "id": "5f44ccf7-9f9d-40e5-95cc-4c6f25740ae3",
   "metadata": {},
   "outputs": [],
   "source": [
    "df = pd.DataFrame({\n",
    "    'PC1': transformed_data[:, 0], 'PC2': transformed_data[:, 1]})\n",
    "\n",
    "\n",
    "sns.scatterplot(x='PC1', y='PC2', data=df)\n",
    "plt.xlabel('PC1')\n",
    "plt.ylabel('PC2')\n",
    "plt.title('PC2 Projected on PC1')\n",
    "plt.show()"
   ]
  },
  {
   "cell_type": "code",
   "execution_count": 94,
   "id": "68502978-b501-4174-8049-9ee9dffcdd95",
   "metadata": {},
   "outputs": [],
   "source": [
    "y=hotel.Reviewer_Score"
   ]
  },
  {
   "cell_type": "code",
   "execution_count": 93,
   "id": "5c41be6e-317a-42ef-b541-b68f684d971c",
   "metadata": {},
   "outputs": [],
   "source": [
    "X=pipe"
   ]
  },
  {
   "cell_type": "code",
   "execution_count": 95,
   "id": "4af76046-35a8-461e-88d2-5b87a1c83697",
   "metadata": {},
   "outputs": [],
   "source": [
    "X1_train,X_test,y1_train, y_test = train_test_split(X, y, test_size=0.20, random_state=20)\n",
    "X_train, VX_test, y_train, Vy_test = train_test_split(X1_train,y1_train, test_size=0.1, random_state=117)"
   ]
  },
  {
   "cell_type": "code",
   "execution_count": null,
   "id": "57539d90-5e85-47a0-b55b-f210ce0a39a0",
   "metadata": {},
   "outputs": [],
   "source": [
    "## Review of avaialble basic df for use\n",
    "# hotel - full set with dummies\n",
    "# hotel_pos - positive reviews with dummies\n",
    "# hotel_neg - negative reviews with dummies\n",
    "# hotel_nd - full no dummies\n",
    "# hotel_nd_nreviews - no dummies no reviews"
   ]
  },
  {
   "cell_type": "code",
   "execution_count": null,
   "id": "aeaa22d3-1d22-4f6b-ad86-07c8ecb7295e",
   "metadata": {},
   "outputs": [],
   "source": [
    "import string\n",
    "import re"
   ]
  },
  {
   "cell_type": "code",
   "execution_count": null,
   "id": "19fa1438-1041-4212-8286-a58f8a609aae",
   "metadata": {},
   "outputs": [],
   "source": [
    "hotel.Positive_Review.str.split(pat=' ').apply(len).describe()"
   ]
  },
  {
   "cell_type": "code",
   "execution_count": null,
   "id": "c3a867f1-e7ca-4bb7-ab3c-22b0c1a723ec",
   "metadata": {},
   "outputs": [],
   "source": [
    "hotel.Review_Total_Positive_Word_Counts.describe()"
   ]
  },
  {
   "cell_type": "code",
   "execution_count": null,
   "id": "0ffd4706-14bb-4eb3-aefb-41346397240e",
   "metadata": {},
   "outputs": [],
   "source": [
    "hotel.Negative_Review.str.split(pat=' ').apply(len).describe()"
   ]
  },
  {
   "cell_type": "code",
   "execution_count": null,
   "id": "49b247a1-2165-4492-8958-606cba115ed4",
   "metadata": {},
   "outputs": [],
   "source": [
    "hotel.Review_Total_Negative_Word_Counts.describe()"
   ]
  },
  {
   "cell_type": "code",
   "execution_count": null,
   "id": "649e40c0-dde0-4816-8df4-e4cfa8f18bd7",
   "metadata": {},
   "outputs": [],
   "source": [
    "### Values seem to match up for the most part. Off by a fraction of a word here or there."
   ]
  },
  {
   "cell_type": "code",
   "execution_count": null,
   "id": "36b0260b-1712-41b5-ba80-1107f3ba5fa9",
   "metadata": {},
   "outputs": [],
   "source": [
    "hotel_pos=hotel[hotel.Reviewer_Score==1]\n",
    "hotel_neg=hotel[hotel.Reviewer_Score==0]"
   ]
  },
  {
   "cell_type": "code",
   "execution_count": null,
   "id": "8d4faca0-c6d7-445c-a51f-0e75ae5a6f4f",
   "metadata": {},
   "outputs": [],
   "source": [
    "# Taking a subsample of 20% to test\n",
    "hotel_sub=hotel.sample(frac=0.2)"
   ]
  },
  {
   "cell_type": "markdown",
   "id": "0c39a678-93d7-428f-8635-b12652dc4f19",
   "metadata": {
    "jp-MarkdownHeadingCollapsed": true
   },
   "source": [
    "##### Part 0b, roll it up there~ish: Fx, cleaning proc., review"
   ]
  },
  {
   "cell_type": "code",
   "execution_count": null,
   "id": "707dc1e4-78a5-460b-a49a-867d54a396ee",
   "metadata": {},
   "outputs": [],
   "source": [
    "hotel[hotel.columns[24:28]].sum()/hotel[hotel.columns[24:29]].sum().sum()"
   ]
  },
  {
   "cell_type": "code",
   "execution_count": null,
   "id": "bf759bdc-af87-4fc9-9344-c05cfe54fb37",
   "metadata": {},
   "outputs": [],
   "source": [
    "hotel['Hotel_Address_Other']=pd.merge([hotel['Hotel_Address_Vienna'],hotel['Hotel_Address_Milan']])\n",
    "hotel_df=hotel.drop(columns=['Hotel_Address_Milan','Hotel_Address_Vienna'])\n",
    "hotel_df"
   ]
  },
  {
   "cell_type": "code",
   "execution_count": null,
   "id": "21df9615-dcdf-4635-b2e7-886fd9261524",
   "metadata": {},
   "outputs": [],
   "source": [
    "X_train_tb20=pd.concat([X_train[Xtf_Co.feat2.head(20)],X_train[Xtf_Co.feat2.tail(20)]],axis=1).fillna('0').astype(dtype=int)"
   ]
  },
  {
   "cell_type": "code",
   "execution_count": null,
   "id": "4b91b0da-211c-48e6-8ce5-de52745c0107",
   "metadata": {
    "editable": true,
    "slideshow": {
     "slide_type": ""
    },
    "tags": []
   },
   "outputs": [],
   "source": [
    "from sklearn.feature_extraction.text import TfidfVectorizer\n",
    "\n",
    "# Sample text data\n",
    "X_train\n",
    "\n",
    "# Create a TF-IDF vectorizer\n",
    "vectorizer = TfidfVectorizer()\n",
    "\n",
    "# Fit and transform the data\n",
    "X = vectorizer.fit_transform(X_train)\n",
    "\n",
    "# Print the resulting TF-IDF matrix\n",
    "print(X.toarray())"
   ]
  },
  {
   "cell_type": "code",
   "execution_count": null,
   "id": "70bcef06-716e-45f4-86da-215ac64e6ce5",
   "metadata": {},
   "outputs": [],
   "source": [
    "import "
   ]
  },
  {
   "cell_type": "code",
   "execution_count": null,
   "id": "426595b1-b08b-4ef2-a583-5948485ce69a",
   "metadata": {
    "editable": true,
    "slideshow": {
     "slide_type": ""
    },
    "tags": []
   },
   "outputs": [],
   "source": [
    "test_neg=pd.DataFrame()"
   ]
  },
  {
   "cell_type": "code",
   "execution_count": null,
   "id": "d3b7aa89-ceb8-47e6-b4a9-387e64d48092",
   "metadata": {},
   "outputs": [],
   "source": [
    "test_neg['coef']=neg_coef\n",
    "test_neg['names']=neg_coef_names"
   ]
  },
  {
   "cell_type": "code",
   "execution_count": null,
   "id": "65bb1c3a-c5e4-4c36-aa59-7db1a6e5254a",
   "metadata": {},
   "outputs": [],
   "source": [
    "test_neg.sort_values(by='coef',ascending=False)"
   ]
  },
  {
   "cell_type": "code",
   "execution_count": null,
   "id": "561976fc-3757-46d3-bff3-a440a9b442d6",
   "metadata": {},
   "outputs": [],
   "source": [
    "neg_words.sort_values(ascending=False)"
   ]
  },
  {
   "cell_type": "code",
   "execution_count": null,
   "id": "efe0af6a-f47b-4f75-95a0-2abaf72f4408",
   "metadata": {},
   "outputs": [],
   "source": [
    "print('df:',sys.getsizeof(test_neg))\n",
    "print('s:',sys.getsizeof(neg_words))"
   ]
  },
  {
   "cell_type": "code",
   "execution_count": null,
   "id": "90d30202-0911-4966-9530-507305750fb4",
   "metadata": {},
   "outputs": [],
   "source": [
    "X_final_reversed.info()"
   ]
  },
  {
   "cell_type": "code",
   "execution_count": null,
   "id": "e0aee0be-6780-4d41-b6b0-b361d17efc5a",
   "metadata": {},
   "outputs": [],
   "source": [
    "X_final_reversed.index"
   ]
  },
  {
   "cell_type": "code",
   "execution_count": null,
   "id": "1d1e0d85-0e8b-497c-8cc8-631e658b32ca",
   "metadata": {},
   "outputs": [],
   "source": [
    "test_neg.iloc[1]"
   ]
  },
  {
   "cell_type": "code",
   "execution_count": null,
   "id": "8e9068d6-eeec-4368-9194-5b2c4476b7ad",
   "metadata": {},
   "outputs": [],
   "source": [
    "X_train_"
   ]
  },
  {
   "cell_type": "code",
   "execution_count": null,
   "id": "82600e88-bf48-467e-8065-89a4bfe5eacc",
   "metadata": {},
   "outputs": [],
   "source": [
    "x_final_coef['coef']=log_reg.coef_"
   ]
  },
  {
   "cell_type": "code",
   "execution_count": null,
   "id": "cb38a4af-2824-462e-b123-3e5d67a08acf",
   "metadata": {},
   "outputs": [],
   "source": [
    "X_train_reversed"
   ]
  },
  {
   "cell_type": "code",
   "execution_count": null,
   "id": "f7857ddc-a7db-41a1-8be9-c7eec96c115c",
   "metadata": {},
   "outputs": [],
   "source": [
    "sys.getsizeof(X_train)"
   ]
  },
  {
   "cell_type": "code",
   "execution_count": null,
   "id": "d6625f7b-b4e2-451c-b7dd-4f290363b1ac",
   "metadata": {},
   "outputs": [],
   "source": [
    "print(X_train.info())\n",
    "X_train.index"
   ]
  },
  {
   "cell_type": "code",
   "execution_count": null,
   "id": "792bb64a-da04-44d2-aa76-10364fa33dc6",
   "metadata": {},
   "outputs": [],
   "source": []
  },
  {
   "cell_type": "code",
   "execution_count": null,
   "id": "b955017c-6d2b-42d9-afdd-3df2f8f60b7c",
   "metadata": {},
   "outputs": [],
   "source": [
    "print(X_final_reversed.info())\n",
    "X_final_reversed.index"
   ]
  },
  {
   "cell_type": "markdown",
   "id": "763e66bf-5d8c-43e5-88e9-9e56a96e06a9",
   "metadata": {},
   "source": [
    "len(hotel_neg[hotel_neg.Positive_Review=='No Positive'])"
   ]
  },
  {
   "cell_type": "code",
   "execution_count": null,
   "id": "a60503de-c077-459a-b07a-3c70a31b9ca2",
   "metadata": {},
   "outputs": [],
   "source": [
    "hotel.groupby(['Additional_Number_of_Scoring','Total_Number_of_Reviews','Average_Score']).Nights_Stayed.mean()"
   ]
  },
  {
   "cell_type": "code",
   "execution_count": null,
   "id": "9e49b665-9988-42c8-847e-458d76e63f74",
   "metadata": {
    "editable": true,
    "slideshow": {
     "slide_type": ""
    },
    "tags": []
   },
   "outputs": [],
   "source": [
    "hotel['Positive_Review',"
   ]
  },
  {
   "cell_type": "code",
   "execution_count": null,
   "id": "1a010006-2907-4000-bef2-1fe55f787eb6",
   "metadata": {},
   "outputs": [],
   "source": [
    "len(hotel_neg[hotel_neg.Negative_Review=='No Negative'])"
   ]
  },
  {
   "cell_type": "code",
   "execution_count": null,
   "id": "a6ab88f9-abbd-4533-aaa6-63a038ff8198",
   "metadata": {
    "editable": true,
    "slideshow": {
     "slide_type": ""
    },
    "tags": []
   },
   "outputs": [],
   "source": [
    "len(hotel_pos[hotel_pos.Positive_Review=='No Positive'])"
   ]
  },
  {
   "cell_type": "code",
   "execution_count": null,
   "id": "33c274c1-4409-41ff-8602-6cd8dd404a3a",
   "metadata": {},
   "outputs": [],
   "source": [
    "hotel_neg[hotel_neg.Negative_Review=='No Negative']"
   ]
  },
  {
   "cell_type": "markdown",
   "id": "6bb560a3-54e0-45d3-a28f-b4a91abcd469",
   "metadata": {
    "editable": true,
    "jp-MarkdownHeadingCollapsed": true,
    "slideshow": {
     "slide_type": "slide"
    },
    "tags": []
   },
   "source": [
    "## DATA DICTIONARY"
   ]
  },
  {
   "cell_type": "markdown",
   "id": "25dda0fd-9729-4f8e-b09e-8c634c1c3379",
   "metadata": {
    "editable": true,
    "slideshow": {
     "slide_type": ""
    },
    "tags": []
   },
   "source": []
  },
  {
   "cell_type": "code",
   "execution_count": null,
   "id": "613f5189-fc1f-4478-b2a0-de328b1d25cd",
   "metadata": {},
   "outputs": [],
   "source": [
    "C_values = [0.001, 0.01, 0.1, 1, 10, 100]\n",
    "#Create a loop to test different C values\n",
    "for C in C_values:\n",
    "    #fit\n",
    "    neg_log_reg_C = LogisticRegression(max_iter=500,C=C,penalty='l2')\n",
    "    neg_log_reg_C.fit(neg_X_train, y_train)\n",
    "    # Evaluate the model on the test set\n",
    "    train_score= neg_log_reg_C.score(neg_X_train, y_train)\n",
    "    test_score = neg_log_reg_C.score(neg_X_test, y_test)\n",
    "    scorecard.loc[scorecard.shape[0],:]=['Logistic','Standard',neg_train_score,neg_test_score,'neg',C,'l1','saga']"
   ]
  },
  {
   "cell_type": "code",
   "execution_count": null,
   "id": "6d4dfbcb-e773-4d33-a1ca-2834b0b3a8f9",
   "metadata": {},
   "outputs": [],
   "source": [
    "C_values = [0.001, 0.01, 0.1, 1, 10, 100]\n",
    "#Create a loop to test different C values\n",
    "for C1 in C_values:\n",
    "    #fit\n",
    "    X_log_reg_C = LogisticRegression(max_iter=500,C=C1,penalty='l1',solver='saga')\n",
    "    X_log_reg_C.fit(X_train_ss, y_train)\n",
    "    # Evaluate the model on the test set\n",
    "    train_score= X_log_reg_C.score(X_train_ss, y_train)\n",
    "    test_score = X_log_reg_C.score(X_test_ss, y_test)\n",
    "    scorecard.loc[scorecard.shape[0],:]=['Logistic','Standard',X_pos_train_score,X_test_score,'X',C,'l2','saga']"
   ]
  },
  {
   "cell_type": "code",
   "execution_count": null,
   "id": "0c08cb99-0875-4a72-92fc-5c54d434148e",
   "metadata": {
    "editable": true,
    "slideshow": {
     "slide_type": ""
    },
    "tags": []
   },
   "outputs": [],
   "source": [
    "# Create a sample DataFrame\n",
    "data = {\n",
    "    'type': [],\n",
    "    'dummy':[],\n",
    "    'notes':[],\n",
    "    'dropped':[]\n",
    "}\n",
    "    \n",
    "#}\n",
    "df = pd.DataFrame(data)\n",
    "data_dictionary = pd.DataFrame(index=df.columns, columns=hotel.columns)\n",
    "# Create a data dictionary\n"
   ]
  },
  {
   "cell_type": "code",
   "execution_count": null,
   "id": "563ba29e-9222-42fc-bda7-430fa02a04e1",
   "metadata": {
    "editable": true,
    "slideshow": {
     "slide_type": ""
    },
    "tags": []
   },
   "outputs": [],
   "source": [
    "data_dictionary"
   ]
  },
  {
   "cell_type": "code",
   "execution_count": null,
   "id": "0c5b96c5-d7bd-42da-8774-685fb30cb79b",
   "metadata": {
    "editable": true,
    "slideshow": {
     "slide_type": ""
    },
    "tags": []
   },
   "outputs": [],
   "source": [
    "hotel.head(1)"
   ]
  },
  {
   "cell_type": "code",
   "execution_count": null,
   "id": "857e6d75-c520-456f-a564-f4d85525af2d",
   "metadata": {
    "editable": true,
    "scrolled": true,
    "slideshow": {
     "slide_type": ""
    },
    "tags": []
   },
   "outputs": [],
   "source": [
    "data_dictionary"
   ]
  },
  {
   "cell_type": "code",
   "execution_count": null,
   "id": "ee61f2c2-d3eb-4e48-8806-9c576c7da440",
   "metadata": {
    "editable": true,
    "slideshow": {
     "slide_type": ""
    },
    "tags": []
   },
   "outputs": [],
   "source": [
    "is_na=[]\n",
    "dtype=[]\n",
    "duplicated=[]\n",
    "\n",
    "# Establishing columns as needed\n",
    "for col in hotel.columns:\n",
    "    data_dictionary[col].type=hotel[col].dtype\n",
    "    print(hotel[col].dtype)"
   ]
  },
  {
   "cell_type": "code",
   "execution_count": null,
   "id": "cdb2a8f9-a50f-4457-ab7b-400d23662c06",
   "metadata": {},
   "outputs": [],
   "source": [
    "hotel['Average_Score'].isna().value_counts()"
   ]
  },
  {
   "cell_type": "code",
   "execution_count": null,
   "id": "7f349f67-4540-49a2-9824-b269a6b5f51e",
   "metadata": {
    "editable": true,
    "slideshow": {
     "slide_type": ""
    },
    "tags": []
   },
   "outputs": [],
   "source": [
    "data_dictionary=data_dictionary.T"
   ]
  },
  {
   "cell_type": "code",
   "execution_count": null,
   "id": "dec16088-bc7f-41f1-8b91-9fe396da0adb",
   "metadata": {},
   "outputs": [],
   "source": [
    "data_dictionary"
   ]
  },
  {
   "cell_type": "code",
   "execution_count": null,
   "id": "95a47a31-9ac8-4f4b-b3cf-ba648b8a9ca9",
   "metadata": {},
   "outputs": [],
   "source": [
    "lazy_info(data_dictionary)"
   ]
  },
  {
   "cell_type": "code",
   "execution_count": null,
   "id": "aecc659f-3dad-441d-be34-e1518b6a76bc",
   "metadata": {},
   "outputs": [],
   "source": [
    "#Assign dummy columns\n",
    "   #data_dictionary.iloc[17:,].dummy.fillna(1,inplace=True)\n",
    "   #data_dictionary.iloc[:17].dummy.fillna(0,inplace=True)"
   ]
  },
  {
   "cell_type": "code",
   "execution_count": null,
   "id": "87d24da0-3d21-41e6-a104-89529dbc6b86",
   "metadata": {},
   "outputs": [],
   "source": [
    "#Assign dropped values \n",
    "   #data_dictionary.dropped.fillna(0,inplace=True)"
   ]
  },
  {
   "cell_type": "code",
   "execution_count": 1,
   "id": "1f4b9222-40d1-4586-828f-ec368ac3b220",
   "metadata": {},
   "outputs": [
    {
     "ename": "NameError",
     "evalue": "name 'data_dictionary' is not defined",
     "output_type": "error",
     "traceback": [
      "\u001b[1;31m---------------------------------------------------------------------------\u001b[0m",
      "\u001b[1;31mNameError\u001b[0m                                 Traceback (most recent call last)",
      "Cell \u001b[1;32mIn[1], line 2\u001b[0m\n\u001b[0;32m      1\u001b[0m \u001b[38;5;66;03m#Get rid of NaN notes\u001b[39;00m\n\u001b[1;32m----> 2\u001b[0m data_dictionary\u001b[38;5;241m.\u001b[39mnotes\u001b[38;5;241m.\u001b[39mfillna(\u001b[38;5;124m'\u001b[39m\u001b[38;5;124mnull\u001b[39m\u001b[38;5;124m'\u001b[39m,inplace\u001b[38;5;241m=\u001b[39m\u001b[38;5;28;01mTrue\u001b[39;00m)\n",
      "\u001b[1;31mNameError\u001b[0m: name 'data_dictionary' is not defined"
     ]
    }
   ],
   "source": [
    "#Get rid of NaN notes\n",
    "data_dictionary.notes.fillna('null',inplace=True)"
   ]
  },
  {
   "cell_type": "code",
   "execution_count": null,
   "id": "21f55d58-f147-4b03-abfb-47f96c738e6f",
   "metadata": {},
   "outputs": [],
   "source": []
  },
  {
   "cell_type": "code",
   "execution_count": null,
   "id": "1318d9ea-1555-4a32-bf15-f9c132e989e6",
   "metadata": {},
   "outputs": [],
   "source": []
  },
  {
   "cell_type": "code",
   "execution_count": null,
   "id": "e42c98d7-9d3e-4b70-bcb0-4b279a497919",
   "metadata": {},
   "outputs": [],
   "source": []
  },
  {
   "cell_type": "code",
   "execution_count": null,
   "id": "fcb3f30b-d91e-4d33-b9ff-74bed86cd9ce",
   "metadata": {},
   "outputs": [],
   "source": []
  },
  {
   "cell_type": "code",
   "execution_count": null,
   "id": "970f01e3-21ba-4276-8486-e3c9e8a2b697",
   "metadata": {},
   "outputs": [],
   "source": []
  },
  {
   "cell_type": "code",
   "execution_count": null,
   "id": "6b70b143-4262-4ea6-bb25-d45bb068a62a",
   "metadata": {},
   "outputs": [],
   "source": []
  },
  {
   "cell_type": "code",
   "execution_count": null,
   "id": "b97df1b5-2fcb-4285-8f71-db69f6b3fd41",
   "metadata": {},
   "outputs": [],
   "source": []
  },
  {
   "cell_type": "code",
   "execution_count": null,
   "id": "a93ac77b-8957-4b72-b6a6-9e9b473a72b4",
   "metadata": {},
   "outputs": [],
   "source": []
  },
  {
   "cell_type": "code",
   "execution_count": null,
   "id": "780dac97-d4f5-4650-882e-607c794fc5be",
   "metadata": {},
   "outputs": [],
   "source": []
  },
  {
   "cell_type": "code",
   "execution_count": null,
   "id": "75d8d6ed-37d4-41aa-96da-fd46d38bf220",
   "metadata": {},
   "outputs": [],
   "source": []
  },
  {
   "cell_type": "code",
   "execution_count": null,
   "id": "b1738c4b-b35d-442b-9e2d-18265dd6b890",
   "metadata": {},
   "outputs": [],
   "source": []
  },
  {
   "cell_type": "code",
   "execution_count": null,
   "id": "eaa9526e-7ea8-47e7-9c7a-df3fe3f91f93",
   "metadata": {},
   "outputs": [],
   "source": []
  },
  {
   "cell_type": "code",
   "execution_count": null,
   "id": "c338d477-89ab-4aa5-86b7-856ad7a9d3b6",
   "metadata": {},
   "outputs": [],
   "source": []
  },
  {
   "cell_type": "code",
   "execution_count": null,
   "id": "c07c4980-bc58-438e-b9a2-052962da0bdb",
   "metadata": {},
   "outputs": [],
   "source": []
  },
  {
   "cell_type": "code",
   "execution_count": null,
   "id": "18349179-8d5d-4040-be97-c7451aa49b5a",
   "metadata": {},
   "outputs": [],
   "source": []
  }
 ],
 "metadata": {
  "kernelspec": {
   "display_name": "base_env",
   "language": "python",
   "name": "base_env"
  },
  "language_info": {
   "codemirror_mode": {
    "name": "ipython",
    "version": 3
   },
   "file_extension": ".py",
   "mimetype": "text/x-python",
   "name": "python",
   "nbconvert_exporter": "python",
   "pygments_lexer": "ipython3",
   "version": "3.11.5"
  },
  "toc": {
   "base_numbering": 7
  },
  "widgets": {
   "application/vnd.jupyter.widget-state+json": {
    "state": {},
    "version_major": 2,
    "version_minor": 0
   }
  }
 },
 "nbformat": 4,
 "nbformat_minor": 5
}
