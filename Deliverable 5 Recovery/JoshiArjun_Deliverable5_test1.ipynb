{
 "cells": [
  {
   "cell_type": "markdown",
   "id": "7c391b0e-5c2e-47aa-bbbf-4fbc993848ed",
   "metadata": {},
   "source": [
    "Arjun Joshi\n",
    "11/10/2024\n",
    "BrainStation\n",
    "Deliverable 5: NLP, Advanced Stas & Modelling\n"
   ]
  },
  {
   "cell_type": "markdown",
   "id": "30b396e9-d180-4d20-b844-5094960acbd5",
   "metadata": {},
   "source": [
    "##### Assignment Instructions"
   ]
  },
  {
   "cell_type": "code",
   "execution_count": null,
   "id": "534478ce-30ce-4078-a7cb-783da771b64e",
   "metadata": {},
   "outputs": [],
   "source": [
    " conda install -c conda-forge textblob\n"
   ]
  },
  {
   "cell_type": "markdown",
   "id": "8d1b9d60-281e-4cae-b2fe-7ff9fce612ad",
   "metadata": {},
   "source": [
    "                **Exploratory Data Analysis**\n",
    "                            <br>\n",
    " For this analysis, you are provided with a large data set consisting of hotel reviews (text fields for positive and negative comments) and details about the stay (hotel location, time & length of stay, etc). Your target column of interest is Reviewer_Score that encodes positive sentiment as 1 and negative as 0.\n",
    "\n",
    "First, let's load the data and understand what we are working with.\n",
    "\n",
    "Perform EDA on the data and mention 3-4 observations from which you can draw actionable insights. In your EDA, you may consider creating a data dictionary, basic statistical analysis, data visualizations, data cleaning and preprocessing to prepare the data for modeling.\n",
    "\n",
    "                        Preprocessing\n",
    "                            <br>\n",
    "Next, the text data needs to be processed for modelling.\n",
    "\n",
    "Split the data into train and test sets and transform the positive and negative review columns using a CountVectorizer. Consider the following:\n",
    "What tokenizer and text cleaning steps do you include?\n",
    "Using the vectorizer, maximize the number of features at 500 and make sure that tokens used <10 times are dropped from the vocabulary.\n",
    "This process may be done on the positive and negative review columns separately and then the resulting arrays merged with the original numeric features to form the final train and test data frames ready for modelling. In your column names, make sure you mark which words are coming from the positive vs negative reviews (you can use a prefix such as pos_ and neg_).\n",
    "                        \n",
    "                          Modelling\n",
    "                            <br>\n",
    "As the data is now ready for modelling, we will be creating two separate models with optimization and evaluation of each.\n",
    "\n",
    "Fit a logistic regression model on the data and analyze the test and train accuracy. Find the top 20 words from the positive reviews that are most predictive of a positive sentiment (Reviewer_Score = 1). Similarly, find the top 20 words from the negative reviews that are most predictive of a negative sentiment (Reviewer_Score = 0). What actionable insights can you draw from these?\n",
    "        \n",
    "                        Pipeline & PCA\n",
    "        \n",
    "Using a pipeline, combine PCA with a decision tree classifier.\n",
    "Optimize at least 3 hyperparameters including the maximum tree depth and the minimum number of data points required on each leaf node.\n",
    "You can use 20 principle components.\n",
    "The best parameters should be found using 5-fold cross validation.\n",
    "Contrast the best results here with the logistic regression model and provide any insights that you may draw from the results.\n",
    "\n",
    "                        Confusion Matrix\n",
    "\n",
    "For your best performing model, conduct a more in-depth evaluation by analyzing the confusion matrix and commenting on the model errors and metrics such as precision and recall.\n",
    "Requirements\n",
    "Please submit your Jupyter notebook which should include commented code and extensive markdown cells explaining your process and insights. Make sure to add a table of contents, introduction, proper section headers and a conclusion section. Your communication in the markdown cells and the code cell outputs should allow anyone to understand your process and findings without the need to read the code."
   ]
  },
  {
   "cell_type": "markdown",
   "id": "5e87ea34-7ca9-4d10-872d-c19ae88b06e8",
   "metadata": {},
   "source": [
    "# Table of Contents"
   ]
  },
  {
   "cell_type": "markdown",
   "id": "de7bb929-cbb1-43ea-a555-095cbd27028f",
   "metadata": {},
   "source": [
    "[Part 1: Data Preprocessing, EDA](Part1)"
   ]
  },
  {
   "cell_type": "markdown",
   "id": "39aa8c14-3f33-43ed-8868-0fcbb79376cb",
   "metadata": {},
   "source": [
    "[Part 1: Data Preprocessing, EDA](Part1)"
   ]
  },
  {
   "cell_type": "markdown",
   "id": "d692efe5-4c57-49e7-aadd-c668e56ef65a",
   "metadata": {},
   "source": [
    "[Part 2: Text Preprocessing](Part2)"
   ]
  },
  {
   "cell_type": "markdown",
   "id": "e156c806-3a81-41ce-96a2-91b94b86420d",
   "metadata": {},
   "source": [
    "[Part 3:TT_Split Tokenize, LogReg Fitting](Part3)"
   ]
  },
  {
   "cell_type": "markdown",
   "id": "baafad87-88b1-4037-a41f-f48e1fa7ee82",
   "metadata": {},
   "source": [
    "[Part 4: Pipeline & PCA](Part4)"
   ]
  },
  {
   "cell_type": "markdown",
   "id": "de2984cb-f8d7-471f-9b8b-60c079cfa4dd",
   "metadata": {},
   "source": [
    "[Part 5: Confusion Matrix](Part2)"
   ]
  },
  {
   "cell_type": "markdown",
   "id": "d87fe62d-563c-491e-b921-c68f62dd1713",
   "metadata": {},
   "source": [
    "[Index: Text Preprocessing](Part2)"
   ]
  },
  {
   "cell_type": "markdown",
   "id": "67950f29-e814-4308-be2b-956cdec94cbc",
   "metadata": {},
   "source": [
    "## Part 0: Load, Format, Custom Functions"
   ]
  },
  {
   "cell_type": "code",
   "execution_count": null,
   "id": "59c65b78-c0ab-4e3e-88bc-5793c9e8b851",
   "metadata": {},
   "outputs": [],
   "source": [
    "import numpy as np\n",
    "import pandas as pd\n",
    "import matplotlib.pyplot as plt\n",
    "import seaborn as sns\n",
    "from sklearn.preprocessing import StandardScaler\n",
    "from sklearn.decomposition import PCA\n",
    "from warnings import filterwarnings\n",
    "from sklearn.model_selection import train_test_split\n",
    "from scipy import stats\n",
    "\n",
    "filterwarnings(action='ignore')\n",
    "from sklearn.feature_extraction.text import ENGLISH_STOP_WORDS\n",
    "from sklearn.feature_extraction.text import CountVectorizer\n"
   ]
  },
  {
   "cell_type": "markdown",
   "id": "6c73a231-d1b9-47cb-b15f-97793291760d",
   "metadata": {
    "jp-MarkdownHeadingCollapsed": true
   },
   "source": [
    "### DF check"
   ]
  },
  {
   "cell_type": "code",
   "execution_count": null,
   "id": "632928f0-cf72-442e-ba3d-f6378e6ecdc7",
   "metadata": {},
   "outputs": [],
   "source": [
    "hotel=pd.read_csv('data/Hotel_Reviews.csv')"
   ]
  },
  {
   "cell_type": "code",
   "execution_count": null,
   "id": "6a86cb24-6932-4854-824f-b0674bde2f90",
   "metadata": {},
   "outputs": [],
   "source": [
    "# overview of objects\n",
    "\n",
    "# 2 Objects are positive and negative review content \n",
    "# Target Variables\n",
    "#### \n",
    "hotel.columns"
   ]
  },
  {
   "cell_type": "code",
   "execution_count": null,
   "id": "6f0e6f00-70fa-4234-8e74-d0de482ae714",
   "metadata": {},
   "outputs": [],
   "source": [
    "hotel.shape"
   ]
  },
  {
   "cell_type": "code",
   "execution_count": 9,
   "id": "152978e7-8030-4464-ba8e-f1dd738ebdfc",
   "metadata": {
    "scrolled": true
   },
   "outputs": [
    {
     "ename": "NameError",
     "evalue": "name 'hotel' is not defined",
     "output_type": "error",
     "traceback": [
      "\u001b[1;31m---------------------------------------------------------------------------\u001b[0m",
      "\u001b[1;31mNameError\u001b[0m                                 Traceback (most recent call last)",
      "Cell \u001b[1;32mIn[9], line 1\u001b[0m\n\u001b[1;32m----> 1\u001b[0m hotel\u001b[38;5;241m.\u001b[39minfo()\n",
      "\u001b[1;31mNameError\u001b[0m: name 'hotel' is not defined"
     ]
    }
   ],
   "source": [
    "hotel.info()"
   ]
  },
  {
   "cell_type": "code",
   "execution_count": null,
   "id": "b6629359-3225-4b9a-8505-b45709f9cfc0",
   "metadata": {},
   "outputs": [],
   "source": [
    "#hotel.rename(columns={'Unnamed: 0' : 'old_index'}, inplace=True)"
   ]
  },
  {
   "cell_type": "code",
   "execution_count": null,
   "id": "de535334-d23a-455b-a66d-fd6bd1b8f0da",
   "metadata": {},
   "outputs": [],
   "source": [
    "# 'Old-index' contains no new information, as expected. Dropping column\n",
    "#\n",
    "for rows in hotel['Unnamed: 0']:\n",
    "    if hotel.index[rows] == hotel['Unnamed: 0'][rows]:\n",
    "        continue\n",
    "    else:\n",
    "        print(rows)\n",
    "print('done')\n",
    "\n",
    "# drop columns\n",
    "#\n",
    "hotel.drop(columns=['Unnamed: 0'], inplace=True)"
   ]
  },
  {
   "cell_type": "code",
   "execution_count": null,
   "id": "3e9883b9-dbd3-4956-9988-3d3cc92fe0b9",
   "metadata": {},
   "outputs": [],
   "source": [
    "# Redo columns of df to make it more readable\n",
    "\n",
    "hotel=hotel[['Reviewer_Score',\n",
    " 'Nights_Stayed',\n",
    " 'Positive_Review',\n",
    " 'Negative_Review',\n",
    " 'Additional_Number_of_Scoring',\n",
    " 'Average_Score',\n",
    " 'Leisure_Trip', \n",
    " 'Days_Since_Review',\n",
    " 'Total_Number_of_Reviews', \n",
    " 'Total_Number_of_Reviews_Reviewer_Has_Given',\n",
    " 'Review_Total_Negative_Word_Counts', \n",
    " 'Review_Total_Positive_Word_Counts',\n",
    " 'Latitude',\n",
    " 'Longitude',\n",
    " 'Day',\n",
    " 'Month',\n",
    " 'Year',\n",
    " 'Reviewer_Nationality_Australia',\n",
    " 'Reviewer_Nationality_Ireland',\n",
    " 'Reviewer_Nationality_UAE',\n",
    " 'Reviewer_Nationality_UK',\n",
    " 'Reviewer_Nationality_USA',\n",
    " 'Reviewer_Nationality_Other',\n",
    " 'Hotel_Address_Amsterdam',\n",
    " 'Hotel_Address_Barcelona',\n",
    " 'Hotel_Address_London', \n",
    " 'Hotel_Address_Milan', \n",
    " 'Hotel_Address_Paris',\n",
    " 'Hotel_Address_Vienna']]\n"
   ]
  },
  {
   "cell_type": "code",
   "execution_count": null,
   "id": "3ba1a421-1876-439d-b66e-b662f1bf49c6",
   "metadata": {},
   "outputs": [],
   "source": [
    "# No null values\n",
    "hotel.isna().sum().sum()"
   ]
  },
  {
   "cell_type": "code",
   "execution_count": null,
   "id": "fe22090d-aeaa-4d26-8b3b-c1d6cce8ef94",
   "metadata": {},
   "outputs": [],
   "source": [
    "# After removing old index, we can actually take a look a possible duplicates. The old index was a hindrance and it was shown\n",
    "# in the earlier loop that it matches the index.\n",
    "\n",
    "hotel.duplicated().value_counts()"
   ]
  },
  {
   "cell_type": "code",
   "execution_count": null,
   "id": "8e2ba84a-7ae8-4a1f-8809-10a9eff7ea02",
   "metadata": {},
   "outputs": [],
   "source": [
    "# Take a look at a duplicate line\n",
    "hotel.loc[hotel.Year.eq(2015) & hotel.Day.eq(4) & hotel.Month.eq(8) & hotel.Reviewer_Nationality_UK.eq(1) & hotel.Total_Number_of_Reviews.eq(2515)]\t"
   ]
  },
  {
   "cell_type": "code",
   "execution_count": null,
   "id": "da97c9e8-cd8f-4b94-8796-82bf592d666e",
   "metadata": {},
   "outputs": [],
   "source": [
    "# Drop the duplicates, keep one copy. Index irrelevant presently, dropping first.\n",
    "\n",
    "print(hotel.drop_duplicates(keep='first').shape)\n",
    "hotel.drop_duplicates(keep='first',inplace=True)\n",
    "print(hotel.shape)"
   ]
  },
  {
   "cell_type": "code",
   "execution_count": null,
   "id": "6a02a26b-c18e-464b-b162-f33ca9ddcdc5",
   "metadata": {},
   "outputs": [],
   "source": [
    "# Checking duplicates after drop again\n",
    "\n",
    "hotel.duplicated().value_counts()"
   ]
  },
  {
   "cell_type": "code",
   "execution_count": null,
   "id": "dc8e7c11-12a7-4f68-83e3-9907d07b9912",
   "metadata": {
    "scrolled": true
   },
   "outputs": [],
   "source": [
    "hotel.head(2)"
   ]
  },
  {
   "cell_type": "code",
   "execution_count": null,
   "id": "cfd438f3-894d-427f-a90d-b51a2da686ac",
   "metadata": {},
   "outputs": [],
   "source": [
    "## Checking for special characters\n",
    "print(hotel.Positive_Review.str.isalnum().value_counts())\n",
    "print(hotel.Negative_Review.str.isalnum().value_counts())"
   ]
  },
  {
   "cell_type": "code",
   "execution_count": null,
   "id": "6dfc366f-8ee0-41bc-9194-381b443ab39d",
   "metadata": {},
   "outputs": [],
   "source": [
    "hotel2=hotel.copy()"
   ]
  },
  {
   "cell_type": "code",
   "execution_count": null,
   "id": "8065b0a4-b345-4bfa-a799-9ffc7734650b",
   "metadata": {},
   "outputs": [],
   "source": [
    "# No Negative value = null\n",
    "\n",
    "hotel2[hotel2.Negative_Review=='No Negative'].Negative_Review=''"
   ]
  },
  {
   "cell_type": "code",
   "execution_count": null,
   "id": "851424be-4052-4beb-bccf-f95dbeefa047",
   "metadata": {},
   "outputs": [],
   "source": []
  },
  {
   "cell_type": "code",
   "execution_count": null,
   "id": "a81d7589-60e8-4b51-b534-5b5a01499fca",
   "metadata": {},
   "outputs": [],
   "source": []
  },
  {
   "cell_type": "code",
   "execution_count": null,
   "id": "6db31bbc-049f-40cd-8679-f504ee1436f7",
   "metadata": {},
   "outputs": [],
   "source": [
    "# Taking a look at special characters in review columns - may have to revisit this after talking to faculty.\n",
    "\n",
    "#hotel[hotel.Negative_Review.str.isalnum()==True]"
   ]
  },
  {
   "cell_type": "code",
   "execution_count": null,
   "id": "3e914dcf-cedf-401f-b1aa-0a82d7e29a19",
   "metadata": {},
   "outputs": [],
   "source": [
    "hotel.Positive_Review.str.isalnum().value_counts()"
   ]
  },
  {
   "cell_type": "markdown",
   "id": "346e0065-42bb-4a78-94fe-1c375d895588",
   "metadata": {},
   "source": [
    "#### Data Dictionary"
   ]
  },
  {
   "cell_type": "code",
   "execution_count": null,
   "id": "0c08cb99-0875-4a72-92fc-5c54d434148e",
   "metadata": {},
   "outputs": [],
   "source": [
    "# Create a sample DataFrame\n",
    "data = {\n",
    "    'type': []\n",
    "}\n",
    "df = pd.DataFrame(data)\n",
    "data_dictionary = pd.DataFrame(index=df.columns, columns=hotel.columns)\n",
    "# Create a data dictionary\n"
   ]
  },
  {
   "cell_type": "code",
   "execution_count": null,
   "id": "563ba29e-9222-42fc-bda7-430fa02a04e1",
   "metadata": {},
   "outputs": [],
   "source": [
    "data_dictionary"
   ]
  },
  {
   "cell_type": "code",
   "execution_count": null,
   "id": "0c5b96c5-d7bd-42da-8774-685fb30cb79b",
   "metadata": {},
   "outputs": [],
   "source": [
    "hotel.head(1)"
   ]
  },
  {
   "cell_type": "code",
   "execution_count": null,
   "id": "857e6d75-c520-456f-a564-f4d85525af2d",
   "metadata": {},
   "outputs": [],
   "source": [
    "data_dictionary"
   ]
  },
  {
   "cell_type": "code",
   "execution_count": null,
   "id": "ee61f2c2-d3eb-4e48-8806-9c576c7da440",
   "metadata": {},
   "outputs": [],
   "source": [
    "is_na=[]\n",
    "dtype=[]\n",
    "duplicated=[]\n",
    "\n",
    "# Establishing columns as needed\n",
    "for col in hotel.columns:\n",
    "    data_dictionary[col].type=hotel[col].dtype\n",
    "    print(hotel[col].dtype)"
   ]
  },
  {
   "cell_type": "code",
   "execution_count": null,
   "id": "cdb2a8f9-a50f-4457-ab7b-400d23662c06",
   "metadata": {},
   "outputs": [],
   "source": [
    "hotel['Average_Score'].isna().value_counts()"
   ]
  },
  {
   "cell_type": "code",
   "execution_count": null,
   "id": "7f349f67-4540-49a2-9824-b269a6b5f51e",
   "metadata": {},
   "outputs": [],
   "source": [
    "data_dictionary=data_dictionary.T"
   ]
  },
  {
   "cell_type": "code",
   "execution_count": null,
   "id": "ff1c740b-fb33-409b-b902-0ca89bc68b62",
   "metadata": {},
   "outputs": [],
   "source": [
    "data_dictionary"
   ]
  },
  {
   "cell_type": "code",
   "execution_count": null,
   "id": "02c084de-3b5c-4b1b-b97d-7d34bd862a5c",
   "metadata": {},
   "outputs": [],
   "source": [
    "data_dictionary"
   ]
  },
  {
   "cell_type": "code",
   "execution_count": null,
   "id": "875afdba-4b6b-4813-befe-4e3632b6a2b2",
   "metadata": {},
   "outputs": [],
   "source": [
    "# data_dictionary=data_dictionary.T"
   ]
  },
  {
   "cell_type": "code",
   "execution_count": null,
   "id": "1ddb388d-bfff-4544-883d-cd3d09ca7577",
   "metadata": {},
   "outputs": [],
   "source": [
    "hotel.head(1)"
   ]
  },
  {
   "cell_type": "code",
   "execution_count": null,
   "id": "7538a473-585a-4ac3-b153-dc04da614f8e",
   "metadata": {},
   "outputs": [],
   "source": [
    "print('nullls: ',hotel.isna().sum().sum())\n",
    "print('\\nDuplicated: \\n',hotel.duplicated().value_counts())"
   ]
  },
  {
   "cell_type": "markdown",
   "id": "163786ab-8b1c-406e-99bb-f46f461829d8",
   "metadata": {},
   "source": [
    "## Question 1: EDA <a class=\"anchor\" name=\"Part1\"></a>"
   ]
  },
  {
   "cell_type": "code",
   "execution_count": null,
   "id": "4884de01-af0b-41a6-8f24-35fc9f1b88f8",
   "metadata": {},
   "outputs": [],
   "source": [
    "hotel.head(3)"
   ]
  },
  {
   "cell_type": "code",
   "execution_count": null,
   "id": "63ec9b0b-2c9f-46a8-badc-cb8bedcc50fd",
   "metadata": {},
   "outputs": [],
   "source": [
    "# Convert dates into continuous date column for plotting purposes\n",
    "\n",
    "hotel['Review_Date'] = pd.to_datetime(hotel[['Year', 'Month', 'Day']])\n",
    "hotel.Review_Date"
   ]
  },
  {
   "cell_type": "code",
   "execution_count": null,
   "id": "52bcd57e-cf12-4e19-9d1e-6b0f5adf10e3",
   "metadata": {},
   "outputs": [],
   "source": [
    "averages=pd.DataFrame\n",
    "averages=hotel.groupby('Review_Date').Average_Score.mean()\n",
    "\n",
    "averages.shape\n",
    "hotel.groupby('Review_Date')['Average_Score'].mean().plot()"
   ]
  },
  {
   "cell_type": "code",
   "execution_count": null,
   "id": "24c87f6e-ba17-4cf8-85d3-15f012a4d52c",
   "metadata": {},
   "outputs": [],
   "source": [
    "sns.lineplot(x=hotel.Review_Date,y=hotel.groupby('Review_Date')['Average_Score'].mean())"
   ]
  },
  {
   "cell_type": "code",
   "execution_count": null,
   "id": "71961e58-5dd3-4d61-863a-fbe35b7524eb",
   "metadata": {},
   "outputs": [],
   "source": [
    "\n",
    "#sns.lineplot(x=hotel['Review_Date'], y=hotel())"
   ]
  },
  {
   "cell_type": "code",
   "execution_count": null,
   "id": "48cf2169-6b4a-4bda-b424-49bb6459dde8",
   "metadata": {},
   "outputs": [],
   "source": [
    "AverageReviews=hotel.groupby('Review_Date').Average_Score.rolling(window=5).mean().to_frame().reset_index()"
   ]
  },
  {
   "cell_type": "code",
   "execution_count": null,
   "id": "56b32061-0145-469e-bb89-ab3b83df695d",
   "metadata": {},
   "outputs": [],
   "source": [
    "AverageReviews['Average_Score_std']=hotel.groupby('Review_Date').Average_Score.mean()"
   ]
  },
  {
   "cell_type": "code",
   "execution_count": null,
   "id": "86bedd86-c663-4137-afb2-d43777792f86",
   "metadata": {},
   "outputs": [],
   "source": [
    "AverageReviews['monthYear']=AverageReviews.Review_Date.dt.month.astype('str')+'-'+AverageReviews.Review_Date.dt.year.astype('str')"
   ]
  },
  {
   "cell_type": "markdown",
   "id": "1727fe05-b1b5-4f35-a018-26e5b713994f",
   "metadata": {},
   "source": [
    "### EDA"
   ]
  },
  {
   "cell_type": "markdown",
   "id": "4eec2a28-a637-45e5-aba1-b53d484281d1",
   "metadata": {},
   "source": [
    "#### Visualizations"
   ]
  },
  {
   "cell_type": "code",
   "execution_count": null,
   "id": "9ba0fe6b-ccd9-4f0d-9e6f-a6603dd9d8f8",
   "metadata": {},
   "outputs": [],
   "source": [
    "hotel.shape"
   ]
  },
  {
   "cell_type": "code",
   "execution_count": null,
   "id": "ae9abf13-cd8e-44e8-a19e-6e8634f39049",
   "metadata": {},
   "outputs": [],
   "source": [
    "len(pd.concat([hotel.Additional_Number_of_Scoring,hotel.Total_Number_of_Reviews]).unique())"
   ]
  },
  {
   "cell_type": "code",
   "execution_count": null,
   "id": "58cd1b5c-e7e0-43c8-bafb-e32375c993dd",
   "metadata": {},
   "outputs": [],
   "source": [
    "hotel.info()"
   ]
  },
  {
   "cell_type": "code",
   "execution_count": null,
   "id": "98037796-f776-43c0-8ba6-baa2812107a1",
   "metadata": {},
   "outputs": [],
   "source": [
    "hotel.columns[0:17]"
   ]
  },
  {
   "cell_type": "code",
   "execution_count": null,
   "id": "338a993d-1eec-40ed-8fa4-c2fe40cdfcc9",
   "metadata": {},
   "outputs": [],
   "source": [
    "#hotel no location dummies\n",
    "hotel_nd=hotel[hotel.columns[0:17]]"
   ]
  },
  {
   "cell_type": "code",
   "execution_count": null,
   "id": "346bc6d3-ae50-451d-91f8-4c9f8e4447b1",
   "metadata": {},
   "outputs": [],
   "source": [
    "# sns.pairplot(hotel_nd,hue='Reviewer_Score')"
   ]
  },
  {
   "cell_type": "markdown",
   "id": "e89b39ac-20a1-4610-a17f-0ab5f8ee74df",
   "metadata": {},
   "source": [
    "With this wildly unnecessary pair-plot, I can get a sense of where some obvious relationships can be found.\n",
    "Some items of interest:\n",
    "- There seems to be a differential between control groups(number of review a reviewer has given ~ Average Score)\n",
    "- \n"
   ]
  },
  {
   "cell_type": "code",
   "execution_count": null,
   "id": "87b23675-7b40-4b96-afc1-3c8efbfc4f7e",
   "metadata": {},
   "outputs": [],
   "source": [
    "#need another table to drop reviews\n",
    "hotel_nd_nreviews=hotel_nd"
   ]
  },
  {
   "cell_type": "code",
   "execution_count": null,
   "id": "2983bda6-8b3e-4dfa-9022-fc9cf0c138eb",
   "metadata": {},
   "outputs": [],
   "source": [
    "hotel_nd_nreviews.head(1)"
   ]
  },
  {
   "cell_type": "code",
   "execution_count": null,
   "id": "4e190fab-7844-4d60-9117-2cb88fd048e4",
   "metadata": {},
   "outputs": [],
   "source": [
    "hotel_nd_nreviews=hotel_nd.copy()"
   ]
  },
  {
   "cell_type": "code",
   "execution_count": null,
   "id": "5773baea-21e4-40db-88bb-da430f739034",
   "metadata": {},
   "outputs": [],
   "source": [
    "hotel_nd_nreviews.drop(columns=(['Positive_Review','Negative_Review']),inplace=True)"
   ]
  },
  {
   "cell_type": "code",
   "execution_count": 10,
   "id": "4e998510-8e35-400f-b410-65d35a7d5647",
   "metadata": {},
   "outputs": [
    {
     "ename": "NameError",
     "evalue": "name 'hotel_nd_nreviews' is not defined",
     "output_type": "error",
     "traceback": [
      "\u001b[1;31m---------------------------------------------------------------------------\u001b[0m",
      "\u001b[1;31mNameError\u001b[0m                                 Traceback (most recent call last)",
      "Cell \u001b[1;32mIn[10], line 1\u001b[0m\n\u001b[1;32m----> 1\u001b[0m hotel_nd_nreviews\u001b[38;5;241m.\u001b[39mhead(\u001b[38;5;241m1\u001b[39m)\n",
      "\u001b[1;31mNameError\u001b[0m: name 'hotel_nd_nreviews' is not defined"
     ]
    }
   ],
   "source": [
    "hotel_nd_nreviews.head(1)"
   ]
  },
  {
   "cell_type": "code",
   "execution_count": null,
   "id": "71f7f838-7473-4d3c-a22b-a298f5eb7e7d",
   "metadata": {},
   "outputs": [],
   "source": [
    "# Correlations for independent variables\n",
    "indcorr=hotel_nd_nreviews[hotel_nd_nreviews.Reviewer_Score==1].corr()\n",
    "#Heatmap\n",
    "mask=np.triu(indcorr)\n",
    "plt.figure(figsize=(20,15))\n",
    "sns.heatmap(indcorr.round(2), vmax=1,vmin=-1,center=0,cmap='coolwarm',mask=mask, annot=True)\n",
    "plt.show"
   ]
  },
  {
   "cell_type": "code",
   "execution_count": null,
   "id": "1afdd8d0-471b-4242-9d30-be2a20c2ec4a",
   "metadata": {},
   "outputs": [],
   "source": [
    "# Correlations for independent variables\n",
    "indcorr=hotel_nd_nreviews[hotel_nd_nreviews.Reviewer_Score==1].corr()\n",
    "#Heatmap\n",
    "mask=np.triu(indcorr)\n",
    "plt.figure(figsize=(20,15))\n",
    "sns.heatmap(indcorr.round(2), vmax=1,vmin=-1,center=0,cmap='coolwarm',mask=mask, annot=True)\n",
    "plt.show"
   ]
  },
  {
   "cell_type": "code",
   "execution_count": null,
   "id": "a9cea430-1da3-4030-8fdd-a9fa2c6511ca",
   "metadata": {},
   "outputs": [],
   "source": [
    "inverse_hotel_nd_nreviews=hotel_nd_nreviews[hotel_nd_nreviews.Reviewer_Score==0]\n",
    "#inverse_hotel_nd_nreviews.Reviewer_Score=1"
   ]
  },
  {
   "cell_type": "code",
   "execution_count": null,
   "id": "67aa6143-a505-49de-967b-0ca785f42f83",
   "metadata": {},
   "outputs": [],
   "source": [
    "hotel_nd_nreviews[hotel_nd_nreviews.Reviewer_Score==1].count()"
   ]
  },
  {
   "cell_type": "code",
   "execution_count": null,
   "id": "616467a0-007a-4805-92b6-083f892b4c32",
   "metadata": {},
   "outputs": [],
   "source": [
    "inverse_hotel_nd_nreviews.head(3)"
   ]
  },
  {
   "cell_type": "code",
   "execution_count": null,
   "id": "f848d21d-b884-46e1-9e55-e08042f1c212",
   "metadata": {},
   "outputs": [],
   "source": [
    "# Correlations for independent variables\n",
    "indcorr=inverse_hotel_nd_nreviews.corr()\n",
    "#Heatmap\n",
    "mask=np.triu(indcorr)\n",
    "plt.figure(figsize=(20,15))\n",
    "sns.heatmap(indcorr.round(2), vmax=1,vmin=-1,center=0,cmap='coolwarm',mask=mask, annot=True)\n",
    "plt.show"
   ]
  },
  {
   "cell_type": "markdown",
   "id": "96736922-565c-4120-90c7-fd6e85013fcf",
   "metadata": {},
   "source": [
    "**Correlation Heatmaps**\n",
    "\n",
    "It's interesting to see. When the data is evaluated as an independent set, there is some correlation among variables.\n",
    "It's intuitive that a positive reviewer score is correlated to higher average scores, you don't see the inverse relationship with negative reviewer scores. \n",
    "Some notes:\n",
    "- Most significant features:\n",
    "    - Days Since Reviews ~ Year\n",
    "    - Total # Reviews ~ Additional Number of Scoring\n"
   ]
  },
  {
   "cell_type": "code",
   "execution_count": null,
   "id": "a73d6da0-1322-4234-bfbe-ebe5f4366b66",
   "metadata": {},
   "outputs": [],
   "source": [
    "#### Looking at PCA\n",
    "### Target "
   ]
  },
  {
   "cell_type": "code",
   "execution_count": null,
   "id": "cf81b02a-fa60-4ea3-a0bf-20d515a67429",
   "metadata": {},
   "outputs": [],
   "source": [
    "hotel.Total_Number_of_Reviews_Reviewer_Has_Given.describe()\t"
   ]
  },
  {
   "cell_type": "code",
   "execution_count": null,
   "id": "e009ff64-f183-45b2-8f92-7a695120942c",
   "metadata": {},
   "outputs": [],
   "source": [
    "hotel[hotel.Reviewer_Score==1].Average_Score.describe()"
   ]
  },
  {
   "cell_type": "code",
   "execution_count": null,
   "id": "671ef76d-e600-4f2b-aada-545ec68ffb01",
   "metadata": {},
   "outputs": [],
   "source": [
    "plt.figure()\n",
    "hotel[hotel.Reviewer_Score==1].Average_Score.hist()\n",
    "#plt.axvline(x=hotel[hotel.Reviewer_Score==1].mean())"
   ]
  },
  {
   "cell_type": "code",
   "execution_count": null,
   "id": "dbcacaa0-35f4-4a78-ba33-da79e6b74acc",
   "metadata": {},
   "outputs": [],
   "source": [
    "sns.histplot(hotel[hotel.Reviewer_Score==1].Average_Score, bins=30,color='orange')\n",
    "sns.histplot(hotel[hotel.Reviewer_Score==0].Average_Score,bins=30, alpha=0.5,color='blue')"
   ]
  },
  {
   "cell_type": "code",
   "execution_count": null,
   "id": "1f96219b-866d-44df-9e8d-4a29072920da",
   "metadata": {},
   "outputs": [],
   "source": [
    "sns.histplot(-hotel.Review_Total_Negative_Word_Counts, label='Total Negative Word Counts, Left', bins=50)\n",
    "sns.histplot(hotel.Review_Total_Positive_Word_Counts,label='Total Positive Word Counts, Right',bins=50)\n",
    "plt.yscale('log')\n",
    "plt.xlabel('Word count in review. Negative Reviews with negative values')\n",
    "plt.legend()\n",
    "plt.title('Mirror Distribution of Negative and Positive Word Counts')"
   ]
  },
  {
   "cell_type": "code",
   "execution_count": null,
   "id": "37724de2-35aa-40a0-826a-1a27214ec90d",
   "metadata": {},
   "outputs": [],
   "source": [
    "#Perhaps unnecessary but I thuoght it might be a good way to visualize any difference\n",
    "#Between the two. Except "
   ]
  },
  {
   "cell_type": "code",
   "execution_count": null,
   "id": "a9ff1901-970a-4774-aebb-a334808a092a",
   "metadata": {},
   "outputs": [],
   "source": [
    "#\n",
    "\n",
    "\n",
    "#hotel[hotel.Reviewer_Score==1].Average_Score.hist()\n",
    "#sns.histplot(hotel[hotel.Reviewer_Score==1].Average_Score.hist()"
   ]
  },
  {
   "cell_type": "code",
   "execution_count": null,
   "id": "2f215e64-88c7-4a1e-96eb-4279eeb345c1",
   "metadata": {},
   "outputs": [],
   "source": [
    "# Create a sample DataFrame\n",
    "\n",
    "\n",
    "# Create a figure with 1 row and 3 columns of subplots\n",
    "fig, axes = plt.subplots(nrows=3, ncols=1, figsize=(8,8))\n",
    "\n",
    "# Plot each column on a separate subplot\n",
    "ax1 = plt.subplot(1,1,1)\n",
    "sns.histplot(hotel.Review_Total_Negative_Word_Counts,ax=axes[0])\n",
    "\n",
    "plt.subplot(2,1,2)\n",
    "sns.histplot(hotel.Review_Total_Positive_Word_Counts,ax=axes[1])\n",
    "\n",
    "#plt.subplot(313)\n",
    "#sns.histplot(hotel.Total_Number_of_Reviews_Reviewer_Has_Given)#(ax=axes[2])\n",
    "\n",
    "plt.show()\n"
   ]
  },
  {
   "cell_type": "code",
   "execution_count": null,
   "id": "31df2b2c-2f81-4621-a8ef-dc8235b59224",
   "metadata": {},
   "outputs": [],
   "source": [
    "sns.lineplot(AverageReviews.groupby('monthYear')['Average_Score'].mean())\n",
    "plt.xticks(rotation=45)\n",
    "plt.title('Rolling Average Review Score by Month')\n",
    "plt.show()"
   ]
  },
  {
   "cell_type": "code",
   "execution_count": null,
   "id": "4d137aaf-8ce6-4e18-8218-e028f863556c",
   "metadata": {},
   "outputs": [],
   "source": [
    "#hotel.groupby(hotel.pd.dt.Month.str+hotel.month.dt.str['Average_Score'].count())"
   ]
  },
  {
   "cell_type": "code",
   "execution_count": null,
   "id": "f5e07f44-942d-4cab-9ce9-8ca1cedd72c9",
   "metadata": {},
   "outputs": [],
   "source": [
    "sns.histplot(hotel.Average_Score)"
   ]
  },
  {
   "cell_type": "code",
   "execution_count": null,
   "id": "9218d8f1-641e-4268-a92e-3688c804b557",
   "metadata": {},
   "outputs": [],
   "source": [
    "plt.hist(hotel.Average_Score)"
   ]
  },
  {
   "cell_type": "code",
   "execution_count": null,
   "id": "afacd792-3091-4b1e-bc36-98af3b7e2f02",
   "metadata": {},
   "outputs": [],
   "source": [
    "plt.figure(figsize=(8,8))\n",
    "sns.lineplot(x=AverageReviews.Review_Date,y=AverageReviews.Average_Score)\n",
    "plt.ylim(8.2,8.6)"
   ]
  },
  {
   "cell_type": "code",
   "execution_count": null,
   "id": "b9ea7f89-a528-4b33-8711-1fef381476c5",
   "metadata": {},
   "outputs": [],
   "source": [
    "AverageReviews.head(1)"
   ]
  },
  {
   "cell_type": "code",
   "execution_count": null,
   "id": "2f9fddfd-6b35-48b4-bbf1-2034c171cd68",
   "metadata": {},
   "outputs": [],
   "source": [
    "AverageReviews['smoothed_value'] = AverageReviews['Average_Score'].rolling(window=5).mean()\n",
    "AverageReviews.head(4)"
   ]
  },
  {
   "cell_type": "code",
   "execution_count": null,
   "id": "662e6760-5dd4-43c1-9e6f-3547f61e50f0",
   "metadata": {},
   "outputs": [],
   "source": [
    "AverageReviews.info()"
   ]
  },
  {
   "cell_type": "code",
   "execution_count": null,
   "id": "90298085-e415-44a0-be08-1ace2f097aac",
   "metadata": {},
   "outputs": [],
   "source": [
    "hotel.head(1)"
   ]
  },
  {
   "cell_type": "code",
   "execution_count": null,
   "id": "f264112e-580e-47a6-97eb-454ffd001131",
   "metadata": {},
   "outputs": [],
   "source": [
    "hotel.info()"
   ]
  },
  {
   "cell_type": "markdown",
   "id": "54e98aed-dae0-4b7a-9947-427bef8a1095",
   "metadata": {},
   "source": [
    "fig, ax = plt.subplots(nrows=2, ncol=1)\n",
    "plt.subplot(111)\n",
    "sns.lineplot(x=hotel.Nights_Stayed,y=hotel.Average_Score)\n",
    "\n",
    "plt.subplot(212)\n",
    "sns.histplot(hotel.Nights_Stayed)\n"
   ]
  },
  {
   "cell_type": "code",
   "execution_count": null,
   "id": "b5a26bfb-9165-4a70-ba89-b4072ce422d0",
   "metadata": {},
   "outputs": [],
   "source": [
    "sns.scatterplot(x=AverageReviews.Review_Date,y=AverageReviews.Average_Score)\n"
   ]
  },
  {
   "cell_type": "code",
   "execution_count": null,
   "id": "8bc3e721-eaed-4d09-a30a-722806489d49",
   "metadata": {},
   "outputs": [],
   "source": [
    "hotel.Review_Date.unique()"
   ]
  },
  {
   "cell_type": "code",
   "execution_count": null,
   "id": "cdd50f88-b9d0-45e2-ad6f-3707bc3adeb7",
   "metadata": {},
   "outputs": [],
   "source": [
    "#AverageReviews.to_frame().info()"
   ]
  },
  {
   "cell_type": "code",
   "execution_count": null,
   "id": "f9166fcc-1c51-4f7f-b429-4ef7a0ca5882",
   "metadata": {},
   "outputs": [],
   "source": [
    "#plt.plot(hotel.Review_Date.value(),hotel.groupby('Review_Date').Review_Date.count())"
   ]
  },
  {
   "cell_type": "code",
   "execution_count": null,
   "id": "e8222992-deec-45ca-853d-07e3dde76b1e",
   "metadata": {},
   "outputs": [],
   "source": [
    "#plt.scatter(hotel.Review_Date,hotel.groupby('Review_Date').Average_Score.mean())"
   ]
  },
  {
   "cell_type": "code",
   "execution_count": null,
   "id": "0b326340-ced4-4194-8f43-f05bbee44c9f",
   "metadata": {},
   "outputs": [],
   "source": [
    "#plt.plot(hotel.Review_Date,hotel[hotel.Reviewer_Score==1].count())"
   ]
  },
  {
   "cell_type": "code",
   "execution_count": null,
   "id": "1db767fd-8112-4f7e-80b7-25d83777a66b",
   "metadata": {},
   "outputs": [],
   "source": [
    "#sns.lineplot(x=hotel.Review_Date,y=hotel[hotel.Reviewer_Score==1].count())"
   ]
  },
  {
   "cell_type": "code",
   "execution_count": null,
   "id": "1d9dd303-e483-475c-8330-c64fe1bdadbb",
   "metadata": {},
   "outputs": [],
   "source": [
    "hotel.describe()"
   ]
  },
  {
   "cell_type": "code",
   "execution_count": null,
   "id": "0e1957db-e38b-46d4-8e14-ffab1fbdbd56",
   "metadata": {},
   "outputs": [],
   "source": [
    "hotel.Review_Total_Positive_Word_Counts"
   ]
  },
  {
   "cell_type": "code",
   "execution_count": null,
   "id": "69e2aa17-8aec-43c0-99a1-feee62f29c61",
   "metadata": {},
   "outputs": [],
   "source": [
    "# positive word count per negative review\n",
    "print('Number of Words in Negative Reviews: ',hotel.Review_Total_Negative_Word_Counts.sum()/(hotel[hotel.Reviewer_Score==0].Reviewer_Score.count()))\n",
    "print('Number of Words in Positive Reviews: ',hotel.Review_Total_Positive_Word_Counts.sum()/(hotel[hotel.Reviewer_Score==1].Reviewer_Score.count()))\n",
    "# negative word count per negative review"
   ]
  },
  {
   "cell_type": "code",
   "execution_count": null,
   "id": "85cceb56-ef30-4d32-ad68-fbbb5c50e99d",
   "metadata": {},
   "outputs": [],
   "source": [
    "(hotel[hotel.Reviewer_Score==1].Reviewer_Score.count())/(hotel[hotel.Reviewer_Score==0].Reviewer_Score.count())"
   ]
  },
  {
   "cell_type": "code",
   "execution_count": null,
   "id": "7123eb1e-804a-4c20-8041-c93bc7fbf6f9",
   "metadata": {},
   "outputs": [],
   "source": [
    "hotel.Review_Date"
   ]
  },
  {
   "cell_type": "code",
   "execution_count": null,
   "id": "d5a2450e-dfc6-4962-8a45-444f334e47e0",
   "metadata": {},
   "outputs": [],
   "source": [
    "hotel.shape"
   ]
  },
  {
   "cell_type": "code",
   "execution_count": null,
   "id": "6571dd6b-8ce1-413d-8a34-227ef26bcd6c",
   "metadata": {},
   "outputs": [],
   "source": [
    "print(hotel.Reviewer_Score.value_counts())\n",
    "plt.figure(figsize=(8,8))\n",
    "sns.histplot(hotel.Reviewer_Score, bins=2)\n",
    "plt.xticks(np.arange(0, 1.1, step=1))\n",
    "plt.suptitle('Negative vs Positive Reviews Overall')\n",
    "plt.title('0- Negative Review \\n 1- Positive Review')\n",
    "plt.show()"
   ]
  },
  {
   "cell_type": "markdown",
   "id": "82ceae45-9303-4846-a006-a80d61eca5ea",
   "metadata": {},
   "source": [
    "Pretty simple here - generally positive reviews."
   ]
  },
  {
   "cell_type": "code",
   "execution_count": null,
   "id": "3a9b7252-350a-4446-9ebf-f53593ae1f71",
   "metadata": {},
   "outputs": [],
   "source": [
    "plt.figure()\n",
    "hotel.Average_Score.hist()\n",
    "plt.title(\"Histogram of Average Score\")\n",
    "plt.ylabel('Count of Reviews')\n",
    "plt.xlabel('Average Score')"
   ]
  },
  {
   "cell_type": "code",
   "execution_count": null,
   "id": "f308c411-e6c6-4ccc-96dd-e5d84129d946",
   "metadata": {},
   "outputs": [],
   "source": [
    "hotel.head(3)"
   ]
  },
  {
   "cell_type": "code",
   "execution_count": null,
   "id": "69544505-f50b-482f-9a29-d0751dedc608",
   "metadata": {},
   "outputs": [],
   "source": [
    "plt.subplot(111)\n",
    "hotel.Additional_Number_of_Scoring.hist()"
   ]
  },
  {
   "cell_type": "code",
   "execution_count": null,
   "id": "d905b5c5-e349-4131-a72e-feb6cb5ecd84",
   "metadata": {},
   "outputs": [],
   "source": [
    "print(hotel.Review_Total_Negative_Word_Counts.mean())\n",
    "print(hotel.Review_Total_Negative_Word_Counts.sum())\n",
    "hotel.Review_Total_Negative_Word_Counts.hist()"
   ]
  },
  {
   "cell_type": "code",
   "execution_count": null,
   "id": "85d81e0b-f257-48f1-960b-308e76d4eaab",
   "metadata": {},
   "outputs": [],
   "source": [
    "print(hotel.Review_Total_Positive_Word_Counts.mean())\n",
    "print(hotel.Review_Total_Positive_Word_Counts.sum())\n",
    "hotel.Review_Total_Positive_Word_Counts.hist()"
   ]
  },
  {
   "cell_type": "code",
   "execution_count": null,
   "id": "8e95a2f8-130a-4097-b6b1-5762c9ba5c86",
   "metadata": {},
   "outputs": [],
   "source": [
    "hotel.describe()"
   ]
  },
  {
   "cell_type": "code",
   "execution_count": null,
   "id": "f19f6058-3de4-4a9d-a098-b56613a2bcd5",
   "metadata": {},
   "outputs": [],
   "source": [
    "min(hotel.Average_Score)\n",
    "max(hotel.Average_Score)"
   ]
  },
  {
   "cell_type": "code",
   "execution_count": null,
   "id": "0fe879f1-ea60-4d0b-8d6b-4912bb679cce",
   "metadata": {},
   "outputs": [],
   "source": [
    "hotel.shape"
   ]
  },
  {
   "cell_type": "markdown",
   "id": "a4b987f7-2a45-44b8-88d7-ea4ca6da1613",
   "metadata": {},
   "source": [
    "## Question 2: Text Pre-Processing <a class=\"anchor\" name=\"Part2\"></a>\n",
    "TT-Split Now <br>\n",
    "Check CountVectorizer doc. about tokenization procedures - what might it be skipping that's covered below?\n",
    "- lowercase must be specified\n",
    "- special characters and punctuation auto\n",
    "- split auto.\n",
    "- *****StopWords"
   ]
  },
  {
   "cell_type": "markdown",
   "id": "86bdfe6c-f5ac-4002-82c7-5b6808f5ce1c",
   "metadata": {},
   "source": [
    "<div class=\"alert alert-block alert-warning\">\n",
    "<b>QUESTION 2 TEXT:</b><p style=\"color:black;\"><b></b><br>\n",
    "Split the data into train and test sets and transform the positive and negative review columns using a CountVectorizer. Consider the following: <br>\n",
    "- What tokenizer and text cleaning steps do you include?<br>\n",
    "- Using the vectorizer, maximize the number of features at 500 and make sure that tokens used <10 times are dropped from the vocabulary.\n",
    "    \n",
    "<p style=\"color:red;\">This process may be done on the positive and negative review columns separately and then the resulting arrays merged with the original numeric features to form the final train and test data frames ready for modelling. In your column names, make sure you mark which words are coming from the positive vs negative reviews (you can use a prefix such as pos_ and neg_).\n",
    "</b></p></div>"
   ]
  },
  {
   "cell_type": "markdown",
   "id": "5aba0f71-ff8e-4804-9b1c-f10740a4efe7",
   "metadata": {},
   "source": [
    "##### Part 0: Insights, maybe useless. revisit after"
   ]
  },
  {
   "cell_type": "code",
   "execution_count": 320,
   "id": "d4f292f9-f33a-4820-a762-d151af1131dc",
   "metadata": {},
   "outputs": [
    {
     "name": "stdout",
     "output_type": "stream",
     "text": [
      "Number of Words in Negative Reviews:  43.127973126726985\n",
      "Number of Words in Positive Reviews:  31.184856067957032\n"
     ]
    }
   ],
   "source": [
    "print('Number of Words in Negative Reviews: ',hotel.Review_Total_Negative_Word_Counts.sum()/(hotel[hotel.Reviewer_Score==0].Reviewer_Score.count()))\n",
    "print('Number of Words in Positive Reviews: ',hotel.Review_Total_Positive_Word_Counts.sum()/(hotel[hotel.Reviewer_Score==1].Reviewer_Score.count()))"
   ]
  },
  {
   "cell_type": "code",
   "execution_count": 321,
   "id": "44d9276b-fdd3-46cb-9318-76357770c6fc",
   "metadata": {},
   "outputs": [
    {
     "data": {
      "text/plain": [
       "'No Negative'"
      ]
     },
     "execution_count": 321,
     "metadata": {},
     "output_type": "execute_result"
    }
   ],
   "source": [
    "hotel.Review_Total_Negative_Word_Counts.describe()\n",
    "hotel.iloc[1,3]"
   ]
  },
  {
   "cell_type": "code",
   "execution_count": 322,
   "id": "d7d9de66-8276-4e93-92ad-973f92068edf",
   "metadata": {},
   "outputs": [],
   "source": [
    "x=len(hotel.index)*.9\n",
    "x=round(x,0)\n",
    "#hotel.Review_Total_Negative_Word_Counts.iloc[hotel.Review_Total_Negative_Word_Counts.index.max*.9]"
   ]
  },
  {
   "cell_type": "code",
   "execution_count": 323,
   "id": "e7043660-e1b6-4b81-959c-923f96f16d83",
   "metadata": {},
   "outputs": [
    {
     "data": {
      "text/plain": [
       "463679"
      ]
     },
     "execution_count": 323,
     "metadata": {},
     "output_type": "execute_result"
    }
   ],
   "source": [
    "int(x)"
   ]
  },
  {
   "cell_type": "code",
   "execution_count": 324,
   "id": "658221e5-454b-470a-947b-16375e1a1a00",
   "metadata": {},
   "outputs": [
    {
     "data": {
      "text/plain": [
       "46"
      ]
     },
     "execution_count": 324,
     "metadata": {},
     "output_type": "execute_result"
    }
   ],
   "source": [
    "hotel.Review_Total_Negative_Word_Counts.sort_values(ascending=True).iloc[int(x)]"
   ]
  },
  {
   "cell_type": "markdown",
   "id": "c0cb2497-af31-458f-9a24-df8b82a5d57a",
   "metadata": {},
   "source": [
    "##### Histograms of Positive and Negative Word Counts"
   ]
  },
  {
   "cell_type": "code",
   "execution_count": 325,
   "id": "c8e776d9-3309-479d-a7ab-66724e54016a",
   "metadata": {},
   "outputs": [
    {
     "name": "stdout",
     "output_type": "stream",
     "text": [
      "count    515199.000000\n",
      "mean         18.540711\n",
      "std          29.693602\n",
      "min           0.000000\n",
      "25%           2.000000\n",
      "50%           9.000000\n",
      "75%          23.000000\n",
      "max         408.000000\n",
      "Name: Review_Total_Negative_Word_Counts, dtype: float64\n"
     ]
    },
    {
     "data": {
      "text/plain": [
       "<Axes: >"
      ]
     },
     "execution_count": 325,
     "metadata": {},
     "output_type": "execute_result"
    },
    {
     "data": {
      "image/png": "[encoded data removed]",
      "text/plain": [
       "<Figure size 640x480 with 1 Axes>"
      ]
     },
     "metadata": {},
     "output_type": "display_data"
    }
   ],
   "source": [
    "#  >90 % Positive Review word counts covered by values of 50 or less\n",
    "\n",
    "print(hotel.Review_Total_Negative_Word_Counts.describe())\n",
    "hotel[hotel.Review_Total_Negative_Word_Counts<50].Review_Total_Negative_Word_Counts.hist()"
   ]
  },
  {
   "cell_type": "code",
   "execution_count": 326,
   "id": "427b1070-ab00-44fa-b59a-b881c7eb9a10",
   "metadata": {},
   "outputs": [
    {
     "name": "stdout",
     "output_type": "stream",
     "text": [
      "count    515199.000000\n",
      "mean         17.778489\n",
      "std          21.804665\n",
      "min           0.000000\n",
      "25%           5.000000\n",
      "50%          11.000000\n",
      "75%          22.000000\n",
      "max         395.000000\n",
      "Name: Review_Total_Positive_Word_Counts, dtype: float64\n"
     ]
    },
    {
     "data": {
      "text/plain": [
       "<Axes: >"
      ]
     },
     "execution_count": 326,
     "metadata": {},
     "output_type": "execute_result"
    },
    {
     "data": {
      "image/png": "[encoded data removed]",
      "text/plain": [
       "<Figure size 640x480 with 1 Axes>"
      ]
     },
     "metadata": {},
     "output_type": "display_data"
    }
   ],
   "source": [
    "#  Over of 90 % Positive Review word counts covered by values of 50 or less\n",
    "print(hotel.Review_Total_Positive_Word_Counts.describe())\n",
    "hotel[hotel.Review_Total_Positive_Word_Counts<50].Review_Total_Positive_Word_Counts.hist()"
   ]
  },
  {
   "cell_type": "markdown",
   "id": "2b36d462-e0b8-42bc-a93d-8f258c07e525",
   "metadata": {
    "jp-MarkdownHeadingCollapsed": true
   },
   "source": [
    "##### Part 0: Gibberish Insight for later, if any reason"
   ]
  },
  {
   "cell_type": "code",
   "execution_count": 327,
   "id": "57539d90-5e85-47a0-b55b-f210ce0a39a0",
   "metadata": {},
   "outputs": [],
   "source": [
    "## Review of avaialble basic df for use\n",
    "# hotel - full set with dummies\n",
    "# hotel_pos - positive reviews with dummies\n",
    "# hotel_neg - negative reviews with dummies\n",
    "# hotel_nd - full no dummies\n",
    "# hotel_nd_nreviews - no dummies no reviews"
   ]
  },
  {
   "cell_type": "code",
   "execution_count": 328,
   "id": "aeaa22d3-1d22-4f6b-ad86-07c8ecb7295e",
   "metadata": {},
   "outputs": [],
   "source": [
    "import string\n",
    "import re"
   ]
  },
  {
   "cell_type": "code",
   "execution_count": 329,
   "id": "19fa1438-1041-4212-8286-a58f8a609aae",
   "metadata": {},
   "outputs": [
    {
     "data": {
      "text/plain": [
       "count    515199.000000\n",
       "mean         17.917824\n",
       "std          21.696735\n",
       "min           1.000000\n",
       "25%           5.000000\n",
       "50%          11.000000\n",
       "75%          22.000000\n",
       "max         395.000000\n",
       "Name: Positive_Review, dtype: float64"
      ]
     },
     "execution_count": 329,
     "metadata": {},
     "output_type": "execute_result"
    }
   ],
   "source": [
    "hotel.Positive_Review.str.split(pat=' ').apply(len).describe()"
   ]
  },
  {
   "cell_type": "code",
   "execution_count": 330,
   "id": "c3a867f1-e7ca-4bb7-ab3c-22b0c1a723ec",
   "metadata": {},
   "outputs": [
    {
     "data": {
      "text/plain": [
       "count    515199.000000\n",
       "mean         17.778489\n",
       "std          21.804665\n",
       "min           0.000000\n",
       "25%           5.000000\n",
       "50%          11.000000\n",
       "75%          22.000000\n",
       "max         395.000000\n",
       "Name: Review_Total_Positive_Word_Counts, dtype: float64"
      ]
     },
     "execution_count": 330,
     "metadata": {},
     "output_type": "execute_result"
    }
   ],
   "source": [
    "hotel.Review_Total_Positive_Word_Counts.describe()"
   ]
  },
  {
   "cell_type": "code",
   "execution_count": 331,
   "id": "0ffd4706-14bb-4eb3-aefb-41346397240e",
   "metadata": {},
   "outputs": [
    {
     "data": {
      "text/plain": [
       "count    515199.000000\n",
       "mean         19.036640\n",
       "std          29.395001\n",
       "min           1.000000\n",
       "25%           2.000000\n",
       "50%           9.000000\n",
       "75%          23.000000\n",
       "max         408.000000\n",
       "Name: Negative_Review, dtype: float64"
      ]
     },
     "execution_count": 331,
     "metadata": {},
     "output_type": "execute_result"
    }
   ],
   "source": [
    "hotel.Negative_Review.str.split(pat=' ').apply(len).describe()"
   ]
  },
  {
   "cell_type": "code",
   "execution_count": 332,
   "id": "49b247a1-2165-4492-8958-606cba115ed4",
   "metadata": {},
   "outputs": [
    {
     "data": {
      "text/plain": [
       "count    515199.000000\n",
       "mean         18.540711\n",
       "std          29.693602\n",
       "min           0.000000\n",
       "25%           2.000000\n",
       "50%           9.000000\n",
       "75%          23.000000\n",
       "max         408.000000\n",
       "Name: Review_Total_Negative_Word_Counts, dtype: float64"
      ]
     },
     "execution_count": 332,
     "metadata": {},
     "output_type": "execute_result"
    }
   ],
   "source": [
    "hotel.Review_Total_Negative_Word_Counts.describe()"
   ]
  },
  {
   "cell_type": "code",
   "execution_count": 333,
   "id": "649e40c0-dde0-4816-8df4-e4cfa8f18bd7",
   "metadata": {},
   "outputs": [],
   "source": [
    "### Values seem to match up for the most part. Off by a fraction of a word here or there."
   ]
  },
  {
   "cell_type": "code",
   "execution_count": 334,
   "id": "36b0260b-1712-41b5-ba80-1107f3ba5fa9",
   "metadata": {},
   "outputs": [],
   "source": [
    "hotel_pos=hotel[hotel.Reviewer_Score==1]\n",
    "hotel_neg=hotel[hotel.Reviewer_Score==0]"
   ]
  },
  {
   "cell_type": "code",
   "execution_count": 335,
   "id": "8d4faca0-c6d7-445c-a51f-0e75ae5a6f4f",
   "metadata": {},
   "outputs": [],
   "source": [
    "# Taking a subsample of 20% to test\n",
    "hotel_sub=hotel.sample(frac=0.2)"
   ]
  },
  {
   "cell_type": "markdown",
   "id": "8f2fc452-48e1-4ea9-ae98-d58633464ccb",
   "metadata": {},
   "source": [
    "##### Part 0b, roll it up there~ish: Fx, cleaning proc., review"
   ]
  },
  {
   "cell_type": "code",
   "execution_count": 336,
   "id": "296f71fd-1e34-4e44-b222-ad3ea57c8167",
   "metadata": {},
   "outputs": [],
   "source": [
    "\n",
    "import re\n",
    "\n",
    "def custom_tokenizer(text):\n",
    "    \"\"\"\n",
    "    Custom tokenizer function.\n",
    "    \"\"\"\n",
    "    # lower text\n",
    "    text = text.lower()\n",
    "\n",
    "    # remove special characters using regex substitution by the empty string\n",
    "    text = re.sub(f\"[{forbidden_char}]\", \"\", text)\n",
    "\n",
    "    # then split into words as tokens\n",
    "    tokens = text.split()\n",
    "\n",
    "    # stopwords\n",
    "    tokens = [tok for tok in tokens if tok not in ENGLISH_STOP_WORDS]\n",
    "\n",
    "    return tokens"
   ]
  },
  {
   "cell_type": "markdown",
   "id": "b10200d5-7f0b-4099-8bc8-16a2af820dc3",
   "metadata": {},
   "source": [
    "**Custom Tokenizer VS CountVectorizer for _cleaning_.\n",
    "It's seen later that CountVectorizer doesn't do things perfectly - there are still errors.\n",
    "<br>\n",
    "Steps covered by Vectorizer:\n",
    "    - lower case standardization\n",
    "    - special characters\n",
    "    \n",
    "There are a couple extra steps that can be stated - though it might grow:\n",
    "    - ngrams OR nullifying\n",
    "    - stop words\n",
    "    -"
   ]
  },
  {
   "cell_type": "code",
   "execution_count": 337,
   "id": "b33f2a29-8ca4-47bb-83d9-f1cb11aa3a5f",
   "metadata": {},
   "outputs": [],
   "source": [
    "#hotel_pos.Positive_Review.apply(customer_tokenizer)"
   ]
  },
  {
   "cell_type": "code",
   "execution_count": 338,
   "id": "e1f3873e-050a-41ff-b86c-1cb49feba2ea",
   "metadata": {},
   "outputs": [],
   "source": [
    "#hotel_pos.Positive_Review.str.apply(custom_tokenizer)"
   ]
  },
  {
   "cell_type": "code",
   "execution_count": 339,
   "id": "65c4d1b6-9ed1-4299-bbfd-a51b42f277f6",
   "metadata": {},
   "outputs": [],
   "source": [
    "#Special characters are handled by Vectorizer, not needed here in custom tokenizer\n",
    "#re.sub(f\"[{forbidden_char}]\",'','testing2323.')"
   ]
  },
  {
   "cell_type": "code",
   "execution_count": 340,
   "id": "5106dc2b-dec9-4222-af93-cf1d82e8395e",
   "metadata": {},
   "outputs": [
    {
     "data": {
      "image/png": "[encoded data removed]",
      "text/plain": [
       "<Figure size 640x480 with 1 Axes>"
      ]
     },
     "metadata": {},
     "output_type": "display_data"
    }
   ],
   "source": [
    "# Class Imbalance\n",
    "hotel.groupby('Reviewer_Score').Reviewer_Score.count().plot(kind='bar')\n",
    "plt.ylabel('Review Count')\n",
    "plt.title('Unbalanced Review Counts')\n",
    "plt.show()"
   ]
  },
  {
   "cell_type": "code",
   "execution_count": 341,
   "id": "1a119c43-548f-4f2b-b8c4-8aa15aa9349f",
   "metadata": {},
   "outputs": [
    {
     "name": "stdout",
     "output_type": "stream",
     "text": [
      "Positive Review:  293715\n",
      "Negative Review:  221484\n",
      "%Difference:  32.61 %\n"
     ]
    }
   ],
   "source": [
    "print('Positive Review: ',(hotel[hotel.Reviewer_Score==1].Reviewer_Score.count()))\n",
    "print('Negative Review: ',(hotel[hotel.Reviewer_Score==0].Reviewer_Score.count()))\n",
    "print('%Difference: ',round(((hotel[hotel.Reviewer_Score==1].Reviewer_Score.count())/(hotel[hotel.Reviewer_Score==0].Reviewer_Score.count())-1)*100,2),'%')"
   ]
  },
  {
   "cell_type": "code",
   "execution_count": 342,
   "id": "b626859e-782f-405b-bae0-12b3bbca9aa3",
   "metadata": {},
   "outputs": [],
   "source": [
    "# Evaluating relative to the custom tokenizer already made in class -"
   ]
  },
  {
   "cell_type": "code",
   "execution_count": 343,
   "id": "393c3bf6-4a6e-4714-827a-ec972dbabb67",
   "metadata": {},
   "outputs": [],
   "source": [
    "## The only step I can think of here is to address the \"No Positive\" or \"No Negative\"\n",
    "## Review values because those will have quite a few"
   ]
  },
  {
   "cell_type": "markdown",
   "id": "1b2a4e91-7188-4348-aaaa-7b62dd0d941a",
   "metadata": {},
   "source": [
    "### Part 1: TT Split"
   ]
  },
  {
   "cell_type": "code",
   "execution_count": 344,
   "id": "b0d7ba6e-8acc-449c-b925-fc3e61dd0221",
   "metadata": {},
   "outputs": [],
   "source": [
    "y=hotel.Reviewer_Score.astype(dtype='string')"
   ]
  },
  {
   "cell_type": "code",
   "execution_count": 345,
   "id": "1b11e7fb-4083-4cff-af40-bce141c484d0",
   "metadata": {},
   "outputs": [],
   "source": [
    "# Assign target and X\n",
    "X=hotel\n",
    "y=hotel.Reviewer_Score\n",
    "\n",
    "## Train - Test Split. Test size = 20%. \n",
    "X_train, X_test, y_train, y_test = train_test_split(X, y, test_size=0.2, random_state=42)"
   ]
  },
  {
   "cell_type": "code",
   "execution_count": 346,
   "id": "c6334af3-0d04-42ba-ad8f-179f8b83c7ac",
   "metadata": {},
   "outputs": [],
   "source": [
    "X_train_pos=X_train.Positive_Review\n",
    "X_test_pos=X_test.Positive_Review"
   ]
  },
  {
   "cell_type": "code",
   "execution_count": 347,
   "id": "ca562194-e464-48c3-819d-111e7a6b7757",
   "metadata": {},
   "outputs": [],
   "source": [
    "X_train_neg=X_train.Negative_Review\n",
    "X_test_neg=X_test.Negative_Review"
   ]
  },
  {
   "cell_type": "code",
   "execution_count": 348,
   "id": "7a3dce00-f286-4d5f-a842-4af277e5d93e",
   "metadata": {},
   "outputs": [
    {
     "name": "stdout",
     "output_type": "stream",
     "text": [
      "(515199, 30)\n",
      "(515199, 30)\n",
      "(515199,)\n"
     ]
    }
   ],
   "source": [
    "# Sanity Check\n",
    "print(hotel.shape)\n",
    "print(X.shape)\n",
    "print(y.shape)"
   ]
  },
  {
   "cell_type": "code",
   "execution_count": 349,
   "id": "16778b6c-7e03-4092-aa56-ff1159d0f07f",
   "metadata": {},
   "outputs": [
    {
     "name": "stdout",
     "output_type": "stream",
     "text": [
      "train_pos: (412159,)\n",
      "test_pos: (103040,)\n",
      "train_neg: (412159,)\n",
      "test_neg: (103040,)\n"
     ]
    }
   ],
   "source": [
    "print('train_pos:',X_train_pos.shape)\n",
    "print('test_pos:',X_test_pos.shape)\n",
    "print('train_neg:',X_train_neg.shape)\n",
    "print('test_neg:',X_test_neg.shape)"
   ]
  },
  {
   "cell_type": "code",
   "execution_count": 350,
   "id": "4d802a53-14c4-4973-adfb-bd465c03d1eb",
   "metadata": {},
   "outputs": [
    {
     "data": {
      "text/plain": [
       "451308     The feel good atmosphere specially in the lob...\n",
       "499431                       comfortable bed good breakfast\n",
       "469987                               Location is excellent \n",
       "98529      Excellent service from the staff and I always...\n",
       "372343     Modern look and good design of hotel building...\n",
       "                                ...                        \n",
       "259652                                   Location and staff\n",
       "366367                          The room was very charming \n",
       "131967                                         the location\n",
       "146902              Offers everything a 5 star hotel offers\n",
       "121993     Friendly staff Jessica was a great help with ...\n",
       "Name: Positive_Review, Length: 412159, dtype: object"
      ]
     },
     "execution_count": 350,
     "metadata": {},
     "output_type": "execute_result"
    }
   ],
   "source": [
    "X_train_pos"
   ]
  },
  {
   "cell_type": "code",
   "execution_count": 351,
   "id": "2cd02717-3267-4e48-9f8d-b97ce750b08d",
   "metadata": {},
   "outputs": [
    {
     "data": {
      "text/plain": [
       "451308                                          No Negative\n",
       "499431                    would like resaurant in the hotel\n",
       "469987     But overall run down hotel with poor faciliti...\n",
       "98529          Nothing it s always a pleasure to stay here \n",
       "372343     Immediate neighborhood lacking of appeal and ...\n",
       "                                ...                        \n",
       "259652     rooms view furniture not enough and area very...\n",
       "366367             The staff were not friendly and helpful \n",
       "131967        The shower was blocked and room was very damp\n",
       "146902                              Small rooms and hot a c\n",
       "121993                                          No Negative\n",
       "Name: Negative_Review, Length: 412159, dtype: object"
      ]
     },
     "execution_count": 351,
     "metadata": {},
     "output_type": "execute_result"
    }
   ],
   "source": [
    "X_train_neg"
   ]
  },
  {
   "cell_type": "markdown",
   "id": "5935c514-99d7-4cd2-a402-df1547d2b535",
   "metadata": {},
   "source": [
    "<div class=\"alert alert-block alert-info\"><p style=\"color: red;\">\n",
    "<b>Review:</b> Review how zero or null reviews are represented - do they need to be accounted for?\n",
    "    What words are covered in the STOP words? Define vocab? Refine later.\n",
    "</p></div>"
   ]
  },
  {
   "cell_type": "markdown",
   "id": "454600c1-c3d8-4042-91f1-66829f344a34",
   "metadata": {},
   "source": [
    "### Part 2: Preprocessing, Text Cleaning, Tokenizer/Vectori"
   ]
  },
  {
   "cell_type": "code",
   "execution_count": 352,
   "id": "0c4650af-0c89-4bed-9860-8657580793d5",
   "metadata": {},
   "outputs": [],
   "source": [
    "#hotel_sub.Positive_Review"
   ]
  },
  {
   "cell_type": "markdown",
   "id": "f7460097-350f-4462-ba3c-0a6ae3c29ac0",
   "metadata": {},
   "source": [
    "This is the basic process at least. Ask questions of Stephen as best as you can articulate:\n",
    "<br>need to ask a few questions beforehand to make sure I'm ready to be more specific\n",
    "\n",
    "- Cleaning via Vectorizer vs Customer\n",
    "- Need to make sure cleaning process is addressed appropriately - i.e. 'No Positive' or n/A!\n",
    "\n",
    "\n"
   ]
  },
  {
   "cell_type": "code",
   "execution_count": 353,
   "id": "b0cd552a-441d-4f4f-8720-9fe52f52dd32",
   "metadata": {},
   "outputs": [],
   "source": [
    "X_train, X_test, y_train, y_test = train_test_split(\n",
    "    hotel[['Positive_Review','Negative_Review']],\n",
    "    hotel['Reviewer_Score'], \n",
    "    test_size=0.2, random_state=42)"
   ]
  },
  {
   "cell_type": "markdown",
   "id": "5433054a-3861-4f36-8eda-c216e0414ff4",
   "metadata": {},
   "source": [
    "#### small_reviews=pd.DataFrame({'pos_y_test':y_test})"
   ]
  },
  {
   "cell_type": "code",
   "execution_count": 354,
   "id": "393a9515-eae1-46d5-bf63-44ccdea71d3d",
   "metadata": {},
   "outputs": [
    {
     "data": {
      "text/html": [
       "<div>\n",
       "<style scoped>\n",
       "    .dataframe tbody tr th:only-of-type {\n",
       "        vertical-align: middle;\n",
       "    }\n",
       "\n",
       "    .dataframe tbody tr th {\n",
       "        vertical-align: top;\n",
       "    }\n",
       "\n",
       "    .dataframe thead th {\n",
       "        text-align: right;\n",
       "    }\n",
       "</style>\n",
       "<table border=\"1\" class=\"dataframe\">\n",
       "  <thead>\n",
       "    <tr style=\"text-align: right;\">\n",
       "      <th></th>\n",
       "      <th>Positive_Review</th>\n",
       "      <th>Negative_Review</th>\n",
       "    </tr>\n",
       "  </thead>\n",
       "  <tbody>\n",
       "    <tr>\n",
       "      <th>451308</th>\n",
       "      <td>The feel good atmosphere specially in the lob...</td>\n",
       "      <td>No Negative</td>\n",
       "    </tr>\n",
       "    <tr>\n",
       "      <th>499431</th>\n",
       "      <td>comfortable bed good breakfast</td>\n",
       "      <td>would like resaurant in the hotel</td>\n",
       "    </tr>\n",
       "    <tr>\n",
       "      <th>469987</th>\n",
       "      <td>Location is excellent</td>\n",
       "      <td>But overall run down hotel with poor faciliti...</td>\n",
       "    </tr>\n",
       "    <tr>\n",
       "      <th>98529</th>\n",
       "      <td>Excellent service from the staff and I always...</td>\n",
       "      <td>Nothing it s always a pleasure to stay here</td>\n",
       "    </tr>\n",
       "    <tr>\n",
       "      <th>372343</th>\n",
       "      <td>Modern look and good design of hotel building...</td>\n",
       "      <td>Immediate neighborhood lacking of appeal and ...</td>\n",
       "    </tr>\n",
       "    <tr>\n",
       "      <th>...</th>\n",
       "      <td>...</td>\n",
       "      <td>...</td>\n",
       "    </tr>\n",
       "    <tr>\n",
       "      <th>259652</th>\n",
       "      <td>Location and staff</td>\n",
       "      <td>rooms view furniture not enough and area very...</td>\n",
       "    </tr>\n",
       "    <tr>\n",
       "      <th>366367</th>\n",
       "      <td>The room was very charming</td>\n",
       "      <td>The staff were not friendly and helpful</td>\n",
       "    </tr>\n",
       "    <tr>\n",
       "      <th>131967</th>\n",
       "      <td>the location</td>\n",
       "      <td>The shower was blocked and room was very damp</td>\n",
       "    </tr>\n",
       "    <tr>\n",
       "      <th>146902</th>\n",
       "      <td>Offers everything a 5 star hotel offers</td>\n",
       "      <td>Small rooms and hot a c</td>\n",
       "    </tr>\n",
       "    <tr>\n",
       "      <th>121993</th>\n",
       "      <td>Friendly staff Jessica was a great help with ...</td>\n",
       "      <td>No Negative</td>\n",
       "    </tr>\n",
       "  </tbody>\n",
       "</table>\n",
       "<p>412159 rows × 2 columns</p>\n",
       "</div>"
      ],
      "text/plain": [
       "                                          Positive_Review  \\\n",
       "451308   The feel good atmosphere specially in the lob...   \n",
       "499431                     comfortable bed good breakfast   \n",
       "469987                             Location is excellent    \n",
       "98529    Excellent service from the staff and I always...   \n",
       "372343   Modern look and good design of hotel building...   \n",
       "...                                                   ...   \n",
       "259652                                 Location and staff   \n",
       "366367                        The room was very charming    \n",
       "131967                                       the location   \n",
       "146902            Offers everything a 5 star hotel offers   \n",
       "121993   Friendly staff Jessica was a great help with ...   \n",
       "\n",
       "                                          Negative_Review  \n",
       "451308                                        No Negative  \n",
       "499431                  would like resaurant in the hotel  \n",
       "469987   But overall run down hotel with poor faciliti...  \n",
       "98529        Nothing it s always a pleasure to stay here   \n",
       "372343   Immediate neighborhood lacking of appeal and ...  \n",
       "...                                                   ...  \n",
       "259652   rooms view furniture not enough and area very...  \n",
       "366367           The staff were not friendly and helpful   \n",
       "131967      The shower was blocked and room was very damp  \n",
       "146902                            Small rooms and hot a c  \n",
       "121993                                        No Negative  \n",
       "\n",
       "[412159 rows x 2 columns]"
      ]
     },
     "execution_count": 354,
     "metadata": {},
     "output_type": "execute_result"
    }
   ],
   "source": [
    "X_train"
   ]
  },
  {
   "cell_type": "code",
   "execution_count": 355,
   "id": "3ee02a1f-5bc0-4221-b85b-88463729239f",
   "metadata": {},
   "outputs": [
    {
     "data": {
      "text/html": [
       "<div>\n",
       "<style scoped>\n",
       "    .dataframe tbody tr th:only-of-type {\n",
       "        vertical-align: middle;\n",
       "    }\n",
       "\n",
       "    .dataframe tbody tr th {\n",
       "        vertical-align: top;\n",
       "    }\n",
       "\n",
       "    .dataframe thead th {\n",
       "        text-align: right;\n",
       "    }\n",
       "</style>\n",
       "<table border=\"1\" class=\"dataframe\">\n",
       "  <thead>\n",
       "    <tr style=\"text-align: right;\">\n",
       "      <th></th>\n",
       "      <th>Positive_Review</th>\n",
       "      <th>Negative_Review</th>\n",
       "    </tr>\n",
       "  </thead>\n",
       "  <tbody>\n",
       "    <tr>\n",
       "      <th>481401</th>\n",
       "      <td>Perfect location for all needs Walking distan...</td>\n",
       "      <td>No coment everything perfect</td>\n",
       "    </tr>\n",
       "    <tr>\n",
       "      <th>423926</th>\n",
       "      <td>No Positive</td>\n",
       "      <td>It s not a 4 star hotel more like a 3 star</td>\n",
       "    </tr>\n",
       "    <tr>\n",
       "      <th>154881</th>\n",
       "      <td>The room was good and spacious cleaned everyd...</td>\n",
       "      <td>location of hotel distant from nearest metro ...</td>\n",
       "    </tr>\n",
       "    <tr>\n",
       "      <th>279350</th>\n",
       "      <td>Comfortable stay all the facilities you could...</td>\n",
       "      <td>No Negative</td>\n",
       "    </tr>\n",
       "    <tr>\n",
       "      <th>288003</th>\n",
       "      <td>Amazing location Lovely room</td>\n",
       "      <td>Drilling in the next room was so loud Despite...</td>\n",
       "    </tr>\n",
       "    <tr>\n",
       "      <th>...</th>\n",
       "      <td>...</td>\n",
       "      <td>...</td>\n",
       "    </tr>\n",
       "    <tr>\n",
       "      <th>509741</th>\n",
       "      <td>The staff were amazing and couldn t do enough...</td>\n",
       "      <td>No faults to report We enjoyed our stay immen...</td>\n",
       "    </tr>\n",
       "    <tr>\n",
       "      <th>167706</th>\n",
       "      <td>friendly reception great location Room itself...</td>\n",
       "      <td>horrid pillows and bed very hard Room cold</td>\n",
       "    </tr>\n",
       "    <tr>\n",
       "      <th>503215</th>\n",
       "      <td>I loved the actual hotel the room was lovely ...</td>\n",
       "      <td>The main receptionist was very rude at check ...</td>\n",
       "    </tr>\n",
       "    <tr>\n",
       "      <th>313142</th>\n",
       "      <td>I stayed for a week and i didn t feel like i ...</td>\n",
       "      <td>My room was noisy it was close to the street ...</td>\n",
       "    </tr>\n",
       "    <tr>\n",
       "      <th>235839</th>\n",
       "      <td>The fresh water machines on each floor Able t...</td>\n",
       "      <td>Nothing</td>\n",
       "    </tr>\n",
       "  </tbody>\n",
       "</table>\n",
       "<p>103040 rows × 2 columns</p>\n",
       "</div>"
      ],
      "text/plain": [
       "                                          Positive_Review  \\\n",
       "481401   Perfect location for all needs Walking distan...   \n",
       "423926                                        No Positive   \n",
       "154881   The room was good and spacious cleaned everyd...   \n",
       "279350   Comfortable stay all the facilities you could...   \n",
       "288003                       Amazing location Lovely room   \n",
       "...                                                   ...   \n",
       "509741   The staff were amazing and couldn t do enough...   \n",
       "167706   friendly reception great location Room itself...   \n",
       "503215   I loved the actual hotel the room was lovely ...   \n",
       "313142   I stayed for a week and i didn t feel like i ...   \n",
       "235839   The fresh water machines on each floor Able t...   \n",
       "\n",
       "                                          Negative_Review  \n",
       "481401                       No coment everything perfect  \n",
       "423926        It s not a 4 star hotel more like a 3 star   \n",
       "154881   location of hotel distant from nearest metro ...  \n",
       "279350                                        No Negative  \n",
       "288003   Drilling in the next room was so loud Despite...  \n",
       "...                                                   ...  \n",
       "509741   No faults to report We enjoyed our stay immen...  \n",
       "167706        horrid pillows and bed very hard Room cold   \n",
       "503215   The main receptionist was very rude at check ...  \n",
       "313142   My room was noisy it was close to the street ...  \n",
       "235839                                            Nothing  \n",
       "\n",
       "[103040 rows x 2 columns]"
      ]
     },
     "execution_count": 355,
     "metadata": {},
     "output_type": "execute_result"
    }
   ],
   "source": [
    "X_test"
   ]
  },
  {
   "cell_type": "code",
   "execution_count": 356,
   "id": "eb726694-5270-4195-80f5-967c9a3b87cc",
   "metadata": {},
   "outputs": [
    {
     "data": {
      "text/html": [
       "<div>\n",
       "<style scoped>\n",
       "    .dataframe tbody tr th:only-of-type {\n",
       "        vertical-align: middle;\n",
       "    }\n",
       "\n",
       "    .dataframe tbody tr th {\n",
       "        vertical-align: top;\n",
       "    }\n",
       "\n",
       "    .dataframe thead th {\n",
       "        text-align: right;\n",
       "    }\n",
       "</style>\n",
       "<table border=\"1\" class=\"dataframe\">\n",
       "  <thead>\n",
       "    <tr style=\"text-align: right;\">\n",
       "      <th></th>\n",
       "      <th>Positive_Review</th>\n",
       "      <th>Negative_Review</th>\n",
       "    </tr>\n",
       "  </thead>\n",
       "  <tbody>\n",
       "    <tr>\n",
       "      <th>481401</th>\n",
       "      <td>Perfect location for all needs Walking distan...</td>\n",
       "      <td>No coment everything perfect</td>\n",
       "    </tr>\n",
       "    <tr>\n",
       "      <th>423926</th>\n",
       "      <td>No Positive</td>\n",
       "      <td>It s not a 4 star hotel more like a 3 star</td>\n",
       "    </tr>\n",
       "    <tr>\n",
       "      <th>154881</th>\n",
       "      <td>The room was good and spacious cleaned everyd...</td>\n",
       "      <td>location of hotel distant from nearest metro ...</td>\n",
       "    </tr>\n",
       "    <tr>\n",
       "      <th>279350</th>\n",
       "      <td>Comfortable stay all the facilities you could...</td>\n",
       "      <td>No Negative</td>\n",
       "    </tr>\n",
       "    <tr>\n",
       "      <th>288003</th>\n",
       "      <td>Amazing location Lovely room</td>\n",
       "      <td>Drilling in the next room was so loud Despite...</td>\n",
       "    </tr>\n",
       "    <tr>\n",
       "      <th>...</th>\n",
       "      <td>...</td>\n",
       "      <td>...</td>\n",
       "    </tr>\n",
       "    <tr>\n",
       "      <th>509741</th>\n",
       "      <td>The staff were amazing and couldn t do enough...</td>\n",
       "      <td>No faults to report We enjoyed our stay immen...</td>\n",
       "    </tr>\n",
       "    <tr>\n",
       "      <th>167706</th>\n",
       "      <td>friendly reception great location Room itself...</td>\n",
       "      <td>horrid pillows and bed very hard Room cold</td>\n",
       "    </tr>\n",
       "    <tr>\n",
       "      <th>503215</th>\n",
       "      <td>I loved the actual hotel the room was lovely ...</td>\n",
       "      <td>The main receptionist was very rude at check ...</td>\n",
       "    </tr>\n",
       "    <tr>\n",
       "      <th>313142</th>\n",
       "      <td>I stayed for a week and i didn t feel like i ...</td>\n",
       "      <td>My room was noisy it was close to the street ...</td>\n",
       "    </tr>\n",
       "    <tr>\n",
       "      <th>235839</th>\n",
       "      <td>The fresh water machines on each floor Able t...</td>\n",
       "      <td>Nothing</td>\n",
       "    </tr>\n",
       "  </tbody>\n",
       "</table>\n",
       "<p>103040 rows × 2 columns</p>\n",
       "</div>"
      ],
      "text/plain": [
       "                                          Positive_Review  \\\n",
       "481401   Perfect location for all needs Walking distan...   \n",
       "423926                                        No Positive   \n",
       "154881   The room was good and spacious cleaned everyd...   \n",
       "279350   Comfortable stay all the facilities you could...   \n",
       "288003                       Amazing location Lovely room   \n",
       "...                                                   ...   \n",
       "509741   The staff were amazing and couldn t do enough...   \n",
       "167706   friendly reception great location Room itself...   \n",
       "503215   I loved the actual hotel the room was lovely ...   \n",
       "313142   I stayed for a week and i didn t feel like i ...   \n",
       "235839   The fresh water machines on each floor Able t...   \n",
       "\n",
       "                                          Negative_Review  \n",
       "481401                       No coment everything perfect  \n",
       "423926        It s not a 4 star hotel more like a 3 star   \n",
       "154881   location of hotel distant from nearest metro ...  \n",
       "279350                                        No Negative  \n",
       "288003   Drilling in the next room was so loud Despite...  \n",
       "...                                                   ...  \n",
       "509741   No faults to report We enjoyed our stay immen...  \n",
       "167706        horrid pillows and bed very hard Room cold   \n",
       "503215   The main receptionist was very rude at check ...  \n",
       "313142   My room was noisy it was close to the street ...  \n",
       "235839                                            Nothing  \n",
       "\n",
       "[103040 rows x 2 columns]"
      ]
     },
     "execution_count": 356,
     "metadata": {},
     "output_type": "execute_result"
    }
   ],
   "source": [
    "X_test"
   ]
  },
  {
   "cell_type": "code",
   "execution_count": 357,
   "id": "027615fe-e871-421a-8cc7-5d43ea936fcf",
   "metadata": {},
   "outputs": [
    {
     "data": {
      "text/html": [
       "<div>\n",
       "<style scoped>\n",
       "    .dataframe tbody tr th:only-of-type {\n",
       "        vertical-align: middle;\n",
       "    }\n",
       "\n",
       "    .dataframe tbody tr th {\n",
       "        vertical-align: top;\n",
       "    }\n",
       "\n",
       "    .dataframe thead th {\n",
       "        text-align: right;\n",
       "    }\n",
       "</style>\n",
       "<table border=\"1\" class=\"dataframe\">\n",
       "  <thead>\n",
       "    <tr style=\"text-align: right;\">\n",
       "      <th></th>\n",
       "      <th>Reviewer_Score</th>\n",
       "      <th>Nights_Stayed</th>\n",
       "      <th>Positive_Review</th>\n",
       "      <th>Negative_Review</th>\n",
       "      <th>Additional_Number_of_Scoring</th>\n",
       "      <th>Average_Score</th>\n",
       "      <th>Leisure_Trip</th>\n",
       "      <th>Days_Since_Review</th>\n",
       "      <th>Total_Number_of_Reviews</th>\n",
       "      <th>Total_Number_of_Reviews_Reviewer_Has_Given</th>\n",
       "      <th>...</th>\n",
       "      <th>Reviewer_Nationality_UK</th>\n",
       "      <th>Reviewer_Nationality_USA</th>\n",
       "      <th>Reviewer_Nationality_Other</th>\n",
       "      <th>Hotel_Address_Amsterdam</th>\n",
       "      <th>Hotel_Address_Barcelona</th>\n",
       "      <th>Hotel_Address_London</th>\n",
       "      <th>Hotel_Address_Milan</th>\n",
       "      <th>Hotel_Address_Paris</th>\n",
       "      <th>Hotel_Address_Vienna</th>\n",
       "      <th>Review_Date</th>\n",
       "    </tr>\n",
       "  </thead>\n",
       "  <tbody>\n",
       "    <tr>\n",
       "      <th>333</th>\n",
       "      <td>1</td>\n",
       "      <td>3</td>\n",
       "      <td>No Positive</td>\n",
       "      <td>Restaurant was expensive</td>\n",
       "      <td>194</td>\n",
       "      <td>7.7</td>\n",
       "      <td>1</td>\n",
       "      <td>494</td>\n",
       "      <td>1403</td>\n",
       "      <td>6</td>\n",
       "      <td>...</td>\n",
       "      <td>1</td>\n",
       "      <td>0</td>\n",
       "      <td>0</td>\n",
       "      <td>1</td>\n",
       "      <td>0</td>\n",
       "      <td>0</td>\n",
       "      <td>0</td>\n",
       "      <td>0</td>\n",
       "      <td>0</td>\n",
       "      <td>2016-03-27</td>\n",
       "    </tr>\n",
       "    <tr>\n",
       "      <th>496</th>\n",
       "      <td>1</td>\n",
       "      <td>2</td>\n",
       "      <td>No Positive</td>\n",
       "      <td>there where waterpipes near the room it sound...</td>\n",
       "      <td>244</td>\n",
       "      <td>8.5</td>\n",
       "      <td>1</td>\n",
       "      <td>286</td>\n",
       "      <td>1831</td>\n",
       "      <td>8</td>\n",
       "      <td>...</td>\n",
       "      <td>0</td>\n",
       "      <td>0</td>\n",
       "      <td>1</td>\n",
       "      <td>0</td>\n",
       "      <td>0</td>\n",
       "      <td>1</td>\n",
       "      <td>0</td>\n",
       "      <td>0</td>\n",
       "      <td>0</td>\n",
       "      <td>2016-10-21</td>\n",
       "    </tr>\n",
       "    <tr>\n",
       "      <th>753</th>\n",
       "      <td>1</td>\n",
       "      <td>3</td>\n",
       "      <td>No Positive</td>\n",
       "      <td>Bathrooms very small</td>\n",
       "      <td>244</td>\n",
       "      <td>8.5</td>\n",
       "      <td>1</td>\n",
       "      <td>279</td>\n",
       "      <td>1831</td>\n",
       "      <td>1</td>\n",
       "      <td>...</td>\n",
       "      <td>0</td>\n",
       "      <td>0</td>\n",
       "      <td>1</td>\n",
       "      <td>0</td>\n",
       "      <td>0</td>\n",
       "      <td>1</td>\n",
       "      <td>0</td>\n",
       "      <td>0</td>\n",
       "      <td>0</td>\n",
       "      <td>2016-10-28</td>\n",
       "    </tr>\n",
       "    <tr>\n",
       "      <th>763</th>\n",
       "      <td>1</td>\n",
       "      <td>2</td>\n",
       "      <td>No Positive</td>\n",
       "      <td>The breads at breakfast were not as fresh as ...</td>\n",
       "      <td>244</td>\n",
       "      <td>8.5</td>\n",
       "      <td>0</td>\n",
       "      <td>321</td>\n",
       "      <td>1831</td>\n",
       "      <td>2</td>\n",
       "      <td>...</td>\n",
       "      <td>1</td>\n",
       "      <td>0</td>\n",
       "      <td>0</td>\n",
       "      <td>0</td>\n",
       "      <td>0</td>\n",
       "      <td>1</td>\n",
       "      <td>0</td>\n",
       "      <td>0</td>\n",
       "      <td>0</td>\n",
       "      <td>2016-09-16</td>\n",
       "    </tr>\n",
       "    <tr>\n",
       "      <th>840</th>\n",
       "      <td>1</td>\n",
       "      <td>2</td>\n",
       "      <td>No Positive</td>\n",
       "      <td>we didn t dislike anything</td>\n",
       "      <td>244</td>\n",
       "      <td>8.5</td>\n",
       "      <td>1</td>\n",
       "      <td>492</td>\n",
       "      <td>1831</td>\n",
       "      <td>1</td>\n",
       "      <td>...</td>\n",
       "      <td>1</td>\n",
       "      <td>0</td>\n",
       "      <td>0</td>\n",
       "      <td>0</td>\n",
       "      <td>0</td>\n",
       "      <td>1</td>\n",
       "      <td>0</td>\n",
       "      <td>0</td>\n",
       "      <td>0</td>\n",
       "      <td>2016-03-29</td>\n",
       "    </tr>\n",
       "  </tbody>\n",
       "</table>\n",
       "<p>5 rows × 30 columns</p>\n",
       "</div>"
      ],
      "text/plain": [
       "     Reviewer_Score  Nights_Stayed Positive_Review  \\\n",
       "333               1              3     No Positive   \n",
       "496               1              2     No Positive   \n",
       "753               1              3     No Positive   \n",
       "763               1              2     No Positive   \n",
       "840               1              2     No Positive   \n",
       "\n",
       "                                       Negative_Review  \\\n",
       "333                           Restaurant was expensive   \n",
       "496   there where waterpipes near the room it sound...   \n",
       "753                               Bathrooms very small   \n",
       "763   The breads at breakfast were not as fresh as ...   \n",
       "840                        we didn t dislike anything    \n",
       "\n",
       "     Additional_Number_of_Scoring  Average_Score  Leisure_Trip  \\\n",
       "333                           194            7.7             1   \n",
       "496                           244            8.5             1   \n",
       "753                           244            8.5             1   \n",
       "763                           244            8.5             0   \n",
       "840                           244            8.5             1   \n",
       "\n",
       "     Days_Since_Review  Total_Number_of_Reviews  \\\n",
       "333                494                     1403   \n",
       "496                286                     1831   \n",
       "753                279                     1831   \n",
       "763                321                     1831   \n",
       "840                492                     1831   \n",
       "\n",
       "     Total_Number_of_Reviews_Reviewer_Has_Given  ...  Reviewer_Nationality_UK  \\\n",
       "333                                           6  ...                        1   \n",
       "496                                           8  ...                        0   \n",
       "753                                           1  ...                        0   \n",
       "763                                           2  ...                        1   \n",
       "840                                           1  ...                        1   \n",
       "\n",
       "     Reviewer_Nationality_USA  Reviewer_Nationality_Other  \\\n",
       "333                         0                           0   \n",
       "496                         0                           1   \n",
       "753                         0                           1   \n",
       "763                         0                           0   \n",
       "840                         0                           0   \n",
       "\n",
       "     Hotel_Address_Amsterdam  Hotel_Address_Barcelona  Hotel_Address_London  \\\n",
       "333                        1                        0                     0   \n",
       "496                        0                        0                     1   \n",
       "753                        0                        0                     1   \n",
       "763                        0                        0                     1   \n",
       "840                        0                        0                     1   \n",
       "\n",
       "     Hotel_Address_Milan  Hotel_Address_Paris  Hotel_Address_Vienna  \\\n",
       "333                    0                    0                     0   \n",
       "496                    0                    0                     0   \n",
       "753                    0                    0                     0   \n",
       "763                    0                    0                     0   \n",
       "840                    0                    0                     0   \n",
       "\n",
       "     Review_Date  \n",
       "333   2016-03-27  \n",
       "496   2016-10-21  \n",
       "753   2016-10-28  \n",
       "763   2016-09-16  \n",
       "840   2016-03-29  \n",
       "\n",
       "[5 rows x 30 columns]"
      ]
     },
     "execution_count": 357,
     "metadata": {},
     "output_type": "execute_result"
    }
   ],
   "source": [
    "# There are data rows were Positive Reviews are actually blank but entered (by whomsoever created the csv) as 'No Positive'\n",
    "# A decision needs to be made on how to handle them - and before the train test split\n",
    "hotel[hotel.Positive_Review.str.contains('Positive') & hotel.Reviewer_Score==1].head()"
   ]
  },
  {
   "cell_type": "code",
   "execution_count": 358,
   "id": "93f43a45-75bd-4cce-9d38-d20bb19d9157",
   "metadata": {},
   "outputs": [],
   "source": [
    "# Make a copy in case hotel df needs to be reset\n",
    "\n",
    "#hotel2=hotel.copy()\n",
    "hotel=hotel2.copy()\n",
    "\n"
   ]
  },
  {
   "cell_type": "code",
   "execution_count": 359,
   "id": "a60c074e-1bc7-4d23-ac74-432cdccf19f2",
   "metadata": {},
   "outputs": [
    {
     "name": "stdout",
     "output_type": "stream",
     "text": [
      "35901\n",
      "0\n",
      "0\n",
      "127758\n"
     ]
    }
   ],
   "source": [
    "# For Positive Review: Removing what should be blank cells\n",
    "print(hotel[hotel['Positive_Review'].str.contains('No Positive')].Positive_Review.count())\n",
    "print(hotel[hotel['Positive_Review'].str.contains('No Negative')].Positive_Review.count())\n",
    "print(hotel[hotel['Negative_Review'].str.contains('No Positive')].Negative_Review.count())\n",
    "print(hotel[hotel['Negative_Review'].str.contains('No Negative')].Negative_Review.count())\n",
    "#print(hotel[hotel[['Negative_Review'].str.contains('No Positive')])\n",
    "#hotel[hotel['Negative_Review'].str.contains('No Negative' or 'No Positive')].head(5)\n",
    "#hotel[hotel['Positive_Review'].str.contains('No Negative' or 'No Positive')].head(5)\n",
    "\n",
    "#hotel[hotel.Positive_Review.str.contains('Negative' or 'Positive\"')].value_counts().sum()#[hotel.Positive_Review]#hotel.Negative_Review.str.contains() #or hotel[hotel['Negative_Review'].str.contains('No Positive')]).count())\n",
    "#hotel[hotel.Negative_Review.str.contains('Negative' or 'Positive\"')].value_counts().sum()\n",
    "\n",
    "#print('No Negative in review columns: ',hotel.Negative_Review[hotel.Negative_Review.str.contains('No Negative')].count())"
   ]
  },
  {
   "cell_type": "code",
   "execution_count": 360,
   "id": "7a8a8f16-6b9e-4e44-9a96-76b71952c4db",
   "metadata": {},
   "outputs": [],
   "source": [
    "# Got rid of words that were skewing results\n",
    "hotel[hotel['Positive_Review'].str.contains('No Positive')]=''\n",
    "hotel[hotel['Negative_Review'].str.contains('No Negative')]=''\n"
   ]
  },
  {
   "cell_type": "code",
   "execution_count": 361,
   "id": "5d8b2c07-72e6-4cf7-a70f-41a8ee7e8b1f",
   "metadata": {},
   "outputs": [
    {
     "data": {
      "text/plain": [
       "Series([], Name: Negative_Review, dtype: object)"
      ]
     },
     "execution_count": 361,
     "metadata": {},
     "output_type": "execute_result"
    }
   ],
   "source": [
    "#mapping={'No Positive':'','No Negative':''}\n",
    "#print(hotel[hotel['Positive_Review'].str.contains('No Positive')].Positive_Review.value_counts())\n",
    "hotel[hotel['Positive_Review'].str.contains('No Positive')].Positive_Review\n",
    "hotel[hotel['Negative_Review'].str.contains('No Negative')].Negative_Review"
   ]
  },
  {
   "cell_type": "code",
   "execution_count": 362,
   "id": "69ff1e4a-fdcd-4426-be3f-d7ccc09df465",
   "metadata": {},
   "outputs": [
    {
     "name": "stdout",
     "output_type": "stream",
     "text": [
      "Series([], Name: count, dtype: int64)\n"
     ]
    }
   ],
   "source": [
    "print(hotel[hotel['Positive_Review'].str.contains('No Positive')].Positive_Review.value_counts())"
   ]
  },
  {
   "cell_type": "code",
   "execution_count": 363,
   "id": "9651fc7f-86cd-4e0e-8408-282c6c2d7a90",
   "metadata": {},
   "outputs": [
    {
     "data": {
      "text/html": [
       "<div>\n",
       "<style scoped>\n",
       "    .dataframe tbody tr th:only-of-type {\n",
       "        vertical-align: middle;\n",
       "    }\n",
       "\n",
       "    .dataframe tbody tr th {\n",
       "        vertical-align: top;\n",
       "    }\n",
       "\n",
       "    .dataframe thead th {\n",
       "        text-align: right;\n",
       "    }\n",
       "</style>\n",
       "<table border=\"1\" class=\"dataframe\">\n",
       "  <thead>\n",
       "    <tr style=\"text-align: right;\">\n",
       "      <th></th>\n",
       "      <th>Reviewer_Score</th>\n",
       "      <th>Nights_Stayed</th>\n",
       "      <th>Positive_Review</th>\n",
       "      <th>Negative_Review</th>\n",
       "      <th>Additional_Number_of_Scoring</th>\n",
       "      <th>Average_Score</th>\n",
       "      <th>Leisure_Trip</th>\n",
       "      <th>Days_Since_Review</th>\n",
       "      <th>Total_Number_of_Reviews</th>\n",
       "      <th>Total_Number_of_Reviews_Reviewer_Has_Given</th>\n",
       "      <th>...</th>\n",
       "      <th>Reviewer_Nationality_UAE</th>\n",
       "      <th>Reviewer_Nationality_UK</th>\n",
       "      <th>Reviewer_Nationality_USA</th>\n",
       "      <th>Reviewer_Nationality_Other</th>\n",
       "      <th>Hotel_Address_Amsterdam</th>\n",
       "      <th>Hotel_Address_Barcelona</th>\n",
       "      <th>Hotel_Address_London</th>\n",
       "      <th>Hotel_Address_Milan</th>\n",
       "      <th>Hotel_Address_Paris</th>\n",
       "      <th>Hotel_Address_Vienna</th>\n",
       "    </tr>\n",
       "  </thead>\n",
       "  <tbody>\n",
       "  </tbody>\n",
       "</table>\n",
       "<p>0 rows × 29 columns</p>\n",
       "</div>"
      ],
      "text/plain": [
       "Empty DataFrame\n",
       "Columns: [Reviewer_Score, Nights_Stayed, Positive_Review, Negative_Review, Additional_Number_of_Scoring, Average_Score, Leisure_Trip, Days_Since_Review, Total_Number_of_Reviews, Total_Number_of_Reviews_Reviewer_Has_Given, Review_Total_Negative_Word_Counts, Review_Total_Positive_Word_Counts, Latitude, Longitude, Day, Month, Year, Reviewer_Nationality_Australia, Reviewer_Nationality_Ireland, Reviewer_Nationality_UAE, Reviewer_Nationality_UK, Reviewer_Nationality_USA, Reviewer_Nationality_Other, Hotel_Address_Amsterdam, Hotel_Address_Barcelona, Hotel_Address_London, Hotel_Address_Milan, Hotel_Address_Paris, Hotel_Address_Vienna]\n",
       "Index: []\n",
       "\n",
       "[0 rows x 29 columns]"
      ]
     },
     "execution_count": 363,
     "metadata": {},
     "output_type": "execute_result"
    }
   ],
   "source": [
    "hotel[hotel['Positive_Review'].str.contains('No Negative','No Positive')].head(5)"
   ]
  },
  {
   "cell_type": "code",
   "execution_count": 364,
   "id": "f9a4ffc6-ab06-4a33-b48e-077cd74a4e78",
   "metadata": {},
   "outputs": [
    {
     "data": {
      "text/plain": [
       "<Axes: >"
      ]
     },
     "execution_count": 364,
     "metadata": {},
     "output_type": "execute_result"
    },
    {
     "data": {
      "image/png": "[encoded data removed]",
      "text/plain": [
       "<Figure size 640x480 with 1 Axes>"
      ]
     },
     "metadata": {},
     "output_type": "display_data"
    }
   ],
   "source": [
    "quick_bar=[35910,127758]\n",
    "names=['No Positives','No Negatives']\n",
    "sns.barplot(x=quick_bar,y=names)\n",
    "\n",
    "#plot(kind='bar')"
   ]
  },
  {
   "cell_type": "code",
   "execution_count": 365,
   "id": "9e608a88-51e8-4984-806f-94e5cdf53357",
   "metadata": {},
   "outputs": [],
   "source": [
    "# There are a huge number of cells that should be blank\n",
    "# An entry of 'No Positive' or 'No Negative' will cause issues with word frequency --\n",
    "#      and that goes for both review columnn"
   ]
  },
  {
   "cell_type": "markdown",
   "id": "8d463f5f-db6a-4949-9fa6-83038d6ead54",
   "metadata": {},
   "source": [
    "After an initial run through the process, I came out with a top 'postive' predictor of \"trouble\" which doesn't quite make sense.\n",
    "So I'm going to take a look into here."
   ]
  },
  {
   "cell_type": "code",
   "execution_count": 366,
   "id": "e1086b4e-88fd-4b62-b027-ba57f11144c9",
   "metadata": {},
   "outputs": [],
   "source": [
    "pd.options.display.width = 0"
   ]
  },
  {
   "cell_type": "code",
   "execution_count": 372,
   "id": "41b41a5e-8b0d-417f-917a-5b19109accc0",
   "metadata": {},
   "outputs": [
    {
     "data": {
      "text/html": [
       "<div>\n",
       "<style scoped>\n",
       "    .dataframe tbody tr th:only-of-type {\n",
       "        vertical-align: middle;\n",
       "    }\n",
       "\n",
       "    .dataframe tbody tr th {\n",
       "        vertical-align: top;\n",
       "    }\n",
       "\n",
       "    .dataframe thead th {\n",
       "        text-align: right;\n",
       "    }\n",
       "</style>\n",
       "<table border=\"1\" class=\"dataframe\">\n",
       "  <thead>\n",
       "    <tr style=\"text-align: right;\">\n",
       "      <th></th>\n",
       "      <th>row</th>\n",
       "      <th>Positive_Review</th>\n",
       "    </tr>\n",
       "  </thead>\n",
       "  <tbody>\n",
       "    <tr>\n",
       "      <th>0</th>\n",
       "      <td>35</td>\n",
       "      <td>Very nice hotel manager he upgraded us becaus...</td>\n",
       "    </tr>\n",
       "    <tr>\n",
       "      <th>1</th>\n",
       "      <td>459</td>\n",
       "      <td>The staff are really helpful and accommodatin...</td>\n",
       "    </tr>\n",
       "    <tr>\n",
       "      <th>2</th>\n",
       "      <td>1204</td>\n",
       "      <td>Great location Check in staff and concierge w...</td>\n",
       "    </tr>\n",
       "    <tr>\n",
       "      <th>3</th>\n",
       "      <td>1226</td>\n",
       "      <td>Staff are very friendly and nothing is too mu...</td>\n",
       "    </tr>\n",
       "    <tr>\n",
       "      <th>4</th>\n",
       "      <td>1254</td>\n",
       "      <td>Fantastic hotel with great staff and faciliti...</td>\n",
       "    </tr>\n",
       "    <tr>\n",
       "      <th>...</th>\n",
       "      <td>...</td>\n",
       "      <td>...</td>\n",
       "    </tr>\n",
       "    <tr>\n",
       "      <th>1308</th>\n",
       "      <td>513402</td>\n",
       "      <td>Nice spacious hotel food was excellent in the...</td>\n",
       "    </tr>\n",
       "    <tr>\n",
       "      <th>1309</th>\n",
       "      <td>513582</td>\n",
       "      <td>A very convenient location cleanliness fantas...</td>\n",
       "    </tr>\n",
       "    <tr>\n",
       "      <th>1310</th>\n",
       "      <td>513607</td>\n",
       "      <td>What not to like Clean comfortable spacious E...</td>\n",
       "    </tr>\n",
       "    <tr>\n",
       "      <th>1311</th>\n",
       "      <td>513626</td>\n",
       "      <td>Nothing was too much trouble the travel cot w...</td>\n",
       "    </tr>\n",
       "    <tr>\n",
       "      <th>1312</th>\n",
       "      <td>513809</td>\n",
       "      <td>the staff were lovely and very welcoming We d...</td>\n",
       "    </tr>\n",
       "  </tbody>\n",
       "</table>\n",
       "<p>1313 rows × 2 columns</p>\n",
       "</div>"
      ],
      "text/plain": [
       "         row                                    Positive_Review\n",
       "0         35   Very nice hotel manager he upgraded us becaus...\n",
       "1        459   The staff are really helpful and accommodatin...\n",
       "2       1204   Great location Check in staff and concierge w...\n",
       "3       1226   Staff are very friendly and nothing is too mu...\n",
       "4       1254   Fantastic hotel with great staff and faciliti...\n",
       "...      ...                                                ...\n",
       "1308  513402   Nice spacious hotel food was excellent in the...\n",
       "1309  513582   A very convenient location cleanliness fantas...\n",
       "1310  513607   What not to like Clean comfortable spacious E...\n",
       "1311  513626   Nothing was too much trouble the travel cot w...\n",
       "1312  513809   the staff were lovely and very welcoming We d...\n",
       "\n",
       "[1313 rows x 2 columns]"
      ]
     },
     "execution_count": 372,
     "metadata": {},
     "output_type": "execute_result"
    }
   ],
   "source": [
    "\n",
    "hotel[hotel['Positive_Review'].str.contains('trouble')].Positive_Review.to_frame().reset_index().rename(columns=({'index':'row'}))    "
   ]
  },
  {
   "cell_type": "code",
   "execution_count": 371,
   "id": "bf6d69c2-face-4950-9374-cbdc2367ccc4",
   "metadata": {},
   "outputs": [],
   "source": [
    "#for x in 10:\n",
    "trouble_df=hotel[hotel['Positive_Review'].str.contains('trouble')].Positive_Review.to_frame().reset_index().rename(columns=({'index':'row'}))"
   ]
  },
  {
   "cell_type": "code",
   "execution_count": 368,
   "id": "1ef0aa1f-a6bb-4536-8885-85edfc6507b4",
   "metadata": {},
   "outputs": [
    {
     "name": "stdout",
     "output_type": "stream",
     "text": [
      " Very nice hotel manager he upgraded us because we had troubles with two different rooms They do everything to make you feel welcome and comfortable The park directly in front of the hotel is amazing rent a bike directly and make a tour Also the bathtub and bed is great  \n",
      "\n",
      " The staff are really helpful and accommodating Nothing was too much trouble The hotel is very pretty in a great location with a cosy bar area I have stayed here several times and will definitely stay again  \n",
      "\n",
      " Great location Check in staff and concierge were so polite and helpful we felt nothing was too much trouble and very genuine The room was spotless and facilities excellent A very quiet room and bed was extremely comfortable which meant we slept very well  \n",
      "\n",
      " Staff are very friendly and nothing is too much trouble Rooms have everything you need very clean and comfortable Very quiet Love the Ducks Second stay at this hotel last was at christmas Stayed in the same room Comfortable walking distance to St Paul s South bank and Covent Garden to name but a few Will definitely stay again  \n",
      "\n",
      " Fantastic hotel with great staff and facilities Nothing was too much trouble and the room was exactly as we expected Also loved the fact we could take the rubber duck away which also helps promote the hotel Very clever marketing  \n",
      "\n",
      " Staff were super nothing was too much trouble Professional but approachable Lovely comfy bed so great night s sleep ready to explore all the places of interest so close to the hotel \n",
      "\n",
      " Second time staying at this lovely hotel Staff were once again warm and friendly with nothing too much trouble I travelled with my daughter for her 21st birthday and the staff all wished her a happy birthday and left her a lovely personalised note and a box of chocolates I love this hotel and can t recommend it highly enough Thank you Apex Temple Court for another wonderful stay  \n",
      "\n",
      " Staff were fantastic very helpful and friendly Nothing was too much trouble  \n",
      "\n",
      " Nothing was any trouble for the staff they all were helpful pleasant and couldn t be nicer \n",
      "\n",
      " The staff where exceptional nothing was too much trouble and breakfast was very good value for money hot fresh with a good variety  \n",
      "\n"
     ]
    }
   ],
   "source": [
    "for x in range(10):\n",
    "    print(trouble_df.Positive_Review.loc[x],'\\n')"
   ]
  },
  {
   "cell_type": "markdown",
   "id": "3be376ef-3f68-44f2-b6be-ffa6cffadf7f",
   "metadata": {},
   "source": [
    "The most repetitive phrase, having looked at the 10 first sentences with \"trouble\" are the exact same. That's 5 words in a row. Going to use n-grams at a length of 5 to compensate for these pesky troubles.\n",
    "Regarding the phrase _\"Nothing was too much trouble\"_ , it is a positive phrase and it comes up the most impacting phrase to the model.\n",
    "\n",
    "As far as a client goes,\n",
    "\n",
    "x_train"
   ]
  },
  {
   "cell_type": "code",
   "execution_count": 375,
   "id": "c54d302f-9c47-4fa5-9340-0c58b562e8aa",
   "metadata": {},
   "outputs": [
    {
     "data": {
      "text/plain": [
       "Positive_Review     The feel good atmosphere specially in the lob...\n",
       "Negative_Review        No Negative would like resaurant in the hotel\n",
       "dtype: object"
      ]
     },
     "execution_count": 375,
     "metadata": {},
     "output_type": "execute_result"
    }
   ],
   "source": [
    "X_train[:2].sum()"
   ]
  },
  {
   "cell_type": "code",
   "execution_count": 370,
   "id": "50271131-ca1d-434a-9012-0a416e53329e",
   "metadata": {},
   "outputs": [
    {
     "ename": "SyntaxError",
     "evalue": "invalid syntax. Perhaps you forgot a comma? (2000220372.py, line 14)",
     "output_type": "error",
     "traceback": [
      "\u001b[1;36m  Cell \u001b[1;32mIn[370], line 14\u001b[1;36m\u001b[0m\n\u001b[1;33m    stop_words=my_stop_words\u001b[0m\n\u001b[1;37m               ^\u001b[0m\n\u001b[1;31mSyntaxError\u001b[0m\u001b[1;31m:\u001b[0m invalid syntax. Perhaps you forgot a comma?\n"
     ]
    }
   ],
   "source": [
    "from nltk.corpus import stopwords\n",
    "# Create Vectorizers for both positive and negative sets of data\n",
    "# There are issues in both columns of 'No Positive' or 'No Negative'\n",
    "\n",
    "my_stop_words=['english','No Positive','No Negative','no negative','no positive']\n",
    "# I've read that using english might not be as good? \n",
    "\n",
    "pos_vectorizer    = CountVectorizer(max_features=500,\n",
    "                                    min_df=10,lowercase=True,\n",
    "                                    stop_words=my_stop_words,\n",
    "                                    ngram_range=(1,5))\n",
    "neg_vectorizer    = CountVectorizer(max_features=500,\n",
    "                                    min_df=10,lowercase=True,\n",
    "                                    stop_words=my_stop_words\n",
    "                                    ngram_range=(1,5)\n",
    "                                   )\n",
    "\n",
    "# Positive Train/Test\n",
    "pos_X_train_xform = pos_vectorizer.fit_transform(X_train.Positive_Review) #ptr=t(xtr.posrev)\n",
    "pos_X_test_xform  = pos_vectorizer.transform(X_test.Positive_Review)\n",
    "\n",
    "# Negative Train/Test\n",
    "neg_X_train_xform = neg_vectorizer.fit_transform(X_train.Negative_Review)\n",
    "neg_X_test_xform  = neg_vectorizer.transform(X_test.Negative_Review)"
   ]
  },
  {
   "cell_type": "code",
   "execution_count": 376,
   "id": "ef06ea74-2595-41df-92fa-af588643803f",
   "metadata": {},
   "outputs": [
    {
     "data": {
      "text/html": [
       "<div>\n",
       "<style scoped>\n",
       "    .dataframe tbody tr th:only-of-type {\n",
       "        vertical-align: middle;\n",
       "    }\n",
       "\n",
       "    .dataframe tbody tr th {\n",
       "        vertical-align: top;\n",
       "    }\n",
       "\n",
       "    .dataframe thead th {\n",
       "        text-align: right;\n",
       "    }\n",
       "</style>\n",
       "<table border=\"1\" class=\"dataframe\">\n",
       "  <thead>\n",
       "    <tr style=\"text-align: right;\">\n",
       "      <th></th>\n",
       "      <th>Positive_Review</th>\n",
       "      <th>Negative_Review</th>\n",
       "    </tr>\n",
       "  </thead>\n",
       "  <tbody>\n",
       "    <tr>\n",
       "      <th>451308</th>\n",
       "      <td>The feel good atmosphere specially in the lob...</td>\n",
       "      <td>No Negative</td>\n",
       "    </tr>\n",
       "    <tr>\n",
       "      <th>499431</th>\n",
       "      <td>comfortable bed good breakfast</td>\n",
       "      <td>would like resaurant in the hotel</td>\n",
       "    </tr>\n",
       "    <tr>\n",
       "      <th>469987</th>\n",
       "      <td>Location is excellent</td>\n",
       "      <td>But overall run down hotel with poor faciliti...</td>\n",
       "    </tr>\n",
       "    <tr>\n",
       "      <th>98529</th>\n",
       "      <td>Excellent service from the staff and I always...</td>\n",
       "      <td>Nothing it s always a pleasure to stay here</td>\n",
       "    </tr>\n",
       "    <tr>\n",
       "      <th>372343</th>\n",
       "      <td>Modern look and good design of hotel building...</td>\n",
       "      <td>Immediate neighborhood lacking of appeal and ...</td>\n",
       "    </tr>\n",
       "    <tr>\n",
       "      <th>...</th>\n",
       "      <td>...</td>\n",
       "      <td>...</td>\n",
       "    </tr>\n",
       "    <tr>\n",
       "      <th>259652</th>\n",
       "      <td>Location and staff</td>\n",
       "      <td>rooms view furniture not enough and area very...</td>\n",
       "    </tr>\n",
       "    <tr>\n",
       "      <th>366367</th>\n",
       "      <td>The room was very charming</td>\n",
       "      <td>The staff were not friendly and helpful</td>\n",
       "    </tr>\n",
       "    <tr>\n",
       "      <th>131967</th>\n",
       "      <td>the location</td>\n",
       "      <td>The shower was blocked and room was very damp</td>\n",
       "    </tr>\n",
       "    <tr>\n",
       "      <th>146902</th>\n",
       "      <td>Offers everything a 5 star hotel offers</td>\n",
       "      <td>Small rooms and hot a c</td>\n",
       "    </tr>\n",
       "    <tr>\n",
       "      <th>121993</th>\n",
       "      <td>Friendly staff Jessica was a great help with ...</td>\n",
       "      <td>No Negative</td>\n",
       "    </tr>\n",
       "  </tbody>\n",
       "</table>\n",
       "<p>412159 rows × 2 columns</p>\n",
       "</div>"
      ],
      "text/plain": [
       "                                          Positive_Review  \\\n",
       "451308   The feel good atmosphere specially in the lob...   \n",
       "499431                     comfortable bed good breakfast   \n",
       "469987                             Location is excellent    \n",
       "98529    Excellent service from the staff and I always...   \n",
       "372343   Modern look and good design of hotel building...   \n",
       "...                                                   ...   \n",
       "259652                                 Location and staff   \n",
       "366367                        The room was very charming    \n",
       "131967                                       the location   \n",
       "146902            Offers everything a 5 star hotel offers   \n",
       "121993   Friendly staff Jessica was a great help with ...   \n",
       "\n",
       "                                          Negative_Review  \n",
       "451308                                        No Negative  \n",
       "499431                  would like resaurant in the hotel  \n",
       "469987   But overall run down hotel with poor faciliti...  \n",
       "98529        Nothing it s always a pleasure to stay here   \n",
       "372343   Immediate neighborhood lacking of appeal and ...  \n",
       "...                                                   ...  \n",
       "259652   rooms view furniture not enough and area very...  \n",
       "366367           The staff were not friendly and helpful   \n",
       "131967      The shower was blocked and room was very damp  \n",
       "146902                            Small rooms and hot a c  \n",
       "121993                                        No Negative  \n",
       "\n",
       "[412159 rows x 2 columns]"
      ]
     },
     "execution_count": 376,
     "metadata": {},
     "output_type": "execute_result"
    }
   ],
   "source": [
    "X_train"
   ]
  },
  {
   "cell_type": "code",
   "execution_count": null,
   "id": "0b7e1ed9-91eb-4f93-b15b-76e048d9855d",
   "metadata": {},
   "outputs": [],
   "source": [
    "# Train= fit/transformed\n",
    "pos_X_train_xform"
   ]
  },
  {
   "cell_type": "code",
   "execution_count": null,
   "id": "0cf37801-3965-421d-bd88-710ab08638fa",
   "metadata": {},
   "outputs": [],
   "source": [
    "# Test= transformed (only)\n",
    "pos_X_test_xform"
   ]
  },
  {
   "cell_type": "code",
   "execution_count": null,
   "id": "4dde5478-d82b-44b0-8751-e532c3d119cb",
   "metadata": {},
   "outputs": [],
   "source": [
    "#create densematrix\n",
    "pos_X_train_dmatrix = pos_X_train_xform.toarray()\n",
    "pos_X_test_dmatrix  = pos_X_test_xform.toarray()"
   ]
  },
  {
   "cell_type": "code",
   "execution_count": null,
   "id": "8cbb9ee2-e370-4465-af41-b25635d0a701",
   "metadata": {},
   "outputs": [],
   "source": [
    "pos_X_train_dmatrix"
   ]
  },
  {
   "cell_type": "code",
   "execution_count": null,
   "id": "7326196b-54db-484d-952e-94bd0aa625af",
   "metadata": {},
   "outputs": [],
   "source": [
    "# sparse matrices\n",
    "## to dense arrays\n",
    "neg_X_train_dmatrix = neg_X_train_xform.toarray()\n",
    "neg_X_test_dmatrix  = neg_X_test_xform.toarray()"
   ]
  },
  {
   "cell_type": "code",
   "execution_count": null,
   "id": "a6bef1fe-1ddb-4867-8369-74b22915e5f7",
   "metadata": {},
   "outputs": [],
   "source": [
    "# Add prefixes to column names\n",
    "positive_cols = ['pos_' + col for col in pos_vectorizer.get_feature_names_out()]\n",
    "negative_cols = ['neg_' + col for col in neg_vectorizer.get_feature_names_out()]\n",
    "\n",
    "# Create final training and testing dataframes\n",
    "X_train = pd.concat([pd.DataFrame(pos_X_train_dmatrix, columns=positive_cols), pd.DataFrame(neg_X_train_dmatrix, columns=negative_cols)], axis=1)\n",
    "X_test_final = pd.concat([pd.DataFrame(pos_X_test_dmatrix, columns=positive_cols), pd.DataFrame(neg_X_test_dmatrix, columns=negative_cols)], axis=1)"
   ]
  },
  {
   "cell_type": "code",
   "execution_count": null,
   "id": "09c9273a-20fd-42ed-908d-606bfac88a0f",
   "metadata": {},
   "outputs": [],
   "source": [
    "#Semi-Sanity-Check\n",
    "#Checking that the new X_train (X_train) has the new columns and is formatted correctly.\n",
    "print('pos cols: ',positive_cols[:6],'\\n')\n",
    "print('pos cols: ',negative_cols[:6],'\\n')\n",
    "print('Xtrain_positive_columns :', X_train.columns[:6],'\\n')\n",
    "print('Xtrain_negative_columns :',X_train.columns[500:506])\n",
    "print('x_test shape: ',X_test.shape)\n",
    "print('x_train shape: ',X_test.shape)"
   ]
  },
  {
   "cell_type": "markdown",
   "id": "f568d301-7927-444b-b8d1-3aa380c7a04d",
   "metadata": {
    "jp-MarkdownHeadingCollapsed": true
   },
   "source": [
    "## Question 3. Modelling. Logistic. <a class=\"anchor\" name=\"Part3\"></a>"
   ]
  },
  {
   "cell_type": "markdown",
   "id": "636cfe7a-e1f5-4b4b-bbba-061604fdd826",
   "metadata": {},
   "source": [
    "Fit a logistic regression model on the data and analyze the test and train accuracy. <br>\n",
    "Find the top 20 words from the positive reviews that are most predictive of a positive sentiment (Reviewer_Score = 1).<br>\n",
    "Similarly, find the top 20 words from the negative reviews that are most predictive of a negative sentiment (Reviewer_Score = 0).<br> What actionable insights can you draw from these?"
   ]
  },
  {
   "cell_type": "code",
   "execution_count": null,
   "id": "bbc2d973-a02e-4180-92b7-52dc20b5f191",
   "metadata": {},
   "outputs": [],
   "source": [
    "from sklearn.linear_model import LogisticRegression\n",
    "from art import *"
   ]
  },
  {
   "cell_type": "code",
   "execution_count": null,
   "id": "cd1cf954-95cd-463f-b388-02da3943a52b",
   "metadata": {},
   "outputs": [],
   "source": [
    "# Well, kind of. Let's test it out."
   ]
  },
  {
   "cell_type": "code",
   "execution_count": null,
   "id": "093014fd-2145-42b6-8309-cad431b3a290",
   "metadata": {},
   "outputs": [],
   "source": [
    "# Just rename X_train for convenience\n",
    "X_train=X_train\n",
    "X_test=X_test_final"
   ]
  },
  {
   "cell_type": "markdown",
   "id": "f264b7d8-970c-433d-b853-01dca240aff4",
   "metadata": {},
   "source": [
    "#### Checking Old Data, Fitting Model"
   ]
  },
  {
   "cell_type": "code",
   "execution_count": null,
   "id": "3538c5a7-8ae4-413d-9865-5628d1aad8a7",
   "metadata": {},
   "outputs": [],
   "source": [
    "# Sanity Check\n",
    "# I'm unsure if it's my kernel...or whether there's an error in my code, but NaN and null keep showing up\n",
    "# in my tables at this step. It will fail my log. reg. \n",
    "X_test.astype(dtype='int')\n",
    "X_train.astype(dtype='int')\n",
    "# Similar to above, need to ensure df is filled consistently\n",
    "X_test.fillna(0,inplace=True)\n",
    "# Check for na/nan\n",
    "print('\"Quasi-EDA\" : Sanity Check \\n')\n",
    "print('x_test isna :',X_test.isna().sum().sum())\n",
    "print('x_train isna :',X_train.isna().sum().sum(),'\\n')\n",
    "# Check shape\n",
    "print('x_test shape: ',X_test.shape)\n",
    "print('x_train shape: ',X_train.shape)"
   ]
  },
  {
   "cell_type": "code",
   "execution_count": null,
   "id": "a354405b-4b87-43bb-bddd-4dcd1bf293aa",
   "metadata": {},
   "outputs": [],
   "source": [
    "#Erroneous NaN values that need to be zeroed\n",
    "X_test.astype(dtype=int)\n",
    "X_train.astype(dtype=int)"
   ]
  },
  {
   "cell_type": "code",
   "execution_count": null,
   "id": "70390540-8ae3-4ec5-a199-36f026c4e170",
   "metadata": {},
   "outputs": [],
   "source": [
    "X_test=X_test.astype(dtype=int)"
   ]
  },
  {
   "cell_type": "code",
   "execution_count": null,
   "id": "4340fe86-a2ea-49d6-ba5d-1e339d4fdeb7",
   "metadata": {},
   "outputs": [],
   "source": [
    "X_train.sum()"
   ]
  },
  {
   "cell_type": "code",
   "execution_count": null,
   "id": "2574a079-0d6e-4479-9350-6e26a22e55b4",
   "metadata": {},
   "outputs": [],
   "source": [
    "X_test.info()"
   ]
  },
  {
   "cell_type": "markdown",
   "id": "6be1630c-c699-4aa9-b92d-45680cef0071",
   "metadata": {},
   "source": [
    "(Editing Note: There have been n-number of times that the program keeps freezing up here and then suddenly converting values to NaNs which then break the routine, forcing a re-run which was...problematic and one of the reasons this assignment is coming late.)"
   ]
  },
  {
   "cell_type": "markdown",
   "id": "9b7bccf7-dd06-4fc2-a2f1-fcc40396dea9",
   "metadata": {},
   "source": [
    "Went back and tweaked the Vectorizer to account for ngrams of 5 - which should mean a drop in \"trouble\" as the top positive predictor."
   ]
  },
  {
   "cell_type": "code",
   "execution_count": null,
   "id": "9d5c645d-1ec9-49a0-b837-fb24b4dc95a3",
   "metadata": {
    "editable": true,
    "jupyter": {
     "source_hidden": true
    },
    "slideshow": {
     "slide_type": ""
    },
    "tags": []
   },
   "outputs": [],
   "source": [
    "log_reg=LogisticRegression(max_iter=1000, C=0.5)\n",
    "log_reg.fit(X_train,y_train)"
   ]
  },
  {
   "cell_type": "code",
   "execution_count": null,
   "id": "908ed830-4746-42ed-b98b-14f267612e9d",
   "metadata": {
    "editable": true,
    "jupyter": {
     "source_hidden": true
    },
    "scrolled": true,
    "slideshow": {
     "slide_type": ""
    },
    "tags": []
   },
   "outputs": [],
   "source": [
    "print(f'Train score: {log_reg.score(X_train,y_train)}')\n",
    "print(f'Test score: {log_reg.score(X_test,y_test)}')"
   ]
  },
  {
   "cell_type": "markdown",
   "id": "9190316f-a8a0-4bb6-8241-cd288885be85",
   "metadata": {},
   "source": [
    "#### Coefficients"
   ]
  },
  {
   "cell_type": "code",
   "execution_count": null,
   "id": "4fefd9f6-a904-4234-ac07-4beed62de9ee",
   "metadata": {
    "editable": true,
    "jupyter": {
     "source_hidden": true
    },
    "slideshow": {
     "slide_type": ""
    },
    "tags": []
   },
   "outputs": [],
   "source": [
    "# Pull coefficients from log. Reg. model\n",
    "# Don't need to pull corresponding values from a vectorizer - the index order should have remained consistent\n",
    "X_train_words=pd.Series(log_reg.coef_[0],index=X_train.columns).sort_values(ascending=False)\n",
    "X_train_words[:3]"
   ]
  },
  {
   "cell_type": "code",
   "execution_count": null,
   "id": "ef43af05-7044-40ba-b4be-2d9b66d16bdc",
   "metadata": {
    "editable": true,
    "jupyter": {
     "source_hidden": true
    },
    "slideshow": {
     "slide_type": ""
    },
    "tags": []
   },
   "outputs": [],
   "source": [
    "X_train_words.sort_values(ascending=False,inplace=True)"
   ]
  },
  {
   "cell_type": "code",
   "execution_count": null,
   "id": "33923ce9-7938-4e5c-ba4e-9566e5a49e60",
   "metadata": {
    "jupyter": {
     "source_hidden": true
    }
   },
   "outputs": [],
   "source": [
    "X_train_words"
   ]
  },
  {
   "cell_type": "code",
   "execution_count": null,
   "id": "4e993661-ff94-46cc-a3df-ee03254f6270",
   "metadata": {
    "editable": true,
    "jupyter": {
     "source_hidden": true
    },
    "scrolled": true,
    "slideshow": {
     "slide_type": ""
    },
    "tags": []
   },
   "outputs": [],
   "source": [
    "# X_train_coefficient\n",
    "Xtf_Co=X_train_words.to_frame(name='coef').reset_index().rename(columns={'index':'feat2'})\n",
    "Xtf_Co['review_type']=Xtf_Co['feat2'].str.slice(0,3)\n",
    "Xtf_Co['feat']=Xtf_Co['feat2'].str.slice(4,)\n",
    "\n",
    "Xtf_Co.head(3)"
   ]
  },
  {
   "cell_type": "markdown",
   "id": "7b253d2d-7e9f-45f3-bf6f-97ea885c1514",
   "metadata": {},
   "source": [
    "_Create temp table with the Top/Bottom 20 Reviews for each type of review.\n",
    "I know the question doesn't specify but I think it also can provide extra insight; however, running the code at first showed that there are issues with the preprocessing of the data, in particular stop words, poorly entered values, and phrases that the model reads different than may be seen._\n",
    "\n",
    "I took care of the most glaring curiosities seen in the top 20 lists through ngrams and manually emptying cells that should be blank"
   ]
  },
  {
   "cell_type": "code",
   "execution_count": null,
   "id": "27ad750d-1b19-44dc-8fd7-8b5cdbe3ffaa",
   "metadata": {
    "jupyter": {
     "source_hidden": true
    }
   },
   "outputs": [],
   "source": [
    "Positive_Review_TopBottom20=pd.concat([Xtf_Co[Xtf_Co.review_type=='pos'].sort_values(by='coef',ascending=True).tail(20)\n",
    "          ,Xtf_Co[Xtf_Co.review_type=='pos'].sort_values(by='coef',ascending=True).head(20)]).sort_values(by='coef')\n",
    "\n",
    "Negative_Review_TopBottom20=pd.concat([Xtf_Co[Xtf_Co.review_type=='neg'].sort_values(by='coef',ascending=False).tail(20)\n",
    "          ,Xtf_Co[Xtf_Co.review_type=='neg'].sort_values(by='coef',ascending=False).head(20)]).sort_values(by='coef')\n",
    "\n",
    "print('PositiveReview \\n',Positive_Review_TopBottom20.tail(3),'\\n')\n",
    "\n",
    "print('NegativeReview \\n',Negative_Review_TopBottom20.tail(3))"
   ]
  },
  {
   "cell_type": "code",
   "execution_count": null,
   "id": "ee9314f9-4dff-42c9-9eec-1d66c329c797",
   "metadata": {
    "jupyter": {
     "source_hidden": true
    }
   },
   "outputs": [],
   "source": [
    "Positive_Review_TopBottom20=pd.concat([Xtf_Co[Xtf_Co.review_type=='pos'].sort_values(by='coef',ascending=True).tail(20)\n",
    "          ,Xtf_Co[Xtf_Co.review_type=='pos'].sort_values(by='coef',ascending=True).head(20)]).sort_values(by='coef')\n",
    "Negative_Review_TopBottom20=pd.concat([Xtf_Co[Xtf_Co.review_type=='neg'].sort_values(by='coef',ascending=False).tail(20)\n",
    "          ,Xtf_Co[Xtf_Co.review_type=='neg'].sort_values(by='coef',ascending=False).head(20)]).sort_values(by='coef')\n",
    "print('PositiveReview \\n',Positive_Review_TopBottom20.tail(3),'\\n')\n",
    "print('NegativeReview \\n',Negative_Review_TopBottom20.tail(3))"
   ]
  },
  {
   "cell_type": "code",
   "execution_count": 218,
   "id": "dfd88afc-b324-4dff-8c83-7fd6876127da",
   "metadata": {
    "jupyter": {
     "source_hidden": true
    }
   },
   "outputs": [
    {
     "data": {
      "image/png": "[encoded data removed]",
      "text/plain": [
       "<Figure size 2000x1500 with 2 Axes>"
      ]
     },
     "metadata": {},
     "output_type": "display_data"
    }
   ],
   "source": [
    "# Top and Bottom 20 graph\n",
    "# May need to change colors for visually impaired\n",
    "\n",
    "\n",
    "fig,axes = plt.subplots(2,1,figsize=(20,15),layout='tight')\n",
    "#plt.subplot(121)\n",
    "# Visualization for Top & Bottom 20 Predictive Words in a review considered \"Negative\"\n",
    "#ax=plt.gca()\n",
    "plt.subplot(212)\n",
    "ax=axes[0]\n",
    "axes[0].set_title('[Bottom 20 || Top 20] Predictor Words of a Positive Review by Log. Coefficient',size='x-large')\n",
    "palette = sns.diverging_palette(10,145,s=80,center=\"dark\", n=40)\n",
    "ax.set_facecolor('lightblue')\n",
    "sns.barplot(data=Positive_Review_TopBottom20,x='feat',y='coef',palette=palette,ax=axes[0])\n",
    "axes[0].tick_params(rotation=-60)\n",
    "plt.axhline(y=0,color='maroon')\n",
    "plt.axvline(x=(19.5),color='lightgray')\n",
    "axes[0].set_xlabel('Predictive Words from a \"Positive Review\"')\n",
    "axes[0].set_ylabel('Log. Regression Coefficient')\n",
    "axes[0].set_ylim(-1.5,1.5)\n",
    "plt.ylabel('Log.Reg. Coefficients')\n",
    "\n",
    "\n",
    "# Visualization for Top & Bottom 20 Predictive Words in a review considered \"Negative\"\n",
    "#ax=plt.gca()\n",
    "plt.subplot(211)\n",
    "ax1=axes[1]\n",
    "axes[1].set_title('[Bottom 20 || Top 20] Predictor Words of a Negative Review by Log. Coefficient',size='x-large')\n",
    "sns.barplot(data=Negative_Review_TopBottom20,x='feat',y='coef',palette=palette,ax=axes[1])\n",
    "palette = sns.diverging_palette(10,145,s=80,center=\"dark\", n=40)\n",
    "ax1.set_facecolor('lightblue')\n",
    "sns.color_palette()\n",
    "ax.axhline(y=0,color='maroon')\n",
    "ax1.axvline(x=(19.5),color='lightgray')\n",
    "axes[1].tick_params(labelrotation=-45)\n",
    "axes[1].set_xlabel('Predictive Words from \"Negative Review\"')\n",
    "axes[1].set_ylabel('Log. Regression Coefficient')\n",
    "axes[1].set_ylim(-1.5,1.5)\n",
    "plt.show()\n",
    "\n"
   ]
  },
  {
   "cell_type": "code",
   "execution_count": null,
   "id": "2161910d-29de-488e-bbc0-3b9cda1ad6b7",
   "metadata": {
    "jupyter": {
     "source_hidden": true
    }
   },
   "outputs": [],
   "source": [
    "from scipy import stats"
   ]
  },
  {
   "cell_type": "markdown",
   "id": "ecdebb35-eac7-4fa9-b266-957e2f7d76f8",
   "metadata": {},
   "source": [
    "_(Edit: I must have my syntax wrong or something because the words I tried to prevent through stop words or other means in the model are still there.)_\n",
    "The above plot would be presentable to a client, as would likely be the case in this case study.\n",
    "The plot below is for illustrative points related to the distribution of the log regression coefficient.\n",
    "These plots came from the same model and so can be compared to each other.\n",
    "\n",
    "_**Observations**_:\n",
    "- Universtal\n",
    "- The graph above shows the extremes of the coefficient values, which speaks to a weighted interpretation of the terms involved.\n",
    "- The graph below demonstrates the distribution of the coefficient values around the 0 value. This paints a different picture. Both review are fairly similar in distrubution about the center. The top and bottom 20 might be considered outliers. With a standard deviation of approximate .22 for either category, these values overlap consistently.These outliers are pronnounced outside the normal distribution.\n",
    "\n",
    "_**Actionable items, as pertaining to a client:**_\n",
    "\n",
    "- There are two perspectives and approaches for guest retainability based on reviews, mostly with relevance to operating costs. One is an overhaul approach, the worst predictors all speak to complete guests unhappiness. This, however, is costly and complex.\n",
    "\n",
    "- The second is to select, emphasize the lowest cost highest impact concepts based on these terms.\"The air\" - air conditioner, air quality - whichever is easier to address. Growing the positive coef in the neg group is the low hanging fruit. These probably stem from more minor inconvenience others.\n",
    "  \n",
    "- Continue delivering the positive experience and emphasize amenities like the breakfast service or a well trained staff. It might be more impacting to inundate guests with the positive keywords found on this list too: brilliant, fabulous, excellent. Hearing the words will stick in guests minds.\n",
    "\n",
    "- There are a number of \"negative\" terms that still increase the chance of a positive review and addressing those should be the first focus of management. It's the easiest\n",
    "- The terminology for positive review with pos coef are markedly more animated than the positive reviews with negative coef.\n"
   ]
  },
  {
   "cell_type": "code",
   "execution_count": null,
   "id": "1173a1ed-3983-48f3-ab86-67393b883200",
   "metadata": {},
   "outputs": [],
   "source": []
  },
  {
   "cell_type": "code",
   "execution_count": null,
   "id": "032601c6-5d1d-4765-98c1-c04e0de35a40",
   "metadata": {},
   "outputs": [],
   "source": [
    "import statistics as stat\n",
    "fig,axes = plt.subplots(1,2,figsize=(10,6),layout='tight')\n",
    "#plt.subplot(121)\n",
    "# Visualization for Top & Bottom 20 Predictive Words in a review considered \"Negative\"\n",
    "#ax=plt.gca()\n",
    "\n",
    "plt.subplot(121)\n",
    "ax=axes[0]\n",
    "axes[0].set_title('44.4% Negatively Corellated Positive Reviews')\n",
    "palette = sns.diverging_palette(10,145,s=80,center=\"dark\", n=40)\n",
    "ax.set_facecolor('lightblue')\n",
    "sns.histplot(Xtf_pos.coef,palette=palette,ax=axes[0],stat='density')\n",
    "#ax = sns.histplot(Xtf_pos, kde=False, stat='density', label='samples')\n",
    "axes[0].tick_params(rotation=-60)\n",
    "#plt.axhline(y=0,color='maroon')\n",
    "plt.axvline(x=0,color='red')\n",
    "plt.axvline(x=0.22996,color='yellow')\n",
    "plt.axvline(x=-0.22996,color='yellow')\n",
    "axes[0].set_xlabel('Logistic Regression Coefficient')\n",
    "axes[0].set_ylabel('Counts')\n",
    "axes[0].set_ylim(0,3.75)\n",
    "plt.ylabel('Log.Reg. Coefficients')\n",
    "\n",
    "\n",
    "# Visualization for Top & Bottom 20 Predictive Words in a review considered \"Negative\"\n",
    "#ax=plt.gca()\n",
    "plt.subplot(122)\n",
    "ax1=axes[1]\n",
    "axes[1].set_title('41.1% Positively Corellated Negative Reviews')\n",
    "sns.histplot(Xtf_neg.coef,palette=palette,ax=axes[1],stat='density')\n",
    "palette = sns.diverging_palette(10,145,s=80,center=\"dark\", n=40)\n",
    "ax1.set_facecolor('lightblue')\n",
    "sns.color_palette()\n",
    "#ax.axhline(y=0,color='maroon')\n",
    "ax1.axvline(x=0,color='red')\n",
    "plt.axvline(x=0.22596,color='yellow')\n",
    "plt.axvline(x=-0.22596,color='yellow')\n",
    "axes[1].tick_params(labelrotation=-45)\n",
    "axes[1].set_xlabel('Logistic Regression Coefficient')\n",
    "axes[1].set_ylabel('Counts')\n",
    "axes[1].set_ylim(0,3.75)\n",
    "\n",
    "plt.suptitle('Distribution about in Positive (L) and Negative (R) Coefficient Distribution')\n",
    "plt.show()\n",
    "Xtc_Co['pos'].mean()"
   ]
  },
  {
   "cell_type": "markdown",
   "id": "09c39fbe-0da5-4695-8409-848aa98f3ce1",
   "metadata": {},
   "source": [
    "There is more insight to be gained from these visualizations that are presentable to a client, but that can be touched on later."
   ]
  },
  {
   "cell_type": "code",
   "execution_count": 219,
   "id": "86573219-7d5e-4a6a-8e2e-82f51bbc159e",
   "metadata": {},
   "outputs": [
    {
     "name": "stdout",
     "output_type": "stream",
     "text": [
      "0.22835056947569607\n"
     ]
    },
    {
     "data": {
      "text/plain": [
       "0.22183288120427933"
      ]
     },
     "execution_count": 219,
     "metadata": {},
     "output_type": "execute_result"
    }
   ],
   "source": [
    "# Standrd  deDev for both categories.\n",
    "print(stats.tstd(Xtf_pos.coef))\n",
    "stats.tstd(Xtf_neg.coef)"
   ]
  },
  {
   "cell_type": "code",
   "execution_count": null,
   "id": "5b868bf9-f46d-4fc1-8a26-654be24dfee5",
   "metadata": {
    "jupyter": {
     "source_hidden": true
    }
   },
   "outputs": [],
   "source": [
    "#Separating review types again to evaluate distribution\n",
    "Xtf_pos=Xtf_Co[Xtf_Co.review_type=='pos']\n",
    "Xtf_neg=Xtf_Co[Xtf_Co.review_type=='neg']"
   ]
  },
  {
   "cell_type": "code",
   "execution_count": 212,
   "id": "cff64925-e74b-4f19-83a8-35ae5cf6cca0",
   "metadata": {},
   "outputs": [
    {
     "name": "stdout",
     "output_type": "stream",
     "text": [
      "\"Positive\" Review commentary with negative Coefficients:  44.4 %\n",
      "\"Negative\" Review commentary with negative Coefficients:  41.4 %\n"
     ]
    }
   ],
   "source": [
    "pos_rev_neg_coef=(Xtf_pos[Xtf_pos.coef<0].coef.count()/500)\n",
    "neg_rev_pos_coef=(Xtf_neg[Xtf_neg.coef>0].coef.count()/500)\n",
    "print('\"Positive\" Review commentary with negative Coefficients: ',pos_rev_neg_coef*100,'%')\n",
    "print('\"Negative\" Review commentary with negative Coefficients: ',neg_rev_pos_coef*100,'%')"
   ]
  },
  {
   "cell_type": "code",
   "execution_count": 220,
   "id": "b91899f4-86ae-4091-abee-60f02395354d",
   "metadata": {
    "scrolled": true
   },
   "outputs": [
    {
     "name": "stdout",
     "output_type": "stream",
     "text": [
      "  ____           ____                     _     ____                                      _ \n",
      " / ___|   _     / ___| _ __   ___   __ _ | |_  / ___|  _   _   ___   ___   ___  ___  ___ | |\n",
      "| |     _| |_  | |  _ | '__| / _ \\ / _` || __| \\___ \\ | | | | / __| / __| / _ \\/ __|/ __|| |\n",
      "| |___ |_   _| | |_| || |   |  __/| (_| || |_   ___) || |_| || (__ | (__ |  __/\\__ \\\\__ \\|_|\n",
      " \\____|  |_|    \\____||_|    \\___| \\__,_| \\__| |____/  \\__,_| \\___| \\___| \\___||___/|___/(_)\n",
      "                                                                                            \n",
      "\n"
     ]
    }
   ],
   "source": [
    "tprint('C+ Great Success!')"
   ]
  },
  {
   "cell_type": "code",
   "execution_count": null,
   "id": "9142393d-3ea6-409b-8815-caa484bb6a79",
   "metadata": {},
   "outputs": [],
   "source": []
  },
  {
   "cell_type": "markdown",
   "id": "31534304-3dac-475c-aac0-88c3b27e2d79",
   "metadata": {},
   "source": [
    "_**But...what am I predicting here? This would be the top most impacting words in the negative or positive review features, correct?**_<br>\n",
    "Let's check"
   ]
  },
  {
   "cell_type": "markdown",
   "id": "c90264be-e052-4eba-b0d6-b006ef755803",
   "metadata": {},
   "source": [
    "Train and test scores are pretty close! Both are capable of producing the right results about 78.8% of the time.<br>\n",
    "This is in a unified model. With invidiual"
   ]
  },
  {
   "cell_type": "code",
   "execution_count": null,
   "id": "d5b78938-577f-4658-8d5b-721df7827315",
   "metadata": {},
   "outputs": [],
   "source": []
  },
  {
   "cell_type": "code",
   "execution_count": null,
   "id": "7c1d6816-2673-450f-8ab6-bb38a8196df0",
   "metadata": {},
   "outputs": [],
   "source": []
  },
  {
   "cell_type": "code",
   "execution_count": 221,
   "id": "e3ec0f44-0576-44b2-99fe-ae276da8047d",
   "metadata": {
    "scrolled": true
   },
   "outputs": [
    {
     "ename": "NameError",
     "evalue": "name 'df_name' is not defined",
     "output_type": "error",
     "traceback": [
      "\u001b[1;31m---------------------------------------------------------------------------\u001b[0m",
      "\u001b[1;31mNameError\u001b[0m                                 Traceback (most recent call last)",
      "Cell \u001b[1;32mIn[221], line 2\u001b[0m\n\u001b[0;32m      1\u001b[0m \u001b[38;5;66;03m# Sanity check?\u001b[39;00m\n\u001b[1;32m----> 2\u001b[0m df_name\n\u001b[0;32m      3\u001b[0m name_i\u001b[38;5;241m=\u001b[39m\u001b[38;5;241m0\u001b[39m\n\u001b[0;32m      4\u001b[0m df_name[\u001b[38;5;241m0\u001b[39m]\n",
      "\u001b[1;31mNameError\u001b[0m: name 'df_name' is not defined"
     ]
    }
   ],
   "source": [
    "# Sanity check?\n",
    "df_name\n",
    "name_i=0\n",
    "df_name[0]\n",
    "df_name"
   ]
  },
  {
   "cell_type": "markdown",
   "id": "0d88de83-b8d2-4894-83ab-dfc45130da5b",
   "metadata": {},
   "source": [
    "#### Word Count / Interpretations"
   ]
  },
  {
   "cell_type": "code",
   "execution_count": null,
   "id": "20e4b483-9673-4e7c-b0ab-f95720e8c3e6",
   "metadata": {},
   "outputs": [],
   "source": []
  },
  {
   "cell_type": "markdown",
   "id": "8f1ab14c-641f-48b3-8348-7e890e64a3e7",
   "metadata": {},
   "source": [
    "## Question 4 <a class=\"anchor\" name=\"Part4\"></a>"
   ]
  },
  {
   "cell_type": "markdown",
   "id": "f2e6eb26-18d1-4df6-96be-9c5956f41543",
   "metadata": {},
   "source": [
    "Using a pipeline, combine PCA with a decision tree classifier.\n",
    "\n",
    "Optimize at least 3 hyperparameters including the maximum tree depth and the minimum number of data points required on each leaf node.\n",
    "You can use 20 principle components.\n",
    "The best parameters should be found using 5-fold cross validation."
   ]
  },
  {
   "cell_type": "code",
   "execution_count": null,
   "id": "46c08d20-1a7f-4803-8115-1e299e2a60c9",
   "metadata": {},
   "outputs": [],
   "source": [
    "hotel_pipe=pd.read_csv('data/Hotel_Reviews.csv')"
   ]
  },
  {
   "cell_type": "markdown",
   "id": "ae044afe-b373-4ab6-b99f-f97bfdf2f506",
   "metadata": {},
   "source": [
    "Using a standard ML Pipeline Template, as provided in lecture:"
   ]
  },
  {
   "cell_type": "code",
   "execution_count": null,
   "id": "9568aebb-a850-4a10-96dc-3a5c25fc851a",
   "metadata": {},
   "outputs": [],
   "source": [
    "import numpy as np\n",
    "import pandas as pd\n",
    "import matplotlib.pyplot as plt\n",
    "\n",
    "#a bunch of imports!\n",
    "from sklearn.model_selection import train_test_split\n",
    "from sklearn.datasets import load_iris\n",
    "from sklearn.preprocessing import StandardScaler\n",
    "from sklearn.decomposition import PCA\n",
    "from sklearn.neighbors import KNeighborsClassifier\n",
    "\n",
    "# Ignore futurewarnings\n",
    "import warnings\n",
    "warnings.filterwarnings('ignore')\n",
    "\n",
    "#Load Data\n",
    "hotel_pipe=hotel.copy()\n",
    "hotel_pipe.drop(columns=['Positive_Review','Negative_Review'],inplace=True)\n",
    "hotel_pipe.isna().sum().sum()"
   ]
  },
  {
   "cell_type": "code",
   "execution_count": null,
   "id": "b963b7eb-42fe-4896-bcb3-b643c4aad064",
   "metadata": {},
   "outputs": [],
   "source": [
    "hotel_pipe"
   ]
  },
  {
   "cell_type": "code",
   "execution_count": null,
   "id": "f2563c41-cbfc-40c6-9f08-9e984e9d1bdb",
   "metadata": {},
   "outputs": [],
   "source": [
    "\n",
    "#########\n",
    "###### EDA #######\n",
    "#########\n",
    "\n",
    "# Split the data into train &  test\n",
    "X_train, X_test, y_train, y_test = train_test_split(\n",
    "    hotel[['Positive_Review','Negative_Review']],\n",
    "    hotel['Reviewer_Score'], \n",
    "    test_size=0.2, random_state=42)\n",
    "#######\n",
    "##### ETL #########\n",
    "#######\n",
    "\n",
    "#scale\n",
    "scaler = StandardScaler()\n",
    "scaler.fit(X_train)\n",
    "X_train = scaler.transform(X_train)\n",
    "\n",
    "########\n",
    "##### FEATURE DECOMPOSITION ##########\n",
    "########\n",
    "\n",
    "#decompose\n",
    "pca = PCA(n_components=20)\n",
    "pca.fit(X_train)\n",
    "X_train = pca.transform(X_train)\n",
    "\n",
    "#fit\n",
    "#knn = KNeighborsClassifier(n_neighbors=13)\n",
    "#model = knn.fit(X_train, y_train)\n",
    "\n",
    "print(f\"The Train score is: {model.score(X_train, y_train)}\")"
   ]
  },
  {
   "cell_type": "code",
   "execution_count": null,
   "id": "dc6620cc-0788-48e5-b5b6-a396c8466f27",
   "metadata": {},
   "outputs": [],
   "source": [
    "x_train.shape"
   ]
  },
  {
   "cell_type": "code",
   "execution_count": null,
   "id": "890804ee-2150-4b16-9708-247eb22fbdf1",
   "metadata": {},
   "outputs": [],
   "source": [
    "# Confirming the test/train set\n",
    "print(X_train.shape)\n",
    "X_test.shape"
   ]
  },
  {
   "cell_type": "code",
   "execution_count": null,
   "id": "e6dd7165-e9d5-40b3-a2c9-4776b7fafda2",
   "metadata": {},
   "outputs": [],
   "source": [
    "my_PCA=PCA()\n",
    "my_PCA.fit(X_train)"
   ]
  },
  {
   "cell_type": "code",
   "execution_count": null,
   "id": "c0183c20-5da6-44e5-ab01-cc76a74d4596",
   "metadata": {},
   "outputs": [],
   "source": [
    "X_train_PCA=my_PCA.transform(X_train)\n",
    "X_test_PCA=my_PCA.transform(X_test)"
   ]
  },
  {
   "cell_type": "code",
   "execution_count": null,
   "id": "2b8c7b09-d8b7-4024-bc2d-4d0e3e61f401",
   "metadata": {},
   "outputs": [],
   "source": [
    "print(X_train.shape)\n",
    "print(X_train_PCA.shape)"
   ]
  },
  {
   "cell_type": "code",
   "execution_count": null,
   "id": "b6290101-661d-4e42-862d-a195372dfd62",
   "metadata": {},
   "outputs": [],
   "source": [
    "print(f\"Variance captured by PC1: {my_PCA.explained_variance_[0]: 0.3f}\")\n",
    "print(f\"Variance captured by PC2: {my_PCA.explained_variance_[1]: 0.3f}\")\n",
    "\n",
    "print(f\"Proportion of variance captured by PC1: {my_PCA.explained_variance_ratio_[0]: 0.3f}\")\n",
    "print(f\"Proportion of variance captured by PC2: {my_PCA.explained_variance_ratio_[1]: 0.3f}\")"
   ]
  },
  {
   "cell_type": "markdown",
   "id": "c122aa10-4cfb-44d3-97a1-3028861f3c66",
   "metadata": {},
   "source": [
    "Only ~21% of variation in PC1.\n",
    "Only 12.4% of variation in PC2. \n",
    "Now going to look at Explained Var Ratio"
   ]
  },
  {
   "cell_type": "code",
   "execution_count": null,
   "id": "8fc87725-68a5-4ecf-87d2-49ccf3671f4f",
   "metadata": {},
   "outputs": [],
   "source": [
    "expl_var = my_PCA.explained_variance_ratio_\n"
   ]
  },
  {
   "cell_type": "code",
   "execution_count": null,
   "id": "2ee1f59d-7091-4fa1-82d3-46ed5af28d2e",
   "metadata": {},
   "outputs": [],
   "source": [
    "expl_var[:100]"
   ]
  },
  {
   "cell_type": "code",
   "execution_count": null,
   "id": "4f1a9ded-cb80-454e-82e2-cd8a1aa16415",
   "metadata": {},
   "outputs": [],
   "source": [
    "plt.figure()\n",
    "plt.plot(range(1,21),expl_var[:20],marker='.')\n",
    "plt.xlabel('Number of PCs')\n",
    "plt.ylabel('Proportion of Variance Explained')\n",
    "plt.xticks(range(1,21,1))\n",
    "plt.show()"
   ]
  },
  {
   "cell_type": "markdown",
   "id": "06c830fb-5964-497e-9756-e2765fe28151",
   "metadata": {},
   "source": [
    "Scree shows that after 3 PC variance additional Variance Explained becomes pretty minimal"
   ]
  },
  {
   "cell_type": "code",
   "execution_count": null,
   "id": "f20b4671-3148-4913-8855-ecc4075670c8",
   "metadata": {},
   "outputs": [],
   "source": [
    "cum_sum=np.cumsum(expl_var)"
   ]
  },
  {
   "cell_type": "code",
   "execution_count": null,
   "id": "20a3f882-2e41-4b8d-bd4a-37a1bd88b984",
   "metadata": {},
   "outputs": [],
   "source": [
    "cum_sum"
   ]
  },
  {
   "cell_type": "code",
   "execution_count": null,
   "id": "8021db92-dde8-4957-9b3c-5c3ff2294037",
   "metadata": {},
   "outputs": [],
   "source": [
    "# Plot out the cumulative sum graph\n",
    "\n",
    "plt.figure()\n",
    "plt.plot(range(1,100), cum_sum[:99], marker='.')\n",
    "plt.axhline(0.9, c='r', linestyle='--')\n",
    "plt.xlabel('Number of PCs')\n",
    "plt.ylabel('Cumulative Sum of Explained Variance')\n",
    "plt.xticks(range(1,21,2))\n",
    "plt.show()"
   ]
  },
  {
   "cell_type": "code",
   "execution_count": null,
   "id": "847b77c5-33d9-45d7-825e-851c7a910abd",
   "metadata": {},
   "outputs": [],
   "source": []
  },
  {
   "cell_type": "code",
   "execution_count": null,
   "id": "ec8e4fe3-ee86-4b9a-8bf2-64790d5f196d",
   "metadata": {},
   "outputs": [],
   "source": []
  },
  {
   "cell_type": "code",
   "execution_count": null,
   "id": "f903d705-89e3-4ebc-84aa-63252d8d798e",
   "metadata": {},
   "outputs": [],
   "source": []
  },
  {
   "cell_type": "code",
   "execution_count": null,
   "id": "5f44ccf7-9f9d-40e5-95cc-4c6f25740ae3",
   "metadata": {},
   "outputs": [],
   "source": []
  },
  {
   "cell_type": "code",
   "execution_count": null,
   "id": "e3527104-ec9c-40d6-9940-1ae887c4e0a0",
   "metadata": {},
   "outputs": [],
   "source": []
  },
  {
   "cell_type": "markdown",
   "id": "ff3c83f7-dc2e-48d6-880d-5eacbfd29263",
   "metadata": {
    "jp-MarkdownHeadingCollapsed": true
   },
   "source": [
    "## Scrap"
   ]
  },
  {
   "cell_type": "code",
   "execution_count": null,
   "id": "707dc1e4-78a5-460b-a49a-867d54a396ee",
   "metadata": {},
   "outputs": [],
   "source": [
    "hotel[hotel.columns[24:28]].sum()/hotel[hotel.columns[24:29]].sum().sum()"
   ]
  },
  {
   "cell_type": "code",
   "execution_count": null,
   "id": "bf759bdc-af87-4fc9-9344-c05cfe54fb37",
   "metadata": {},
   "outputs": [],
   "source": [
    "hotel['Hotel_Address_Other']=pd.merge([hotel['Hotel_Address_Vienna'],hotel['Hotel_Address_Milan']])\n",
    "hotel_df=hotel.drop(columns=['Hotel_Address_Milan','Hotel_Address_Vienna'])\n",
    "hotel_df"
   ]
  },
  {
   "cell_type": "code",
   "execution_count": null,
   "id": "21df9615-dcdf-4635-b2e7-886fd9261524",
   "metadata": {},
   "outputs": [],
   "source": [
    "X_train_tb20=pd.concat([X_train[Xtf_Co.feat2.head(20)],X_train[Xtf_Co.feat2.tail(20)]],axis=1).fillna('0').astype(dtype=int)"
   ]
  },
  {
   "cell_type": "code",
   "execution_count": null,
   "id": "4b91b0da-211c-48e6-8ce5-de52745c0107",
   "metadata": {},
   "outputs": [],
   "source": [
    "from sklearn.feature_extraction.text import TfidfVectorizer\n",
    "\n",
    "# Sample text data\n",
    "X_train\n",
    "\n",
    "# Create a TF-IDF vectorizer\n",
    "vectorizer = TfidfVectorizer()\n",
    "\n",
    "# Fit and transform the data\n",
    "X = vectorizer.fit_transform(X_train)\n",
    "\n",
    "# Print the resulting TF-IDF matrix\n",
    "print(X.toarray())"
   ]
  },
  {
   "cell_type": "code",
   "execution_count": null,
   "id": "70bcef06-716e-45f4-86da-215ac64e6ce5",
   "metadata": {},
   "outputs": [],
   "source": [
    "import "
   ]
  },
  {
   "cell_type": "code",
   "execution_count": null,
   "id": "426595b1-b08b-4ef2-a583-5948485ce69a",
   "metadata": {},
   "outputs": [],
   "source": [
    "test_neg=pd.DataFrame()"
   ]
  },
  {
   "cell_type": "code",
   "execution_count": null,
   "id": "d3b7aa89-ceb8-47e6-b4a9-387e64d48092",
   "metadata": {},
   "outputs": [],
   "source": [
    "test_neg['coef']=neg_coef\n",
    "test_neg['names']=neg_coef_names"
   ]
  },
  {
   "cell_type": "code",
   "execution_count": null,
   "id": "65bb1c3a-c5e4-4c36-aa59-7db1a6e5254a",
   "metadata": {},
   "outputs": [],
   "source": [
    "test_neg.sort_values(by='coef',ascending=False)"
   ]
  },
  {
   "cell_type": "code",
   "execution_count": null,
   "id": "561976fc-3757-46d3-bff3-a440a9b442d6",
   "metadata": {},
   "outputs": [],
   "source": [
    "neg_words.sort_values(ascending=False)"
   ]
  },
  {
   "cell_type": "code",
   "execution_count": null,
   "id": "efe0af6a-f47b-4f75-95a0-2abaf72f4408",
   "metadata": {},
   "outputs": [],
   "source": [
    "print('df:',sys.getsizeof(test_neg))\n",
    "print('s:',sys.getsizeof(neg_words))"
   ]
  },
  {
   "cell_type": "code",
   "execution_count": null,
   "id": "90d30202-0911-4966-9530-507305750fb4",
   "metadata": {},
   "outputs": [],
   "source": [
    "X_final_reversed.info()"
   ]
  },
  {
   "cell_type": "code",
   "execution_count": null,
   "id": "e0aee0be-6780-4d41-b6b0-b361d17efc5a",
   "metadata": {},
   "outputs": [],
   "source": [
    "X_final_reversed.index"
   ]
  },
  {
   "cell_type": "code",
   "execution_count": null,
   "id": "1d1e0d85-0e8b-497c-8cc8-631e658b32ca",
   "metadata": {},
   "outputs": [],
   "source": [
    "test_neg.iloc[1]"
   ]
  },
  {
   "cell_type": "code",
   "execution_count": null,
   "id": "8e9068d6-eeec-4368-9194-5b2c4476b7ad",
   "metadata": {},
   "outputs": [],
   "source": [
    "X_train_"
   ]
  },
  {
   "cell_type": "code",
   "execution_count": null,
   "id": "82600e88-bf48-467e-8065-89a4bfe5eacc",
   "metadata": {},
   "outputs": [],
   "source": [
    "x_final_coef['coef']=log_reg.coef_"
   ]
  },
  {
   "cell_type": "code",
   "execution_count": null,
   "id": "cb38a4af-2824-462e-b123-3e5d67a08acf",
   "metadata": {},
   "outputs": [],
   "source": [
    "X_train_reversed"
   ]
  },
  {
   "cell_type": "code",
   "execution_count": null,
   "id": "f7857ddc-a7db-41a1-8be9-c7eec96c115c",
   "metadata": {},
   "outputs": [],
   "source": [
    "sys.getsizeof(X_train)"
   ]
  },
  {
   "cell_type": "code",
   "execution_count": null,
   "id": "d6625f7b-b4e2-451c-b7dd-4f290363b1ac",
   "metadata": {},
   "outputs": [],
   "source": [
    "print(X_train.info())\n",
    "X_train.index"
   ]
  },
  {
   "cell_type": "code",
   "execution_count": null,
   "id": "792bb64a-da04-44d2-aa76-10364fa33dc6",
   "metadata": {},
   "outputs": [],
   "source": []
  },
  {
   "cell_type": "code",
   "execution_count": null,
   "id": "b955017c-6d2b-42d9-afdd-3df2f8f60b7c",
   "metadata": {},
   "outputs": [],
   "source": [
    "print(X_final_reversed.info())\n",
    "X_final_reversed.index"
   ]
  },
  {
   "cell_type": "markdown",
   "id": "763e66bf-5d8c-43e5-88e9-9e56a96e06a9",
   "metadata": {},
   "source": [
    "len(hotel_neg[hotel_neg.Positive_Review=='No Positive'])"
   ]
  },
  {
   "cell_type": "code",
   "execution_count": null,
   "id": "a60503de-c077-459a-b07a-3c70a31b9ca2",
   "metadata": {},
   "outputs": [],
   "source": [
    "hotel.groupby(['Additional_Number_of_Scoring','Total_Number_of_Reviews','Average_Score']).Nights_Stayed.mean()"
   ]
  },
  {
   "cell_type": "code",
   "execution_count": null,
   "id": "9e49b665-9988-42c8-847e-458d76e63f74",
   "metadata": {},
   "outputs": [],
   "source": [
    "hotel['Positive_Review',"
   ]
  },
  {
   "cell_type": "code",
   "execution_count": null,
   "id": "1a010006-2907-4000-bef2-1fe55f787eb6",
   "metadata": {},
   "outputs": [],
   "source": [
    "len(hotel_neg[hotel_neg.Negative_Review=='No Negative'])"
   ]
  },
  {
   "cell_type": "code",
   "execution_count": null,
   "id": "a6ab88f9-abbd-4533-aaa6-63a038ff8198",
   "metadata": {},
   "outputs": [],
   "source": [
    "len(hotel_pos[hotel_pos.Positive_Review=='No Positive'])"
   ]
  },
  {
   "cell_type": "code",
   "execution_count": null,
   "id": "33c274c1-4409-41ff-8602-6cd8dd404a3a",
   "metadata": {},
   "outputs": [],
   "source": [
    "hotel_neg[hotel_neg.Negative_Review=='No Negative']"
   ]
  }
 ],
 "metadata": {
  "kernelspec": {
   "display_name": "base_env",
   "language": "python",
   "name": "base_env"
  },
  "language_info": {
   "codemirror_mode": {
    "name": "ipython",
    "version": 3
   },
   "file_extension": ".py",
   "mimetype": "text/x-python",
   "name": "python",
   "nbconvert_exporter": "python",
   "pygments_lexer": "ipython3",
   "version": "3.11.5"
  },
  "widgets": {
   "application/vnd.jupyter.widget-state+json": {
    "state": {},
    "version_major": 2,
    "version_minor": 0
   }
  }
 },
 "nbformat": 4,
 "nbformat_minor": 5
}
